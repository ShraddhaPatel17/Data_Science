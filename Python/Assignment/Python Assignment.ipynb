{
 "cells": [
  {
   "cell_type": "markdown",
   "metadata": {},
   "source": [
    "## Python Assignment"
   ]
  },
  {
   "cell_type": "markdown",
   "metadata": {},
   "source": [
    "1) What are the types of Applications?\n",
    "\n",
    "Ans. Python is a versatile programming language that can be used to create various types of applications, including:\n",
    "1.\tWeb Development\n",
    "2.\tMachine Learning\n",
    "3.\tDesktop GUI\n",
    "4.\tGame Development\n",
    "5.\tData Science\n",
    "6.\tSoftware Development\n",
    "7.\tBusiness applications\n",
    "8.\tEmbedded System\n",
    "9.\tBlockchain Applications"
   ]
  },
  {
   "cell_type": "markdown",
   "metadata": {},
   "source": [
    "2) What is programing? \n",
    "\n",
    "Ans. Programming is the process of writing instructions or code that tells a computer that how to perform a task."
   ]
  },
  {
   "cell_type": "markdown",
   "metadata": {},
   "source": [
    "3) What is Python? \n",
    "\n",
    "Ans. Python is an interpreted, object-oriented, high-level programming language with dynamic semantics developed by Guido Van Rossum. It was originally released in 1991."
   ]
  },
  {
   "cell_type": "markdown",
   "metadata": {},
   "source": [
    "4) Write a Python program to check if a number is positive, negative or \n",
    "zero."
   ]
  },
  {
   "cell_type": "code",
   "execution_count": 11,
   "metadata": {},
   "outputs": [
    {
     "name": "stdout",
     "output_type": "stream",
     "text": [
      "-45.0 is negative\n"
     ]
    }
   ],
   "source": [
    "num = float(input(\"Enter a number : \"))\n",
    "if num > 0 :\n",
    "    print(num,\"is positive\")\n",
    "elif num < 0 :\n",
    "    print(num,\"is negative\")\n",
    "else : \n",
    "    print(\"You entered zero\") "
   ]
  },
  {
   "cell_type": "markdown",
   "metadata": {},
   "source": [
    "5)Write a Python program to get the Factorial number of given numbers. "
   ]
  },
  {
   "cell_type": "code",
   "execution_count": 21,
   "metadata": {},
   "outputs": [
    {
     "name": "stdout",
     "output_type": "stream",
     "text": [
      "Factorial of 5 is 120\n"
     ]
    }
   ],
   "source": [
    "num = int(input(\"Enter a number to calculate factorial : \"))\n",
    "fact = 1\n",
    "for i in range(1,num+1):\n",
    "    fact = fact * i\n",
    "print(\"Factorial of\",num,\"is\",fact)"
   ]
  },
  {
   "cell_type": "markdown",
   "metadata": {},
   "source": [
    "6)Write a Python program to get the Fibonacci series of given range. "
   ]
  },
  {
   "cell_type": "code",
   "execution_count": 25,
   "metadata": {},
   "outputs": [
    {
     "name": "stdout",
     "output_type": "stream",
     "text": [
      "1 2 3 5 8 13 21 34 55 89 "
     ]
    }
   ],
   "source": [
    "num = int(input(\"Enter a number to calculate fibonacci series : \"))\n",
    "num1 = 0\n",
    "num2 = 1\n",
    "next_num = num2\n",
    "count = 1\n",
    "while count <= num :\n",
    "    print(next_num, end=\" \")\n",
    "    count += 1\n",
    "    num1 = num2\n",
    "    num2 = next_num\n",
    "    next_num = num1 + num2"
   ]
  },
  {
   "cell_type": "markdown",
   "metadata": {},
   "source": [
    "7) How memory is managed in Python? \n",
    "\n",
    "Ans. Python memory management is handled automatically, saving you from the complexities of manual memory allocation and deallocation. Here's a breakdown of the key mechanisms:\n",
    "\n",
    "1. Garbage Collection:\n",
    "Garbage Collection is a process in which interpreter frees up the memory when not in use to make it available for other objects.\n",
    "\n",
    "2. Reference Counting:\n",
    "Reference Counting works by counting the number of times object is referenced by the other objects in the system. When references to an object are removed, the refernce count for an object is decremented. When refernce count becomes zero, the object is deallocated.\n",
    "\n",
    "3. Stack Memory:\n",
    "The allocation happens on contiguous blocks of memory. We call it stack memory allocation because the allocation happens in the function call stack. The size of memory to be allocated is known to the compiler and whenever a functiona is called, its variables gets memory allocated on the stack.\n",
    "\n",
    "4. Heap Memory:\n",
    "The memory is allocated during the execution of instructions written by the programmers. It is called heap because it is a pile of memory space available to programmers to allocated and de-allocate. The variable are needed ouside of the method or function calls are shared within multiple functions globally are stored in heap memory."
   ]
  },
  {
   "cell_type": "markdown",
   "metadata": {},
   "source": [
    "8) What is the purpose continuing statement in python? \n",
    "\n",
    "Ans. Python Continue Statement skips the execution of the program block after the continue statement and forces the control to start the next iteration."
   ]
  },
  {
   "cell_type": "code",
   "execution_count": 26,
   "metadata": {},
   "outputs": [
    {
     "name": "stdout",
     "output_type": "stream",
     "text": [
      "1\n",
      "2\n",
      "3\n",
      "4\n",
      "5\n",
      "7\n",
      "8\n",
      "9\n",
      "10\n"
     ]
    }
   ],
   "source": [
    "# Example\n",
    "for i in range(1,11):\n",
    "    if i==6:\n",
    "        continue\n",
    "    else:\n",
    "        print(i)"
   ]
  },
  {
   "cell_type": "markdown",
   "metadata": {},
   "source": [
    "9) Write python program that swap two number with temp variable and without temp variable. "
   ]
  },
  {
   "cell_type": "code",
   "execution_count": 28,
   "metadata": {},
   "outputs": [
    {
     "name": "stdout",
     "output_type": "stream",
     "text": [
      "Before Swapping :\n",
      "Value of num1 = 23 and num2 =  45\n",
      "After Swapping :\n",
      "Value of num1 =  45 and num2 = 23\n"
     ]
    }
   ],
   "source": [
    "# Swap 2 numbers with temp variable\n",
    "num1 = int(input(\"Enter 1st number : \"))\n",
    "num2 = int(input(\"Enter 2nd number : \"))\n",
    "print(\"Before Swapping :\")\n",
    "print(\"Value of num1 =\",num1,\"and num2 = \",num2)\n",
    "temp = num1\n",
    "num1 = num2\n",
    "num2 = temp\n",
    "print(\"After Swapping :\")\n",
    "print(\"Value of num1 = \",num1,\"and num2 =\",num2)\n"
   ]
  },
  {
   "cell_type": "code",
   "execution_count": 32,
   "metadata": {},
   "outputs": [
    {
     "name": "stdout",
     "output_type": "stream",
     "text": [
      "Before Swapping :\n",
      "Value of num1 = 23 and num2 =  45\n",
      "After Swapping :\n",
      "Value of num1 =  45 and num2 = 23\n"
     ]
    }
   ],
   "source": [
    "# Swap 2 numbers without temp variable\n",
    "num1 = int(input(\"Enter 1st number : \"))\n",
    "num2 = int(input(\"Enter 2nd number : \"))\n",
    "print(\"Before Swapping :\")\n",
    "print(\"Value of num1 =\",num1,\"and num2 = \",num2)\n",
    "num1 = num1 + num2\n",
    "num2 = num1 - num2\n",
    "num1 = num1 - num2\n",
    "print(\"After Swapping :\")\n",
    "print(\"Value of num1 = \",num1,\"and num2 =\",num2)"
   ]
  },
  {
   "cell_type": "markdown",
   "metadata": {},
   "source": [
    "10) Write a Python program to find whether a given number is even \n",
    "or odd, print out an appropriate message to the user. "
   ]
  },
  {
   "cell_type": "code",
   "execution_count": 56,
   "metadata": {},
   "outputs": [
    {
     "name": "stdout",
     "output_type": "stream",
     "text": [
      "45 is odd number\n"
     ]
    }
   ],
   "source": [
    "num = input(\"Enter a number : \")\n",
    "if num.isdigit():\n",
    "    num = int(num)\n",
    "    if num%2 == 0:\n",
    "        print(num,\"is even number\")\n",
    "    else:\n",
    "        print(num,\"is odd number\")\n",
    "else:\n",
    "    print(\"Invalid Input\")"
   ]
  },
  {
   "cell_type": "markdown",
   "metadata": {},
   "source": [
    "11) Write a Python program to test whether a passed letter is a vowel \n",
    "or not. \n"
   ]
  },
  {
   "cell_type": "code",
   "execution_count": 74,
   "metadata": {},
   "outputs": [
    {
     "name": "stdout",
     "output_type": "stream",
     "text": [
      "I is vowel\n"
     ]
    }
   ],
   "source": [
    "char = input(\"Enter a character to check vowel or not : \")\n",
    "\n",
    "if char in ('A','E','I','O','U','a','e','i','o','u'):\n",
    "    print(char,\"is vowel\")\n",
    "else:\n",
    "    print(char,\"is consonant\")"
   ]
  },
  {
   "cell_type": "markdown",
   "metadata": {},
   "source": [
    "12) Write a Python program to sum of three given integers. However, if \n",
    "two values are equal sum will be zero. "
   ]
  },
  {
   "cell_type": "code",
   "execution_count": null,
   "metadata": {},
   "outputs": [
    {
     "name": "stdout",
     "output_type": "stream",
     "text": [
      "0\n"
     ]
    }
   ],
   "source": [
    "num1 = int(input(\"Enter 1st number : \"))\n",
    "num2 = int(input(\"Enter 2nd number : \"))\n",
    "num3 = int(input(\"Enter 3rd number : \"))\n",
    "if num1 == num2:\n",
    "    print(0)\n",
    "elif num1 == num3:\n",
    "    print(0)\n",
    "elif num2 == num3:\n",
    "    print(0)\n",
    "else:\n",
    "    sum = num1 + num2 + num3\n",
    "    print(sum)"
   ]
  },
  {
   "cell_type": "markdown",
   "metadata": {},
   "source": [
    "13) Write a Python program that will return true if the two given \n",
    "integer values are equal or their sum or difference is 5. "
   ]
  },
  {
   "cell_type": "code",
   "execution_count": 97,
   "metadata": {},
   "outputs": [
    {
     "name": "stdout",
     "output_type": "stream",
     "text": [
      "True\n"
     ]
    }
   ],
   "source": [
    "num1 = int(input(\"Enter 1st number : \"))\n",
    "num2 = int(input(\"Enter 2nd number : \"))\n",
    "if num1 == num2 == 5:\n",
    "    print(True)\n",
    "elif (num1 + num2) == 5:\n",
    "    print(True)\n",
    "elif (num1 - num2) == 5:\n",
    "    print(True)\n",
    "else:\n",
    "    print(False)"
   ]
  },
  {
   "cell_type": "markdown",
   "metadata": {},
   "source": [
    "14)Write a python program to sum of the first n positive integers. "
   ]
  },
  {
   "cell_type": "code",
   "execution_count": 125,
   "metadata": {},
   "outputs": [
    {
     "name": "stdout",
     "output_type": "stream",
     "text": [
      "Sum of first 10 numbers is 55\n"
     ]
    }
   ],
   "source": [
    "num = int(input(\"Enter a number : \"))\n",
    "sum = 0\n",
    "if num > 0:\n",
    "    for i in range(0, num+1):\n",
    "        sum += i\n",
    "    print(\"Sum of first\",num,\"numbers is\",sum)\n",
    "elif num < 0:\n",
    "    print(num,\"is negative number\")\n",
    "else:\n",
    "    print(0)"
   ]
  },
  {
   "cell_type": "markdown",
   "metadata": {},
   "source": [
    "15)Write a Python program to calculate the length of a string. "
   ]
  },
  {
   "cell_type": "code",
   "execution_count": 129,
   "metadata": {},
   "outputs": [
    {
     "name": "stdout",
     "output_type": "stream",
     "text": [
      "Entered string : Shraddha \n",
      "Length of a given string : 8\n"
     ]
    }
   ],
   "source": [
    "s1 = input(\"Enter a string to calculate the length : \")\n",
    "print(\"Entered string :\",s1,\"\\nLength of a given string :\",len(s1))"
   ]
  },
  {
   "cell_type": "markdown",
   "metadata": {},
   "source": [
    "16) Write a Python program to count the number of characters \n",
    "(character frequency) in a string \n"
   ]
  },
  {
   "cell_type": "code",
   "execution_count": 132,
   "metadata": {},
   "outputs": [
    {
     "name": "stdout",
     "output_type": "stream",
     "text": [
      "Entered string : Shraddha \n",
      "Frequency of a given character 'a' : 2\n"
     ]
    }
   ],
   "source": [
    "s1 = input(\"Enter a string to calculate the frequency of character : \")\n",
    "print(\"Entered string :\",s1,\"\\nFrequency of a given character 'a' :\",s1.count('a'))"
   ]
  },
  {
   "cell_type": "markdown",
   "metadata": {},
   "source": [
    "17)What are negative indexes and why are they used? \n",
    "\n",
    "Ans. Negative indexing allows you to accessing the elements of a sequence from the end using negative numbers as indexes. This can be useful for getting last few elements of a sequence or a list in which we don't know the exact position of that elements, reversing a sequence, or performing other operations that require accessing elements from the end."
   ]
  },
  {
   "cell_type": "markdown",
   "metadata": {},
   "source": [
    "18)Write a Python program to count occurrences of a substring in a string"
   ]
  },
  {
   "cell_type": "code",
   "execution_count": 2,
   "metadata": {},
   "outputs": [
    {
     "name": "stdout",
     "output_type": "stream",
     "text": [
      "The substring 'l' occurs 3 times in the string.\n"
     ]
    }
   ],
   "source": [
    "string = input(\"Enter the main string: \")\n",
    "substring = input(\"Enter the substring to count: \")\n",
    "\n",
    "count = string.count(substring)\n",
    "\n",
    "print(f\"The substring '{substring}' occurs {count} times in the string.\")"
   ]
  },
  {
   "cell_type": "markdown",
   "metadata": {},
   "source": [
    "19) Write a Python program to count the occurrences of each word in a \n",
    "given sentence "
   ]
  },
  {
   "cell_type": "code",
   "execution_count": 3,
   "metadata": {},
   "outputs": [
    {
     "name": "stdout",
     "output_type": "stream",
     "text": [
      "Word count:\n",
      "'Python': 2\n",
      "'is': 2\n",
      "'great': 1\n",
      "'and': 1\n",
      "'easy': 1\n"
     ]
    }
   ],
   "source": [
    "sentence = input(\"Enter a sentence: \")\n",
    "\n",
    "words = sentence.split()\n",
    "\n",
    "word_count = {}\n",
    "\n",
    "for word in words:\n",
    "    word_count[word] = word_count.get(word, 0) + 1\n",
    "\n",
    "print(\"Word count:\")\n",
    "for word, count in word_count.items():\n",
    "    print(f\"'{word}': {count}\")"
   ]
  },
  {
   "cell_type": "markdown",
   "metadata": {},
   "source": [
    "20) Write a Python program to get a single string from two given strings, \n",
    "separated by a space and swap the first two characters of each string. "
   ]
  },
  {
   "cell_type": "code",
   "execution_count": 1,
   "metadata": {},
   "outputs": [
    {
     "name": "stdout",
     "output_type": "stream",
     "text": [
      "eHllo oWrld\n"
     ]
    }
   ],
   "source": [
    "s1 = input(\"Enter 1st string : \")\n",
    "s2 = input(\"Enter 2nd string : \")\n",
    "if len(s1) >= 2 and len(s2) >= 2:\n",
    "    s3 = (s1[1] + s1[0] + s1[2:]) + \" \" + (s2[1] + s2[0] + s2[2:])\n",
    "    print(s3)\n",
    "else:\n",
    "    print(\"Length of 1st string\",s1,\"=\",len(s1),\"and Length of 2snd string\",s2,\"=\",len(s2))"
   ]
  },
  {
   "cell_type": "markdown",
   "metadata": {},
   "source": [
    "21) Write a Python program to add 'in' at the end of a given string (length \n",
    "should be at least 3). If the given string already ends with 'ing' then \n",
    "add 'ly' instead if the string length of the given string is less than 3, \n",
    "leave it unchanged. "
   ]
  },
  {
   "cell_type": "code",
   "execution_count": 8,
   "metadata": {},
   "outputs": [
    {
     "name": "stdout",
     "output_type": "stream",
     "text": [
      "swimmingly\n"
     ]
    }
   ],
   "source": [
    "string = input(\"Enter a string: \")\n",
    "if len(string) < 3:\n",
    "    print(string)  # If the length of the string is less than 3, return it unchanged\n",
    "elif string.endswith(\"ing\"):\n",
    "    print(string + \"ly\")  # If the string ends with 'ing', add 'ly'\n",
    "else:\n",
    "    print(string + \"in\")"
   ]
  },
  {
   "cell_type": "markdown",
   "metadata": {},
   "source": [
    "22) Write a Python function to reverses a string if its length is a multiple \n",
    "of 4. \n"
   ]
  },
  {
   "cell_type": "code",
   "execution_count": 19,
   "metadata": {},
   "outputs": [
    {
     "name": "stdout",
     "output_type": "stream",
     "text": [
      "ahddarhS\n"
     ]
    }
   ],
   "source": [
    "def reverse_if_multiple_of_four(input_string):\n",
    "    if len(input_string) % 4 == 0:\n",
    "        return input_string[::-1]\n",
    "    return input_string\n",
    "\n",
    "string = input(\"Enter a string: \")\n",
    "result = reverse_if_multiple_of_four(string)\n",
    "print(result)"
   ]
  },
  {
   "cell_type": "markdown",
   "metadata": {},
   "source": [
    "23) Write a Python program to get a string made of the first 2 and the last \n",
    "2 chars from a given a string. If the string length is less than 2, return \n",
    "instead of the empty string. "
   ]
  },
  {
   "cell_type": "code",
   "execution_count": 18,
   "metadata": {},
   "outputs": [
    {
     "name": "stdout",
     "output_type": "stream",
     "text": [
      "helo\n"
     ]
    }
   ],
   "source": [
    "string = input(\"Enter a string: \")\n",
    "if len(string) < 2:\n",
    "    print(string)\n",
    "print(string[:2] + string[-2:])"
   ]
  },
  {
   "cell_type": "markdown",
   "metadata": {},
   "source": [
    "24)Write a Python function to insert a string in the middle of a string. \n"
   ]
  },
  {
   "cell_type": "code",
   "execution_count": 24,
   "metadata": {},
   "outputs": [
    {
     "name": "stdout",
     "output_type": "stream",
     "text": [
      "hello python world\n"
     ]
    }
   ],
   "source": [
    "def insert_in_middle(original_string, string_to_insert):\n",
    "    middle_index = len(original_string) // 2\n",
    "    return original_string[:middle_index] + \" \" + string_to_insert + original_string[middle_index:]\n",
    "\n",
    "original = input(\"Enter the original string: \")\n",
    "insert = input(\"Enter the string to insert: \")\n",
    "result = insert_in_middle(original, insert)\n",
    "print(result)"
   ]
  },
  {
   "cell_type": "markdown",
   "metadata": {},
   "source": [
    "25)What is List? How will you reverse a list? \n",
    "\n",
    "Ans. A list in Python is a collection of items that are ordered, changeable, and allow duplicate values. It is defined using square brackets [ ].\n",
    "\n",
    "To reverse a list, you can use slicing or the reverse() method."
   ]
  },
  {
   "cell_type": "code",
   "execution_count": 25,
   "metadata": {},
   "outputs": [
    {
     "name": "stdout",
     "output_type": "stream",
     "text": [
      "[5, 4, 3, 2, 1]\n",
      "[5, 4, 3, 2, 1]\n"
     ]
    }
   ],
   "source": [
    "# Example\n",
    "# Reversing a list using slicing\n",
    "my_list = [1, 2, 3, 4, 5]\n",
    "reversed_list = my_list[::-1]\n",
    "print(reversed_list)\n",
    "\n",
    "# Reversing a list using the reverse() method\n",
    "my_list.reverse()\n",
    "print(my_list)"
   ]
  },
  {
   "cell_type": "markdown",
   "metadata": {},
   "source": [
    "26)How will you remove last object from a list? \n",
    "\n",
    "Ans. You can remove the last element of a list using the pop() method:"
   ]
  },
  {
   "cell_type": "code",
   "execution_count": 26,
   "metadata": {},
   "outputs": [
    {
     "name": "stdout",
     "output_type": "stream",
     "text": [
      "[1, 2, 3, 4]\n"
     ]
    }
   ],
   "source": [
    "# Example\n",
    "my_list = [1, 2, 3, 4, 5]\n",
    "my_list.pop()\n",
    "print(my_list)"
   ]
  },
  {
   "cell_type": "markdown",
   "metadata": {},
   "source": [
    "27)Suppose list1 is [2, 33, 222, 14, and 25], what is list1 [-1]? \n",
    "\n",
    "Ans. list1[-1] refers to the last element of the list. In this case, list1[-1] is 25.\n"
   ]
  },
  {
   "cell_type": "code",
   "execution_count": 27,
   "metadata": {},
   "outputs": [
    {
     "data": {
      "text/plain": [
       "25"
      ]
     },
     "execution_count": 27,
     "metadata": {},
     "output_type": "execute_result"
    }
   ],
   "source": [
    "list1 = [2,33,222,14,25]\n",
    "list1[-1]"
   ]
  },
  {
   "cell_type": "markdown",
   "metadata": {},
   "source": [
    "28)Differentiate between append () and extend () methods? \n",
    "\n",
    "Ans. append(): Adds a single element to the end of the list.\n",
    "\n",
    "extend(): Adds multiple elements (from another list or iterable) to the end of the list."
   ]
  },
  {
   "cell_type": "code",
   "execution_count": 29,
   "metadata": {},
   "outputs": [
    {
     "name": "stdout",
     "output_type": "stream",
     "text": [
      "[1, 2, 3, 4, 5, 6]\n"
     ]
    }
   ],
   "source": [
    "# Example \n",
    "my_list = [1, 2, 3]\n",
    "my_list.append(4)\n",
    "my_list.extend([5, 6])\n",
    "print(my_list)"
   ]
  },
  {
   "cell_type": "markdown",
   "metadata": {},
   "source": [
    "29) Write a Python function to get the largest number, smallest num \n",
    "and sum of all from a list. "
   ]
  },
  {
   "cell_type": "code",
   "execution_count": 30,
   "metadata": {},
   "outputs": [
    {
     "name": "stdout",
     "output_type": "stream",
     "text": [
      "Largest: 222, Smallest: 2, Sum: 296\n"
     ]
    }
   ],
   "source": [
    "def list_statistics(numbers):\n",
    "    largest = max(numbers)\n",
    "    smallest = min(numbers)\n",
    "    total_sum = sum(numbers)\n",
    "    return largest, smallest, total_sum\n",
    "\n",
    "numbers = [2, 33, 222, 14, 25]\n",
    "largest, smallest, total_sum = list_statistics(numbers)\n",
    "print(f\"Largest: {largest}, Smallest: {smallest}, Sum: {total_sum}\")"
   ]
  },
  {
   "cell_type": "markdown",
   "metadata": {},
   "source": [
    "30)How will you compare two lists? \n",
    "\n",
    "Ans. You can compare two lists using the equality operator (==) to check if they are the same or use other methods for more complex comparisons."
   ]
  },
  {
   "cell_type": "code",
   "execution_count": 31,
   "metadata": {},
   "outputs": [
    {
     "name": "stdout",
     "output_type": "stream",
     "text": [
      "True\n",
      "False\n"
     ]
    }
   ],
   "source": [
    "# Example\n",
    "list1 = [1, 2, 3]\n",
    "list2 = [1, 2, 3]\n",
    "list3 = [4, 5, 6]\n",
    "\n",
    "print(list1 == list2)  \n",
    "print(list1 == list3)"
   ]
  },
  {
   "cell_type": "markdown",
   "metadata": {},
   "source": [
    "31) Write a Python program to count the number of strings where the string \n",
    "length is 2 or more and the first and last character are same from a given list \n",
    "of strings. "
   ]
  },
  {
   "cell_type": "code",
   "execution_count": 34,
   "metadata": {},
   "outputs": [
    {
     "name": "stdout",
     "output_type": "stream",
     "text": [
      "2\n"
     ]
    }
   ],
   "source": [
    "def count_special_strings(strings):\n",
    "    return sum(1 for s in strings if len(s) >= 2 and s[0] == s[-1])\n",
    "\n",
    "strings = ['abc', 'xyz', 'aba', '1221']\n",
    "print(count_special_strings(strings))"
   ]
  },
  {
   "cell_type": "markdown",
   "metadata": {},
   "source": [
    "32)Write a Python program to remove duplicates from a list. \n"
   ]
  },
  {
   "cell_type": "code",
   "execution_count": 36,
   "metadata": {},
   "outputs": [
    {
     "data": {
      "text/plain": [
       "[1, 2, 3, 4, 5]"
      ]
     },
     "execution_count": 36,
     "metadata": {},
     "output_type": "execute_result"
    }
   ],
   "source": [
    "my_list = [1, 2, 2, 3, 4, 4, 5]\n",
    "list(set(my_list))"
   ]
  },
  {
   "cell_type": "markdown",
   "metadata": {},
   "source": [
    "33)Write a Python program to check a list is empty or not. \n"
   ]
  },
  {
   "cell_type": "code",
   "execution_count": 40,
   "metadata": {},
   "outputs": [
    {
     "data": {
      "text/plain": [
       "True"
      ]
     },
     "execution_count": 40,
     "metadata": {},
     "output_type": "execute_result"
    }
   ],
   "source": [
    "my_list = []\n",
    "len(my_list) == 0"
   ]
  },
  {
   "cell_type": "markdown",
   "metadata": {},
   "source": [
    "34) Write a Python function that takes two lists and returns true if they \n",
    "have at least one common member. "
   ]
  },
  {
   "cell_type": "code",
   "execution_count": 43,
   "metadata": {},
   "outputs": [
    {
     "name": "stdout",
     "output_type": "stream",
     "text": [
      "True\n"
     ]
    }
   ],
   "source": [
    "def have_common_member(list1, list2):\n",
    "    return bool(set(list1) & set(list2))\n",
    "\n",
    "list1 = [1, 2, 3]\n",
    "list2 = [3, 4, 5]\n",
    "print(have_common_member(list1, list2))"
   ]
  },
  {
   "cell_type": "markdown",
   "metadata": {},
   "source": [
    "35) Write a Python program to generate and print a list of first and last 5 \n",
    "elements where the values are square of numbers between 1 and 30. "
   ]
  },
  {
   "cell_type": "code",
   "execution_count": 44,
   "metadata": {},
   "outputs": [
    {
     "name": "stdout",
     "output_type": "stream",
     "text": [
      "[1, 4, 9, 16, 25, 676, 729, 784, 841, 900]\n"
     ]
    }
   ],
   "source": [
    "def generate_squares():\n",
    "    squares = [x**2 for x in range(1, 31)]\n",
    "    return squares[:5] + squares[-5:]\n",
    "\n",
    "print(generate_squares())"
   ]
  },
  {
   "cell_type": "markdown",
   "metadata": {},
   "source": [
    "36) Write a Python function that takes a list and returns a new list with \n",
    "unique elements of the first list. "
   ]
  },
  {
   "cell_type": "code",
   "execution_count": 45,
   "metadata": {},
   "outputs": [
    {
     "name": "stdout",
     "output_type": "stream",
     "text": [
      "[1, 2, 3, 4, 5, 6, 7, 8, 9, 10]\n"
     ]
    }
   ],
   "source": [
    "def unique_elements(input_list):\n",
    "    return list(set(input_list))\n",
    "\n",
    "my_list = [1,2,2,2,3,4,5,5,5,6,7,7,8,9,10,10]\n",
    "print(unique_elements(my_list))"
   ]
  },
  {
   "cell_type": "markdown",
   "metadata": {},
   "source": [
    "37)Write a Python program to convert a list of characters into a string. \n"
   ]
  },
  {
   "cell_type": "code",
   "execution_count": 47,
   "metadata": {},
   "outputs": [
    {
     "name": "stdout",
     "output_type": "stream",
     "text": [
      "Hello World\n"
     ]
    }
   ],
   "source": [
    "char_list = ['H', 'e', 'l', 'l', 'o', ' ', 'W', 'o', 'r', 'l', 'd']\n",
    "print(''.join(char_list))"
   ]
  },
  {
   "cell_type": "markdown",
   "metadata": {},
   "source": [
    "38)Write a Python program to select an item randomly from a list. \n"
   ]
  },
  {
   "cell_type": "code",
   "execution_count": 49,
   "metadata": {},
   "outputs": [
    {
     "data": {
      "text/plain": [
       "4"
      ]
     },
     "execution_count": 49,
     "metadata": {},
     "output_type": "execute_result"
    }
   ],
   "source": [
    "import random\n",
    "my_list = [1,2,3,4,5,6,7,8,9]\n",
    "random.choice(my_list)"
   ]
  },
  {
   "cell_type": "markdown",
   "metadata": {},
   "source": [
    "39)Write a Python program to find the second smallest number in a list. \n"
   ]
  },
  {
   "cell_type": "code",
   "execution_count": 50,
   "metadata": {},
   "outputs": [
    {
     "name": "stdout",
     "output_type": "stream",
     "text": [
      "3\n"
     ]
    }
   ],
   "source": [
    "numbers = [4,2,6,8,3,12,456,78,35,576,56]\n",
    "unique_numbers = sorted(set(numbers))\n",
    "print(unique_numbers[1] if len(unique_numbers) > 1 else None)"
   ]
  },
  {
   "cell_type": "markdown",
   "metadata": {},
   "source": [
    "40)Write a Python program to get unique values from a list \n"
   ]
  },
  {
   "cell_type": "code",
   "execution_count": 51,
   "metadata": {},
   "outputs": [
    {
     "data": {
      "text/plain": [
       "[1, 2, 3, 4, 5, 6, 7, 8, 9, 10]"
      ]
     },
     "execution_count": 51,
     "metadata": {},
     "output_type": "execute_result"
    }
   ],
   "source": [
    "my_list = [1,2,2,2,3,4,5,5,5,6,7,7,8,9,10,10]\n",
    "list(set(my_list))"
   ]
  },
  {
   "cell_type": "markdown",
   "metadata": {},
   "source": [
    "41)Write a Python program to check whether a list contains a sub list \n"
   ]
  },
  {
   "cell_type": "code",
   "execution_count": 55,
   "metadata": {},
   "outputs": [
    {
     "data": {
      "text/plain": [
       "True"
      ]
     },
     "execution_count": 55,
     "metadata": {},
     "output_type": "execute_result"
    }
   ],
   "source": [
    "main_list = [1, 2, 3, 4, 5]\n",
    "sublist = [3, 4]\n",
    "any(main_list[i:i+len(sublist)] == sublist for i in range(len(main_list) - len(sublist) + 1))"
   ]
  },
  {
   "cell_type": "markdown",
   "metadata": {},
   "source": [
    "42)Write a Python program to split a list into different variables. \n"
   ]
  },
  {
   "cell_type": "code",
   "execution_count": 60,
   "metadata": {},
   "outputs": [
    {
     "name": "stdout",
     "output_type": "stream",
     "text": [
      "a = 1 \n",
      "b = 2 \n",
      "c = 3\n"
     ]
    }
   ],
   "source": [
    "a, b, c = [1, 2, 3]\n",
    "print(\"a =\",a,\"\\nb =\",b,\"\\nc =\",c)"
   ]
  },
  {
   "cell_type": "markdown",
   "metadata": {},
   "source": [
    "43)What is tuple? Difference between list and tuple. \n",
    "\n",
    "Ans. Tuple: A tuple is an immutable ordered collection of elements defined using parentheses ( ).\n",
    "\n",
    "Difference:\n",
    "\n",
    "Mutability:\n",
    "\n",
    "Lists: Mutable, meaning you can modify their elements (add, remove, change) after creation.\n",
    "\n",
    "Tuples: Immutable, meaning their elements cannot be changed once the tuple is created.\n",
    "\n",
    "Syntax:\n",
    "\n",
    "Lists: Defined using square brackets []\n",
    "\n",
    "Tuples: Defined using parentheses ()\n",
    "\n",
    "Performance:\n",
    "\n",
    "Lists: Slightly slower due to their dynamic nature and potential memory reallocations.\n",
    "\n",
    "Tuples: Generally faster due to their immutability and fixed memory allocation.\n",
    "\n",
    "Use Cases:\n",
    "\n",
    "Lists: Ideal for storing data that needs modification, such as a list of tasks.\n",
    "\n",
    "Tuples: Suitable for storing data that should remain constant, such as coordinates or database records."
   ]
  },
  {
   "cell_type": "markdown",
   "metadata": {},
   "source": [
    "44)Write a Python program to create a tuple with different data types. \n"
   ]
  },
  {
   "cell_type": "code",
   "execution_count": 61,
   "metadata": {},
   "outputs": [
    {
     "name": "stdout",
     "output_type": "stream",
     "text": [
      "(1, 'Hello', 3.14, True)\n"
     ]
    }
   ],
   "source": [
    "my_tuple = (1, \"Hello\", 3.14, True)\n",
    "print(my_tuple)"
   ]
  },
  {
   "cell_type": "markdown",
   "metadata": {},
   "source": [
    "45)Write a Python program to unzip a list of tuples into individual lists. "
   ]
  },
  {
   "cell_type": "code",
   "execution_count": 70,
   "metadata": {},
   "outputs": [
    {
     "data": {
      "text/plain": [
       "[(1, 2, 3), ('a', 'b', 'c')]"
      ]
     },
     "execution_count": 70,
     "metadata": {},
     "output_type": "execute_result"
    }
   ],
   "source": [
    "tuple_list = [(1, 'a'), (2, 'b'), (3, 'c')]\n",
    "list(zip(*tuple_list))"
   ]
  },
  {
   "cell_type": "markdown",
   "metadata": {},
   "source": [
    "46)Write a Python program to convert a list of tuples into a dictionary. \n"
   ]
  },
  {
   "cell_type": "code",
   "execution_count": 74,
   "metadata": {},
   "outputs": [
    {
     "data": {
      "text/plain": [
       "{1: 'a', 2: 'b', 3: 'c'}"
      ]
     },
     "execution_count": 74,
     "metadata": {},
     "output_type": "execute_result"
    }
   ],
   "source": [
    "tuple_list = [(1, 'a'), (2, 'b'), (3, 'c')]\n",
    "dict(tuple_list)"
   ]
  },
  {
   "cell_type": "markdown",
   "metadata": {},
   "source": [
    "47)How will you create a dictionary using tuples in python? \n",
    "\n",
    "Ans. Tuples as Keys:\n",
    "Tuples can be used as keys in dictionaries because they are immutable. This means their values cannot change once created.\n",
    "\n",
    "Key-Value Pairs:\n",
    "Each tuple in the above example represents a key-value pair. The first element of the tuple becomes the key, and the second element becomes the value in the resulting dictionary.\n"
   ]
  },
  {
   "cell_type": "markdown",
   "metadata": {},
   "source": [
    "48)Write a Python script to sort (ascending and descending) a \n",
    "dictionary by value. "
   ]
  },
  {
   "cell_type": "code",
   "execution_count": 77,
   "metadata": {},
   "outputs": [
    {
     "name": "stdout",
     "output_type": "stream",
     "text": [
      "Ascending: {'b': 1, 'c': 2, 'a': 3}\n",
      "Descending: {'a': 3, 'c': 2, 'b': 1}\n"
     ]
    }
   ],
   "source": [
    "my_dict = {'a': 3, 'b': 1, 'c': 2}\n",
    "ascending = dict(sorted(my_dict.items(), key=lambda x: x[1]))\n",
    "descending = dict(sorted(my_dict.items(), key=lambda x: x[1],reverse=True))\n",
    "print(\"Ascending:\", ascending)\n",
    "print(\"Descending:\", descending)"
   ]
  },
  {
   "cell_type": "markdown",
   "metadata": {},
   "source": [
    "49)Write a Python script to concatenate following dictionaries to create \n",
    "a new one. "
   ]
  },
  {
   "cell_type": "code",
   "execution_count": 82,
   "metadata": {},
   "outputs": [
    {
     "name": "stdout",
     "output_type": "stream",
     "text": [
      "{'a': 1, 'b': 2, 'c': 3, 'd': 4}\n"
     ]
    }
   ],
   "source": [
    "dict1 = {'a': 1, 'b': 2}\n",
    "dict2 = {'c': 3}\n",
    "dict3 = {'d': 4}\n",
    "result = {}\n",
    "for d in dict1,dict2,dict3:\n",
    "    result.update(d)\n",
    "print(result)"
   ]
  },
  {
   "cell_type": "markdown",
   "metadata": {},
   "source": [
    "50)Write a Python script to check if a given key already exists in a \n",
    "dictionary. "
   ]
  },
  {
   "cell_type": "code",
   "execution_count": 86,
   "metadata": {},
   "outputs": [
    {
     "name": "stdout",
     "output_type": "stream",
     "text": [
      "True\n",
      "False\n"
     ]
    }
   ],
   "source": [
    "def key_exists(dictionary, key):\n",
    "    return key in dictionary\n",
    "\n",
    "my_dict = {'a': 1, 'b': 2}\n",
    "print(key_exists(my_dict, 'a'))\n",
    "print(key_exists(my_dict, 'c'))"
   ]
  },
  {
   "cell_type": "markdown",
   "metadata": {},
   "source": [
    "51)How Do You Traverse Through a Dictionary Object in Python? \n"
   ]
  },
  {
   "cell_type": "code",
   "execution_count": 87,
   "metadata": {},
   "outputs": [
    {
     "name": "stdout",
     "output_type": "stream",
     "text": [
      "a: 1\n",
      "b: 2\n",
      "c: 3\n"
     ]
    }
   ],
   "source": [
    "my_dict = {'a': 1, 'b': 2, 'c': 3}\n",
    "for key, value in my_dict.items():\n",
    "        print(f\"{key}: {value}\")\n"
   ]
  },
  {
   "cell_type": "markdown",
   "metadata": {},
   "source": [
    "52)How Do You Check the Presence of a Key in A Dictionary? \n"
   ]
  },
  {
   "cell_type": "code",
   "execution_count": 88,
   "metadata": {},
   "outputs": [
    {
     "name": "stdout",
     "output_type": "stream",
     "text": [
      "True\n",
      "False\n"
     ]
    }
   ],
   "source": [
    "def is_key_present(dictionary, key):\n",
    "    return key in dictionary\n",
    "\n",
    "my_dict = {'a': 1, 'b': 2}\n",
    "print(is_key_present(my_dict, 'a'))\n",
    "print(is_key_present(my_dict, 'z'))"
   ]
  },
  {
   "cell_type": "markdown",
   "metadata": {},
   "source": [
    "53)Write a Python script to print a dictionary where the keys are \n",
    "numbers between 1 and 15. "
   ]
  },
  {
   "cell_type": "code",
   "execution_count": 89,
   "metadata": {},
   "outputs": [
    {
     "name": "stdout",
     "output_type": "stream",
     "text": [
      "{1: 1, 2: 4, 3: 9, 4: 16, 5: 25, 6: 36, 7: 49, 8: 64, 9: 81, 10: 100, 11: 121, 12: 144, 13: 169, 14: 196, 15: 225}\n"
     ]
    }
   ],
   "source": [
    "my_dict = {x: x**2 for x in range(1, 16)}\n",
    "print(my_dict)"
   ]
  },
  {
   "cell_type": "markdown",
   "metadata": {},
   "source": [
    "54)Write a Python program to check multiple keys exists in a dictionary \n"
   ]
  },
  {
   "cell_type": "code",
   "execution_count": 90,
   "metadata": {},
   "outputs": [
    {
     "name": "stdout",
     "output_type": "stream",
     "text": [
      "True\n"
     ]
    }
   ],
   "source": [
    "def multiple_keys_exist(dictionary, keys):\n",
    "    return all(key in dictionary for key in keys)\n",
    "\n",
    "my_dict = {'a': 1, 'b': 2, 'c': 3}\n",
    "keys = ['a', 'b']\n",
    "print(multiple_keys_exist(my_dict, keys))"
   ]
  },
  {
   "cell_type": "markdown",
   "metadata": {},
   "source": [
    "55)Write a Python script to merge two Python dictionaries \n"
   ]
  },
  {
   "cell_type": "code",
   "execution_count": 91,
   "metadata": {},
   "outputs": [
    {
     "data": {
      "text/plain": [
       "{'a': 1, 'b': 2, 'c': 3, 'd': 4}"
      ]
     },
     "execution_count": 91,
     "metadata": {},
     "output_type": "execute_result"
    }
   ],
   "source": [
    "dict1 = {'a': 1, 'b': 2}\n",
    "dict2 = {'c': 3, 'd': 4}\n",
    "{**dict1, **dict2} # **dict1 and **dict2 unpack the key-value pairs of d1 and d2 into the new dictionary"
   ]
  },
  {
   "cell_type": "markdown",
   "metadata": {},
   "source": [
    "56)Write a Python program to map two lists into a dictionary \n",
    "Sample output: Counter ({'a': 400, 'b': 400,’d’: 400, 'c': 300}). \n"
   ]
  },
  {
   "cell_type": "code",
   "execution_count": 94,
   "metadata": {},
   "outputs": [
    {
     "data": {
      "text/plain": [
       "{'a': 400, 'b': 400, 'c': 300, 'd': 400}"
      ]
     },
     "execution_count": 94,
     "metadata": {},
     "output_type": "execute_result"
    }
   ],
   "source": [
    "keys = ['a', 'b', 'c', 'd']\n",
    "values = [400, 400, 300, 400]\n",
    "dict(zip(keys, values))"
   ]
  },
  {
   "cell_type": "markdown",
   "metadata": {},
   "source": [
    "57)Write a Python program to find the highest 3 values in a dictionary \n"
   ]
  },
  {
   "cell_type": "code",
   "execution_count": 96,
   "metadata": {},
   "outputs": [
    {
     "data": {
      "text/plain": [
       "[200, 150, 100]"
      ]
     },
     "execution_count": 96,
     "metadata": {},
     "output_type": "execute_result"
    }
   ],
   "source": [
    "my_dict = {'a': 50, 'b': 10, 'c': 200, 'd': 150, 'e': 100}\n",
    "sorted(my_dict.values(), reverse=True)[:3]"
   ]
  },
  {
   "cell_type": "markdown",
   "metadata": {},
   "source": [
    "58)Write a Python program to combine values in python list of dictionaries. \n",
    "Sample data: [{'item': 'item1', 'amount': 400}, {'item': 'item2', 'amount': \n",
    "300}, o {'item': 'item1', 'amount': 750}] \n",
    "Expected Output:\n",
    "• Counter ({'item1': 1150, 'item2': 300})"
   ]
  },
  {
   "cell_type": "code",
   "execution_count": 98,
   "metadata": {},
   "outputs": [
    {
     "name": "stdout",
     "output_type": "stream",
     "text": [
      "Counter({'item1': 1150, 'item2': 300})\n"
     ]
    }
   ],
   "source": [
    "from collections import Counter\n",
    "\n",
    "data = [{'item': 'item1', 'amount': 400}, {'item': 'item2', 'amount': 300}, {'item': 'item1', 'amount': 750}]\n",
    "counter = Counter()\n",
    "for item in data:\n",
    "    counter[item['item']] += item['amount']\n",
    "print(counter)"
   ]
  },
  {
   "cell_type": "markdown",
   "metadata": {},
   "source": [
    "59)Write a Python program to create a dictionary from a string. \n",
    "Note: Track the count of the letters from the string. "
   ]
  },
  {
   "cell_type": "code",
   "execution_count": 101,
   "metadata": {},
   "outputs": [
    {
     "data": {
      "text/plain": [
       "Counter({'l': 2, 'h': 1, 'e': 1, 'o': 1})"
      ]
     },
     "execution_count": 101,
     "metadata": {},
     "output_type": "execute_result"
    }
   ],
   "source": [
    "from collections import Counter\n",
    "sample_string = input(\"Enter a string:\")\n",
    "Counter(sample_string)"
   ]
  },
  {
   "cell_type": "markdown",
   "metadata": {},
   "source": [
    "60)Sample string:\n",
    " 'w3resource' Expected output:\n",
    "• {'3': 1,’s’: 1, 'r': 2, 'u': 1, 'w': 1, 'c': 1, 'e': 2, 'o': 1}"
   ]
  },
  {
   "cell_type": "code",
   "execution_count": 102,
   "metadata": {},
   "outputs": [
    {
     "data": {
      "text/plain": [
       "Counter({'r': 2, 'e': 2, 'w': 1, '3': 1, 's': 1, 'o': 1, 'u': 1, 'c': 1})"
      ]
     },
     "execution_count": 102,
     "metadata": {},
     "output_type": "execute_result"
    }
   ],
   "source": [
    "from collections import Counter\n",
    "sample_string = 'w3resource'\n",
    "Counter(sample_string)"
   ]
  },
  {
   "cell_type": "markdown",
   "metadata": {},
   "source": [
    "61)Write a Python function to calculate the factorial of a number (a \n",
    "nonnegative integer) "
   ]
  },
  {
   "cell_type": "code",
   "execution_count": 104,
   "metadata": {},
   "outputs": [
    {
     "name": "stdout",
     "output_type": "stream",
     "text": [
      "120\n"
     ]
    }
   ],
   "source": [
    "def factorial(n):\n",
    "    if n == 0 or n == 1:\n",
    "        return 1\n",
    "    return n * factorial(n - 1)\n",
    "\n",
    "num = int(input(\"Enter a number:\"))\n",
    "if num > 0 :\n",
    "    print(factorial(num))\n",
    "else :\n",
    "    print(\"Please enter positive number\")"
   ]
  },
  {
   "cell_type": "markdown",
   "metadata": {},
   "source": [
    "62)Write a Python function to check whether a number is in a given range \n"
   ]
  },
  {
   "cell_type": "code",
   "execution_count": 106,
   "metadata": {},
   "outputs": [
    {
     "name": "stdout",
     "output_type": "stream",
     "text": [
      "True\n"
     ]
    }
   ],
   "source": [
    "def is_in_range(number, start, end):\n",
    "    return start <= number <= end\n",
    "\n",
    "num = int(input(\"Enter a number to check it is in range or not:\"))\n",
    "start = int(input(\"Enter start number for a range:\"))\n",
    "end = int(input(\"Enter end number for a range:\"))\n",
    "print(is_in_range(num, start, end))"
   ]
  },
  {
   "cell_type": "markdown",
   "metadata": {},
   "source": [
    "63)Write a Python function to check whether a number is perfect or not. \n"
   ]
  },
  {
   "cell_type": "code",
   "execution_count": 107,
   "metadata": {},
   "outputs": [
    {
     "name": "stdout",
     "output_type": "stream",
     "text": [
      "True\n"
     ]
    }
   ],
   "source": [
    "def is_perfect(number):\n",
    "    divisors = [i for i in range(1, number) if number % i == 0]\n",
    "    return sum(divisors) == number\n",
    "\n",
    "num = int(input(\"Enter a num:\"))\n",
    "print(is_perfect(6))"
   ]
  },
  {
   "cell_type": "markdown",
   "metadata": {},
   "source": [
    "64)Write a Python function that checks whether a passed string is \n",
    "palindrome or not "
   ]
  },
  {
   "cell_type": "code",
   "execution_count": 108,
   "metadata": {},
   "outputs": [
    {
     "name": "stdout",
     "output_type": "stream",
     "text": [
      "True\n"
     ]
    }
   ],
   "source": [
    "def is_palindrome(string):\n",
    "    return string == string[::-1]\n",
    "\n",
    "s1 = input(\"Enter a string:\")\n",
    "print(is_palindrome('radar'))"
   ]
  },
  {
   "cell_type": "markdown",
   "metadata": {},
   "source": [
    "65)How Many Basic Types of Functions Are Available in Python? \n",
    "\n",
    "Ans. There are two basic types of functions in Python:\n",
    "\n",
    "Built-in functions: Functions provided by Python, such as print(), len(), etc.\n",
    "\n",
    "User-defined functions: Functions created by the programmer using the def keyword."
   ]
  },
  {
   "cell_type": "markdown",
   "metadata": {},
   "source": [
    "66)How can you pick a random item from a list or tuple? \n"
   ]
  },
  {
   "cell_type": "code",
   "execution_count": 110,
   "metadata": {},
   "outputs": [
    {
     "data": {
      "text/plain": [
       "{'item': 'item1', 'amount': 400}"
      ]
     },
     "execution_count": 110,
     "metadata": {},
     "output_type": "execute_result"
    }
   ],
   "source": [
    "import random\n",
    "my_list = [1, 2, 3, 4]\n",
    "random.choice(data)"
   ]
  },
  {
   "cell_type": "markdown",
   "metadata": {},
   "source": [
    "67)How can you pick a random item from a range? \n"
   ]
  },
  {
   "cell_type": "code",
   "execution_count": 111,
   "metadata": {},
   "outputs": [
    {
     "data": {
      "text/plain": [
       "4"
      ]
     },
     "execution_count": 111,
     "metadata": {},
     "output_type": "execute_result"
    }
   ],
   "source": [
    "import random\n",
    "random.choice(range(1, 10 + 1))"
   ]
  },
  {
   "cell_type": "markdown",
   "metadata": {},
   "source": [
    "68)How can you get a random number in python? \n"
   ]
  },
  {
   "cell_type": "code",
   "execution_count": 112,
   "metadata": {},
   "outputs": [
    {
     "data": {
      "text/plain": [
       "0.19102281231416784"
      ]
     },
     "execution_count": 112,
     "metadata": {},
     "output_type": "execute_result"
    }
   ],
   "source": [
    "import random\n",
    "random.random()  "
   ]
  },
  {
   "cell_type": "markdown",
   "metadata": {},
   "source": [
    "69)How will you set the starting value in generating random numbers? "
   ]
  },
  {
   "cell_type": "code",
   "execution_count": 6,
   "metadata": {},
   "outputs": [
    {
     "name": "stdout",
     "output_type": "stream",
     "text": [
      "0.6394267984578837\n"
     ]
    }
   ],
   "source": [
    "import random\n",
    "\n",
    "random.seed(42)\n",
    "print(random.random())"
   ]
  },
  {
   "cell_type": "markdown",
   "metadata": {},
   "source": [
    "70) How will you randomize the items of a list in place? \n"
   ]
  },
  {
   "cell_type": "code",
   "execution_count": 8,
   "metadata": {},
   "outputs": [
    {
     "name": "stdout",
     "output_type": "stream",
     "text": [
      "[5, 4, 3, 1, 2]\n"
     ]
    }
   ],
   "source": [
    "import random\n",
    "def randomize_list(data):\n",
    "    random.shuffle(data)\n",
    "    return data\n",
    "\n",
    "my_list = [1, 2, 3, 4, 5]\n",
    "print(randomize_list(my_list))"
   ]
  },
  {
   "cell_type": "markdown",
   "metadata": {},
   "source": [
    "71)What is File function in python? What are keywords to create \n",
    "and write file. \n",
    "\n",
    "Ans. File functions in Python allow reading, writing, and manipulating files. Common keywords:\n",
    "\n",
    "\"w\": Create and write to a file.\n",
    "\n",
    "\"a\": Append to an existing file.\n",
    "\n",
    "\"r\": Read from a file.\n",
    "\n",
    "\"x\": Create a new file (raises an error if the file exists)."
   ]
  },
  {
   "cell_type": "markdown",
   "metadata": {},
   "source": [
    "72)Write a Python program to read an entire text file. \n"
   ]
  },
  {
   "cell_type": "code",
   "execution_count": 5,
   "metadata": {},
   "outputs": [
    {
     "name": "stdout",
     "output_type": "stream",
     "text": [
      "Hello\n",
      "How are you?\n",
      "All good\n"
     ]
    }
   ],
   "source": [
    "l = [\"Hello\", \"\\nHow are you?\", \"\\nAll good\"]\n",
    "f= open('sample.txt','w')\n",
    "f.writelines(l)\n",
    "f.close()\n",
    "\n",
    "f= open('sample.txt','r')\n",
    "print(f.read())\n",
    "f.close()"
   ]
  },
  {
   "cell_type": "markdown",
   "metadata": {},
   "source": [
    "73)Write a Python program to append text to a file and display the text. \n"
   ]
  },
  {
   "cell_type": "code",
   "execution_count": 8,
   "metadata": {},
   "outputs": [
    {
     "name": "stdout",
     "output_type": "stream",
     "text": [
      "Hello\n",
      "How are you?\n",
      "All good\n",
      "Heyyy\n"
     ]
    }
   ],
   "source": [
    "with open('sample.txt','a') as f:\n",
    "    f.write(\"\\nHeyyy\")\n",
    "f= open('sample.txt','r')\n",
    "print(f.read())\n",
    "f.close()"
   ]
  },
  {
   "cell_type": "markdown",
   "metadata": {},
   "source": [
    "74)Write a Python program to read first n lines of a file. \n"
   ]
  },
  {
   "cell_type": "code",
   "execution_count": 17,
   "metadata": {},
   "outputs": [
    {
     "name": "stdout",
     "output_type": "stream",
     "text": [
      "['Hello', 'How are you?']\n"
     ]
    }
   ],
   "source": [
    "with open('sample.txt', 'r') as file:\n",
    "        print([file.readline().strip() for _ in range(2)])"
   ]
  },
  {
   "cell_type": "markdown",
   "metadata": {},
   "source": [
    "75)Write a Python program to read last n lines of a file. \n"
   ]
  },
  {
   "cell_type": "code",
   "execution_count": 16,
   "metadata": {},
   "outputs": [
    {
     "name": "stdout",
     "output_type": "stream",
     "text": [
      "['How are you?\\n', 'All good\\n', 'Heyyy']\n"
     ]
    }
   ],
   "source": [
    "with open('sample.txt', 'r') as file:\n",
    "        print(file.readlines()[-3:])"
   ]
  },
  {
   "cell_type": "markdown",
   "metadata": {},
   "source": [
    "76)Write a Python program to read a file line by line and store it into a list \n"
   ]
  },
  {
   "cell_type": "code",
   "execution_count": 18,
   "metadata": {},
   "outputs": [
    {
     "name": "stdout",
     "output_type": "stream",
     "text": [
      "['Hello', 'How are you?', 'All good', 'Heyyy']\n"
     ]
    }
   ],
   "source": [
    "with open('sample.txt', 'r') as file:\n",
    "        print([line.strip() for line in file])"
   ]
  },
  {
   "cell_type": "markdown",
   "metadata": {},
   "source": [
    "77)Write a Python program to read a file line by line store it into a variable. \n"
   ]
  },
  {
   "cell_type": "code",
   "execution_count": 20,
   "metadata": {},
   "outputs": [
    {
     "name": "stdout",
     "output_type": "stream",
     "text": [
      "Hello\n",
      "How are you?\n",
      "All good\n",
      "Heyyy\n"
     ]
    }
   ],
   "source": [
    "with open('sample.txt', 'r') as file:\n",
    "        print(''.join(file.readlines()))"
   ]
  },
  {
   "cell_type": "markdown",
   "metadata": {},
   "source": [
    "78)Write a python program to find the longest words. \n"
   ]
  },
  {
   "cell_type": "code",
   "execution_count": 21,
   "metadata": {},
   "outputs": [
    {
     "data": {
      "text/plain": [
       "'Hello'"
      ]
     },
     "execution_count": 21,
     "metadata": {},
     "output_type": "execute_result"
    }
   ],
   "source": [
    "with open('sample.txt', 'r') as file:\n",
    "        words = file.read().split()\n",
    "max(words, key=len)"
   ]
  },
  {
   "cell_type": "markdown",
   "metadata": {},
   "source": [
    "79)Write a Python program to count the number of lines in a text file. \n"
   ]
  },
  {
   "cell_type": "code",
   "execution_count": 23,
   "metadata": {},
   "outputs": [
    {
     "name": "stdout",
     "output_type": "stream",
     "text": [
      "4\n"
     ]
    }
   ],
   "source": [
    "with open('sample.txt', 'r') as file:\n",
    "    print(sum(1 for _ in file))"
   ]
  },
  {
   "cell_type": "markdown",
   "metadata": {},
   "source": [
    "80)Write a Python program to count the frequency of words in a file. \n"
   ]
  },
  {
   "cell_type": "code",
   "execution_count": 27,
   "metadata": {},
   "outputs": [
    {
     "data": {
      "text/plain": [
       "Counter({'Hello': 1,\n",
       "         'How': 1,\n",
       "         'are': 1,\n",
       "         'you?': 1,\n",
       "         'All': 1,\n",
       "         'good': 1,\n",
       "         'Heyyy': 1})"
      ]
     },
     "execution_count": 27,
     "metadata": {},
     "output_type": "execute_result"
    }
   ],
   "source": [
    "from collections import Counter\n",
    "with open('sample.txt', 'r') as file:\n",
    "        words = file.read().split()\n",
    "Counter(words)"
   ]
  },
  {
   "cell_type": "markdown",
   "metadata": {},
   "source": [
    "81)Write a Python program to write a list to a file. \n"
   ]
  },
  {
   "cell_type": "code",
   "execution_count": 32,
   "metadata": {},
   "outputs": [],
   "source": [
    "with open('sample.txt', 'w') as file:\n",
    "        file.writelines(f\"{item}\\n\" for item in {\"apple\",\"banana\",\"kiwi\"})"
   ]
  },
  {
   "cell_type": "markdown",
   "metadata": {},
   "source": [
    "82)Write a Python program to copy the contents of a file to another file. \n"
   ]
  },
  {
   "cell_type": "code",
   "execution_count": 30,
   "metadata": {},
   "outputs": [
    {
     "name": "stdout",
     "output_type": "stream",
     "text": [
      "18\n"
     ]
    }
   ],
   "source": [
    "with open('sample.txt', 'r') as file_src, open('sample1.txt', 'w') as file_dest:\n",
    "        print(file_dest.write(file_src.read()))"
   ]
  },
  {
   "cell_type": "markdown",
   "metadata": {},
   "source": [
    "83)Explain Exception handling? What is an Error in Python? \n",
    "\n",
    "Ans. Exception handling manages errors gracefully using try, except, and finally.\n",
    "\n",
    "Error refers to a problem preventing code execution. Examples: SyntaxError, ValueError."
   ]
  },
  {
   "cell_type": "code",
   "execution_count": 34,
   "metadata": {},
   "outputs": [
    {
     "name": "stdout",
     "output_type": "stream",
     "text": [
      "Finally block executed\n"
     ]
    }
   ],
   "source": [
    "# Example\n",
    "try:\n",
    "    f=open(\"sample1.txt\",'r')\n",
    "except FileNotFoundError:\n",
    "    print(\"File not found\")\n",
    "finally:\n",
    "    print(\"Finally block executed\")"
   ]
  },
  {
   "cell_type": "markdown",
   "metadata": {},
   "source": [
    "84)How many except statements can a try-except block have? Name \n",
    "Some built-in exception classes: \n",
    "\n",
    "Ans. A try block can have multiple except blocks.\n",
    "Common built-in exceptions:\n",
    "\n",
    "ValueError\n",
    "\n",
    "TypeError\n",
    "\n",
    "IndexError\n",
    "\n",
    "KeyError"
   ]
  },
  {
   "cell_type": "markdown",
   "metadata": {},
   "source": [
    "85)When will the else part of try-except-else be executed? \n",
    "\n",
    "Ans. The else block is executed only if no exception is raised in the try block."
   ]
  },
  {
   "cell_type": "code",
   "execution_count": 35,
   "metadata": {},
   "outputs": [
    {
     "name": "stdout",
     "output_type": "stream",
     "text": [
      "banana\n",
      "apple\n",
      "kiwi\n",
      "\n",
      "HU to aais j \n"
     ]
    }
   ],
   "source": [
    "# Example \n",
    "try:\n",
    "    f=open(\"sample1.txt\",'r')\n",
    "except FileNotFoundError:\n",
    "    print(\"FIle not found\")\n",
    "else:\n",
    "    print(f.read())\n",
    "finally:\n",
    "    print(\"HU to aais j \")"
   ]
  },
  {
   "cell_type": "markdown",
   "metadata": {},
   "source": [
    "86)Can one block of except statements handle multiple exception? \n"
   ]
  },
  {
   "cell_type": "code",
   "execution_count": 36,
   "metadata": {},
   "outputs": [
    {
     "name": "stdout",
     "output_type": "stream",
     "text": [
      "Handled exception: invalid literal for int() with base 10: 'abc'\n"
     ]
    }
   ],
   "source": [
    "try:\n",
    "    x = int(\"abc\")\n",
    "except (ValueError, TypeError) as e:\n",
    "    print(\"Handled exception:\", e)"
   ]
  },
  {
   "cell_type": "markdown",
   "metadata": {},
   "source": [
    "87)When is the finally block executed? \n",
    "\n",
    "Ans. The finally block is executed always, regardless of whether an exception occurred."
   ]
  },
  {
   "cell_type": "code",
   "execution_count": 37,
   "metadata": {},
   "outputs": [
    {
     "name": "stdout",
     "output_type": "stream",
     "text": [
      "Finally block executed\n"
     ]
    }
   ],
   "source": [
    "# Example\n",
    "try:\n",
    "    f=open(\"sample1.txt\",'r')\n",
    "except FileNotFoundError:\n",
    "    print(\"File not found\")\n",
    "finally:\n",
    "    print(\"Finally block executed\")"
   ]
  },
  {
   "cell_type": "markdown",
   "metadata": {},
   "source": [
    "88)What happens when „1‟== 1 is executed? \n",
    "\n",
    "Ans. The result is False because a string ('1') is not equal to an integer (1)."
   ]
  },
  {
   "cell_type": "code",
   "execution_count": 38,
   "metadata": {},
   "outputs": [
    {
     "data": {
      "text/plain": [
       "False"
      ]
     },
     "execution_count": 38,
     "metadata": {},
     "output_type": "execute_result"
    }
   ],
   "source": [
    "\"1\" == 1"
   ]
  },
  {
   "cell_type": "markdown",
   "metadata": {},
   "source": [
    "89)How Do You Handle Exceptions with Try/Except/Finally in Python? \n",
    "Explain with coding snippets. "
   ]
  },
  {
   "cell_type": "code",
   "execution_count": 39,
   "metadata": {},
   "outputs": [
    {
     "name": "stdout",
     "output_type": "stream",
     "text": [
      "Caught division by zero!\n",
      "This will always execute.\n"
     ]
    }
   ],
   "source": [
    "try:\n",
    "    x = 1 / 0\n",
    "except ZeroDivisionError:\n",
    "    print(\"Caught division by zero!\")\n",
    "finally:\n",
    "    print(\"This will always execute.\")"
   ]
  },
  {
   "cell_type": "markdown",
   "metadata": {},
   "source": [
    "90)Write python program that user to enter only odd numbers, else \n",
    "will raise an exception."
   ]
  },
  {
   "cell_type": "code",
   "execution_count": 43,
   "metadata": {},
   "outputs": [
    {
     "name": "stdout",
     "output_type": "stream",
     "text": [
      "Error: Even number entered!\n"
     ]
    }
   ],
   "source": [
    "try:\n",
    "    number = int(input(\"Enter an odd number: \"))\n",
    "    if number % 2 == 0:\n",
    "        raise ValueError(\"Even number entered!\")\n",
    "    print(\"You entered an odd number:\", number)\n",
    "except ValueError as e:\n",
    "    print(\"Error:\", e)\n"
   ]
  },
  {
   "cell_type": "code",
   "execution_count": null,
   "metadata": {},
   "outputs": [],
   "source": []
  }
 ],
 "metadata": {
  "kernelspec": {
   "display_name": "Python 3",
   "language": "python",
   "name": "python3"
  },
  "language_info": {
   "codemirror_mode": {
    "name": "ipython",
    "version": 3
   },
   "file_extension": ".py",
   "mimetype": "text/x-python",
   "name": "python",
   "nbconvert_exporter": "python",
   "pygments_lexer": "ipython3",
   "version": "3.13.0"
  }
 },
 "nbformat": 4,
 "nbformat_minor": 2
}
