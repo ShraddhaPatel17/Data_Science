{
 "cells": [
  {
   "cell_type": "code",
   "execution_count": null,
   "id": "2bda4bd7",
   "metadata": {},
   "outputs": [],
   "source": [
    "car_df['Make'].unique()\n",
    "car_df['Engine Fuel Type'].unique()\n",
    "car_df['Transmission Type'].unique()\n",
    "car_df['Driven_Wheels'].unique()\n",
    "car_df['Vehicle Style'].unique()\n",
    "car_df['Vehicle Size'].unique()\n",
    "from sklearn.preprocessing import LabelEncoder, OrdinalEncoder\n",
    "X = car_df.drop(columns=['MSRP','Year','Engine HP','Engine Cylinders','Number of Doors','Market Category',\n",
    "                         'highway MPG','city mpg','Popularity'])\n",
    "y = car_df['MSRP']\n",
    "X_train,X_test,y_train,y_test = train_test_split(X,y,test_size=0.2)\n",
    "X_train\n",
    "oe = OrdinalEncoder(categories=[['BMW', 'Audi', 'FIAT', 'Mercedes-Benz', 'Chrysler', 'Nissan',\n",
    "       'Volvo', 'Mazda', 'Mitsubishi', 'Ferrari', 'Alfa Romeo', 'Toyota',\n",
    "       'McLaren', 'Maybach', 'Pontiac', 'Porsche', 'Saab', 'GMC',\n",
    "       'Hyundai', 'Plymouth', 'Honda', 'Oldsmobile', 'Suzuki', 'Ford',\n",
    "       'Cadillac', 'Kia', 'Bentley', 'Chevrolet', 'Dodge', 'Lamborghini',\n",
    "       'Lincoln', 'Subaru', 'Volkswagen', 'Spyker', 'Buick', 'Acura',\n",
    "       'Rolls-Royce', 'Maserati', 'Lexus', 'Aston Martin', 'Land Rover',\n",
    "       'Lotus', 'Infiniti', 'Scion', 'Genesis', 'HUMMER', 'Tesla',\n",
    "       'Bugatti'],\n",
    "       \n",
    "       ['premium unleaded (required)', 'regular unleaded',\n",
    "       'premium unleaded (recommended)', 'flex-fuel (unleaded/E85)',\n",
    "       'diesel', 'electric',\n",
    "       'flex-fuel (premium unleaded recommended/E85)', 'natural gas',\n",
    "       'flex-fuel (premium unleaded required/E85)',\n",
    "       'flex-fuel (unleaded/natural gas)', 'nan'],\n",
    "       \n",
    "       ['MANUAL', 'AUTOMATIC', 'AUTOMATED_MANUAL', 'DIRECT_DRIVE',\n",
    "       'UNKNOWN'],\n",
    "       \n",
    "       ['rear wheel drive', 'front wheel drive', 'all wheel drive',\n",
    "       'four wheel drive'],\n",
    "       \n",
    "       ['Compact', 'Midsize', 'Large'],\n",
    "       \n",
    "       ['Coupe', 'Convertible', 'Sedan', 'Wagon', '4dr Hatchback',\n",
    "       '2dr Hatchback', '4dr SUV', 'Passenger Minivan', 'Cargo Minivan',\n",
    "       'Crew Cab Pickup', 'Regular Cab Pickup', 'Extended Cab Pickup',\n",
    "       '2dr SUV', 'Cargo Van', 'Convertible SUV', 'Passenger Van']])\n",
    "X_train=oe.fit_transform(X_train)"
   ]
  }
 ],
 "metadata": {
  "language_info": {
   "name": "python"
  }
 },
 "nbformat": 4,
 "nbformat_minor": 5
}
