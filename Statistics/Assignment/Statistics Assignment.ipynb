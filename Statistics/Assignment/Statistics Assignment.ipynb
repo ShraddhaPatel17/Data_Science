{
 "cells": [
  {
   "cell_type": "markdown",
   "metadata": {},
   "source": [
    "## Questions on measure of central tendency\n"
   ]
  },
  {
   "cell_type": "markdown",
   "metadata": {},
   "source": [
    "1) Business Problem: A retail store wants to analyze the sales data of a particular\n",
    "product category to understand the typical sales performance and make strategic\n",
    "decisions.\n",
    "\n",
    "Data:\n",
    "Let's consider the weekly sales data (in units) for the past month for a specific product\n",
    "category:\n",
    "\n",
    "Week 1: 50 units\n",
    "\n",
    "Week 2: 60 units\n",
    "\n",
    "Week 3: 55 units\n",
    "\n",
    "Week 4: 70 units"
   ]
  },
  {
   "cell_type": "code",
   "execution_count": 54,
   "metadata": {},
   "outputs": [],
   "source": [
    "import numpy as np\n",
    "from scipy import stats"
   ]
  },
  {
   "cell_type": "code",
   "execution_count": 55,
   "metadata": {},
   "outputs": [
    {
     "data": {
      "text/plain": [
       "np.float64(58.75)"
      ]
     },
     "execution_count": 55,
     "metadata": {},
     "output_type": "execute_result"
    }
   ],
   "source": [
    "# 1. Mean: What is the average weekly sales of the product category?\n",
    "\n",
    "sales_data = np.array([50,60,55,70])\n",
    "np.mean(sales_data)"
   ]
  },
  {
   "cell_type": "code",
   "execution_count": 56,
   "metadata": {},
   "outputs": [
    {
     "data": {
      "text/plain": [
       "np.float64(57.5)"
      ]
     },
     "execution_count": 56,
     "metadata": {},
     "output_type": "execute_result"
    }
   ],
   "source": [
    "# 2. Median: What is the typical or central sales value for the product category?\n",
    "\n",
    "np.median(sales_data)"
   ]
  },
  {
   "cell_type": "code",
   "execution_count": 57,
   "metadata": {},
   "outputs": [
    {
     "data": {
      "text/plain": [
       "ModeResult(mode=np.int64(50), count=np.int64(1))"
      ]
     },
     "execution_count": 57,
     "metadata": {},
     "output_type": "execute_result"
    }
   ],
   "source": [
    "# 3. Mode: Are there any recurring or most frequently occurring sales figures for the product category?\n",
    "\n",
    "stats.mode(sales_data)"
   ]
  },
  {
   "cell_type": "markdown",
   "metadata": {},
   "source": [
    "2) Business Problem: A restaurant wants to analyze the waiting times of its\n",
    "customers to understand the typical waiting experience and improve service\n",
    "efficiency.\n",
    "\n",
    "Data:\n",
    "Let's consider the waiting times (in minutes) for the past 20 customers:\n",
    "\n",
    "15, 10, 20, 25, 15, 10, 30, 20, 15, 10,\n",
    "10, 25, 15, 20, 20, 15, 10, 10, 20, 25"
   ]
  },
  {
   "cell_type": "code",
   "execution_count": 58,
   "metadata": {},
   "outputs": [
    {
     "data": {
      "text/plain": [
       "np.float64(17.0)"
      ]
     },
     "execution_count": 58,
     "metadata": {},
     "output_type": "execute_result"
    }
   ],
   "source": [
    "# 1. Mean: What is the average waiting time for customers at the restaurant?\n",
    "\n",
    "waiting_times = np.array([15, 10, 20, 25, 15, 10, 30, 20, 15, 10, 10, 25, 15, 20, 20, 15, 10, 10, 20, 25])\n",
    "np.mean(waiting_times)"
   ]
  },
  {
   "cell_type": "code",
   "execution_count": 59,
   "metadata": {},
   "outputs": [
    {
     "data": {
      "text/plain": [
       "np.float64(15.0)"
      ]
     },
     "execution_count": 59,
     "metadata": {},
     "output_type": "execute_result"
    }
   ],
   "source": [
    "# 2. Median: What is the typical or central waiting time experienced by customers?\n",
    "\n",
    "np.median(waiting_times)"
   ]
  },
  {
   "cell_type": "code",
   "execution_count": 60,
   "metadata": {},
   "outputs": [
    {
     "data": {
      "text/plain": [
       "ModeResult(mode=np.int64(10), count=np.int64(6))"
      ]
     },
     "execution_count": 60,
     "metadata": {},
     "output_type": "execute_result"
    }
   ],
   "source": [
    "# 3. Mode: Are there any recurring or most frequently occurring waiting times for customers?\n",
    "\n",
    "stats.mode(waiting_times)"
   ]
  },
  {
   "cell_type": "markdown",
   "metadata": {},
   "source": [
    "## Questions on measure of dispersion\n"
   ]
  },
  {
   "cell_type": "markdown",
   "metadata": {},
   "source": [
    "1) Problem: A retail store wants to analyze the sales of a specific product to\n",
    "understand the variability in daily sales and assess its inventory management.\n",
    "\n",
    "Data:\n",
    "Let's consider the daily sales (in dollars) for the past 30 days:\n",
    "\n",
    "$500, $700, $400, $600, $550, $750, $650, $500, $600, $550,\n",
    "$800, $450, $700, $550, $600, $400, $650, $500, $750, $550,\n",
    "$700, $600, $500, $800, $550, $650, $400, $600, $750, $550\n"
   ]
  },
  {
   "cell_type": "code",
   "execution_count": 61,
   "metadata": {},
   "outputs": [
    {
     "data": {
      "text/plain": [
       "np.int64(400)"
      ]
     },
     "execution_count": 61,
     "metadata": {},
     "output_type": "execute_result"
    }
   ],
   "source": [
    "# 1. Range: What is the range of the daily sales?\n",
    "\n",
    "daily_sales_data = np.array([500, 700, 400, 600, 550, 750, 650, 500, 600, 550, 800, 450, 700, 550, 600, 400, 650, \n",
    "                       500, 750, 550, 700, 600, 500, 800, 550, 650, 400, 600, 750, 550])\n",
    "np.ptp(daily_sales_data)"
   ]
  },
  {
   "cell_type": "code",
   "execution_count": 62,
   "metadata": {},
   "outputs": [
    {
     "data": {
      "text/plain": [
       "np.float64(12725.0)"
      ]
     },
     "execution_count": 62,
     "metadata": {},
     "output_type": "execute_result"
    }
   ],
   "source": [
    "# 2. Variance: What is the variance of the daily sales?\n",
    "\n",
    "np.var(daily_sales_data)"
   ]
  },
  {
   "cell_type": "code",
   "execution_count": 63,
   "metadata": {},
   "outputs": [
    {
     "data": {
      "text/plain": [
       "np.float64(112.80514172678478)"
      ]
     },
     "execution_count": 63,
     "metadata": {},
     "output_type": "execute_result"
    }
   ],
   "source": [
    "# 3. Standard Deviation: What is the standard deviation of the daily sales?\n",
    "\n",
    "np.std(daily_sales_data)"
   ]
  },
  {
   "cell_type": "markdown",
   "metadata": {},
   "source": [
    "2) Problem: An e-commerce platform wants to analyze the delivery times of its\n",
    "shipments to understand the variability in order fulfillment and optimize its\n",
    "logistics operations.\n",
    "\n",
    "Data:\n",
    "Let's consider the delivery times (in days) for a sample of 50 shipments:\n",
    "\n",
    "3, 5, 2, 4, 6, 2, 3, 4, 2, 5,\n",
    "7, 2, 3, 4, 2, 4, 2, 3, 5, 6,\n",
    "3, 2, 1, 4, 2, 4, 5, 3, 2, 7,\n",
    "2, 3, 4, 5, 1, 6, 2, 4, 3, 5,\n",
    "3, 2, 4, 2, 6, 3, 2, 4, 5, 3"
   ]
  },
  {
   "cell_type": "code",
   "execution_count": 64,
   "metadata": {},
   "outputs": [
    {
     "data": {
      "text/plain": [
       "np.int64(6)"
      ]
     },
     "execution_count": 64,
     "metadata": {},
     "output_type": "execute_result"
    }
   ],
   "source": [
    "# 1. Range: What is the range of the delivery times?\n",
    "\n",
    "delivery_times = np.array([3, 5, 2, 4, 6, 2, 3, 4, 2, 5, 7, 2, 3, 4, 2, 4, 2, 3, 5, 6, 3, 2, 1, 4, 2, 4, 5, 3, 2, 7, \n",
    "                           2, 3, 4, 5, 1, 6, 2, 4, 3, 5, 3, 2, 4, 2, 6, 3, 2, 4, 5, 3])\n",
    "np.ptp(delivery_times)"
   ]
  },
  {
   "cell_type": "code",
   "execution_count": 65,
   "metadata": {},
   "outputs": [
    {
     "data": {
      "text/plain": [
       "np.float64(2.2896)"
      ]
     },
     "execution_count": 65,
     "metadata": {},
     "output_type": "execute_result"
    }
   ],
   "source": [
    "# 2. Variance: What is the variance of the delivery times?\n",
    "\n",
    "np.var(delivery_times)"
   ]
  },
  {
   "cell_type": "code",
   "execution_count": 66,
   "metadata": {},
   "outputs": [
    {
     "data": {
      "text/plain": [
       "np.float64(1.513142425550219)"
      ]
     },
     "execution_count": 66,
     "metadata": {},
     "output_type": "execute_result"
    }
   ],
   "source": [
    "# 3. Standard Deviation: What is the standard deviation of the delivery times?\n",
    "\n",
    "np.std(delivery_times)"
   ]
  },
  {
   "cell_type": "markdown",
   "metadata": {},
   "source": [
    "3) Problem : A company wants to analyze the monthly revenue generated by one of\n",
    "its products to understand its performance and variability.\n",
    "\n",
    "Data:\n",
    "Let's consider the monthly revenue (in thousands of dollars) for the past 12 months:\n",
    "\n",
    "$120, $150, $110, $135, $125, $140, $130, $155, $115, $145, $135, $130"
   ]
  },
  {
   "cell_type": "code",
   "execution_count": 67,
   "metadata": {},
   "outputs": [
    {
     "data": {
      "text/plain": [
       "np.float64(132.5)"
      ]
     },
     "execution_count": 67,
     "metadata": {},
     "output_type": "execute_result"
    }
   ],
   "source": [
    "# 1. Measure of Central Tendency: What is the average monthly revenue for the product?\n",
    "\n",
    "monthly_revenue = np.array([120, 150, 110, 135, 125, 140, 130, 155, 115, 145, 135, 130])\n",
    "np.mean(monthly_revenue)"
   ]
  },
  {
   "cell_type": "code",
   "execution_count": 68,
   "metadata": {},
   "outputs": [
    {
     "data": {
      "text/plain": [
       "np.int64(45)"
      ]
     },
     "execution_count": 68,
     "metadata": {},
     "output_type": "execute_result"
    }
   ],
   "source": [
    "# 2. Measure of Dispersion: What is the range of monthly revenue for the product?\n",
    "\n",
    "np.ptp(monthly_revenue)"
   ]
  },
  {
   "cell_type": "markdown",
   "metadata": {},
   "source": [
    "4) Problem : A survey was conducted to gather feedback from customers regarding\n",
    "their satisfaction with a particular service on a scale of 1 to 10.\n",
    "\n",
    "Data:\n",
    "Let's consider the satisfaction ratings from 50 customers:\n",
    "\n",
    "8, 7, 9, 6, 7, 8, 9, 8, 7, 6,\n",
    "8, 9, 7, 8, 7, 6, 8, 9, 6, 7,\n",
    "8, 9, 7, 6, 7, 8, 9, 8, 7, 6,\n",
    "9, 8, 7, 6, 8, 9, 7, 8, 7, 6,\n",
    "9, 8, 7, 6, 7, 8, 9, 8, 7, 6\n"
   ]
  },
  {
   "cell_type": "code",
   "execution_count": 69,
   "metadata": {},
   "outputs": [
    {
     "data": {
      "text/plain": [
       "np.float64(7.5)"
      ]
     },
     "execution_count": 69,
     "metadata": {},
     "output_type": "execute_result"
    }
   ],
   "source": [
    "# 1. Measure of Central Tendency: What is the average satisfaction rating?\n",
    "\n",
    "ratings = np.array([8, 7, 9, 6, 7, 8, 9, 8, 7, 6, 8, 9, 7, 8, 7, 6, 8, 9, 6, 7, 8, 9, 7, 6, 7, 8, 9, 8, 7, 6,\n",
    "                    9, 8, 7, 6, 8, 9, 7, 8, 7, 6, 9, 8, 7, 6, 7, 8, 9, 8, 7, 6])\n",
    "np.mean(ratings)"
   ]
  },
  {
   "cell_type": "code",
   "execution_count": 70,
   "metadata": {},
   "outputs": [
    {
     "data": {
      "text/plain": [
       "np.float64(1.02469507659596)"
      ]
     },
     "execution_count": 70,
     "metadata": {},
     "output_type": "execute_result"
    }
   ],
   "source": [
    "# 2. Measure of Dispersion: What is the standard deviation of the satisfaction ratings?\n",
    "\n",
    "np.std(ratings)"
   ]
  },
  {
   "cell_type": "markdown",
   "metadata": {},
   "source": [
    "5) Problem :A company wants to analyze the customer wait times at its call center to\n",
    "assess the efficiency of its customer service operations.\n",
    "\n",
    "Data:\n",
    "Let's consider the wait times (in minutes) for a sample of 100 randomly selected\n",
    "customer calls:\n",
    "\n",
    "10, 15, 12, 18, 20, 25, 8, 14, 16, 22,\n",
    "9, 17, 11, 13, 19, 23, 21, 16, 24, 27,\n",
    "13, 10, 18, 16, 12, 14, 19, 21, 11, 17,\n",
    "15, 20, 26, 13, 12, 14, 22, 19, 16, 11,\n",
    "25, 18, 16, 13, 21, 20, 15, 12, 19, 17,\n",
    "14, 16, 23, 18, 15, 11, 19, 22, 17, 12,\n",
    "16, 14, 18, 20, 25, 13, 11, 22, 19, 17,\n",
    "15, 16, 13, 14, 18, 20, 19, 21, 17, 12,\n",
    "15, 13, 16, 14, 22, 21, 19, 18, 16, 11,\n",
    "17, 14, 12, 20, 23, 19, 15, 16, 13, 18"
   ]
  },
  {
   "cell_type": "code",
   "execution_count": 71,
   "metadata": {},
   "outputs": [
    {
     "data": {
      "text/plain": [
       "np.float64(16.74)"
      ]
     },
     "execution_count": 71,
     "metadata": {},
     "output_type": "execute_result"
    }
   ],
   "source": [
    "# 1. Measure of Central Tendency: What is the average wait time for customers at the call center?\n",
    "\n",
    "wait_times = np.array([10, 15, 12, 18, 20, 25, 8, 14, 16, 22,9, 17, 11, 13, 19, 23, 21, 16, 24, 27, 13, 10, 18, 16, 12, \n",
    "                       14, 19, 21, 11, 17, 15, 20, 26, 13, 12, 14, 22, 19, 16, 11, 25, 18, 16, 13, 21, 20, 15, 12, 19, \n",
    "                       17, 14, 16, 23, 18, 15, 11, 19, 22, 17, 12, 16, 14, 18, 20, 25, 13, 11, 22, 19, 17, 15, 16, 13, \n",
    "                       14, 18, 20, 19, 21, 17, 12, 15, 13, 16, 14, 22, 21, 19, 18, 16, 11, \n",
    "                       17, 14, 12, 20, 23, 19, 15, 16, 13, 18])\n",
    "np.mean(wait_times)"
   ]
  },
  {
   "cell_type": "code",
   "execution_count": 72,
   "metadata": {},
   "outputs": [
    {
     "data": {
      "text/plain": [
       "np.int64(19)"
      ]
     },
     "execution_count": 72,
     "metadata": {},
     "output_type": "execute_result"
    }
   ],
   "source": [
    "# 2. Measure of Dispersion: What is the range of wait times for customers at the call center?\n",
    "\n",
    "np.ptp(wait_times)"
   ]
  },
  {
   "cell_type": "code",
   "execution_count": 73,
   "metadata": {},
   "outputs": [
    {
     "data": {
      "text/plain": [
       "np.float64(4.122183887213184)"
      ]
     },
     "execution_count": 73,
     "metadata": {},
     "output_type": "execute_result"
    }
   ],
   "source": [
    "# 3. Measure of Dispersion: What is the standard deviation of the wait times for customers at the call center?\n",
    "\n",
    "np.std(wait_times)"
   ]
  },
  {
   "cell_type": "markdown",
   "metadata": {},
   "source": [
    "6) Problem : A company wants to analyze the ages of its employees to understand\n",
    "the age distribution and demographics within the organization.\n",
    "\n",
    "Data:\n",
    "\n",
    "Let's consider the ages of 100 employees:\n",
    "\n",
    "28, 32, 35, 40, 42, 28, 33, 38, 30, 41,\n",
    "37, 31, 34, 29, 36, 43, 39, 27, 35, 31,\n",
    "39, 45, 29, 33, 37, 40, 36, 29, 31, 38,\n",
    "35, 44, 32, 39, 36, 30, 33, 28, 41, 35,\n",
    "31, 37, 42, 29, 34, 40, 31, 33, 38, 36,\n",
    "39, 27, 35, 30, 43, 29, 32, 36, 31, 40,\n",
    "38, 44, 37, 33, 35, 41, 30, 31, 39, 28,\n",
    "45, 29, 33, 38, 34, 32, 35, 31, 40, 36,\n",
    "39, 27, 35, 30, 43, 29, 32, 36, 31, 40,\n",
    "38, 44, 37, 33, 35, 41, 30, 31, 39, 28"
   ]
  },
  {
   "cell_type": "code",
   "execution_count": 74,
   "metadata": {},
   "outputs": [
    {
     "data": {
      "text/plain": [
       "ModeResult(mode=np.int64(31), count=np.int64(10))"
      ]
     },
     "execution_count": 74,
     "metadata": {},
     "output_type": "execute_result"
    }
   ],
   "source": [
    "# 1. Mode: What is the mode (most common age) among the employees?\n",
    "\n",
    "age_of_emp = np.array([28, 32, 35, 40, 42, 28, 33, 38, 30, 41, 37, 31, 34, 29, 36, 43, 39, 27, 35, 31,\n",
    "                        39, 45, 29, 33, 37, 40, 36, 29, 31, 38, 35, 44, 32, 39, 36, 30, 33, 28, 41, 35,\n",
    "                        31, 37, 42, 29, 34, 40, 31, 33, 38, 36, 39, 27, 35, 30, 43, 29, 32, 36, 31, 40,\n",
    "                        38, 44, 37, 33, 35, 41, 30, 31, 39, 28, 45, 29, 33, 38, 34, 32, 35, 31, 40, 36,\n",
    "                        39, 27, 35, 30, 43, 29, 32, 36, 31, 40, 38, 44, 37, 33, 35, 41, 30, 31, 39, 28])\n",
    "stats.mode(age_of_emp)"
   ]
  },
  {
   "cell_type": "code",
   "execution_count": 75,
   "metadata": {},
   "outputs": [
    {
     "data": {
      "text/plain": [
       "np.float64(35.0)"
      ]
     },
     "execution_count": 75,
     "metadata": {},
     "output_type": "execute_result"
    }
   ],
   "source": [
    "# 2. Median: What is the median age of the employees?\n",
    "\n",
    "np.median(age_of_emp)"
   ]
  },
  {
   "cell_type": "code",
   "execution_count": 76,
   "metadata": {},
   "outputs": [
    {
     "data": {
      "text/plain": [
       "np.int64(18)"
      ]
     },
     "execution_count": 76,
     "metadata": {},
     "output_type": "execute_result"
    }
   ],
   "source": [
    "# 3. Range: What is the range of ages among the employees?\n",
    "\n",
    "np.ptp(age_of_emp)"
   ]
  },
  {
   "cell_type": "markdown",
   "metadata": {},
   "source": [
    "7) Problem :A retail store wants to analyze the purchase amounts made by\n",
    "customers to understand their spending habits.\n",
    "\n",
    "Data:\n",
    "\n",
    "Let's consider the purchase amounts (in dollars) for a sample of 50 customers:\n",
    "\n",
    "56, 40, 28, 73, 52, 61, 35, 40, 47, 65,\n",
    "52, 44, 38, 60, 56, 40, 36, 49, 68, 57,\n",
    "52, 63, 41, 48, 55, 42, 39, 58, 62, 49,\n",
    "59, 45, 47, 51, 65, 41, 48, 55, 42, 39,\n",
    "58, 62, 49, 59, 45, 47, 51, 65, 43, 58\n"
   ]
  },
  {
   "cell_type": "code",
   "execution_count": 77,
   "metadata": {},
   "outputs": [
    {
     "data": {
      "text/plain": [
       "ModeResult(mode=np.int64(40), count=np.int64(3))"
      ]
     },
     "execution_count": 77,
     "metadata": {},
     "output_type": "execute_result"
    }
   ],
   "source": [
    "# 1. Mode: What is the mode (most common purchase amount) among the customers?\n",
    "\n",
    "amounts_in_dollars = np.array([56, 40, 28, 73, 52, 61, 35, 40, 47, 65, 52, 44, 38, 60, 56, 40, 36, 49, 68, 57,\n",
    "                               52, 63, 41, 48, 55, 42, 39, 58, 62, 49, 59, 45, 47, 51, 65, 41, 48, 55, 42, 39,\n",
    "                               58, 62, 49, 59, 45, 47, 51, 65, 43, 58])\n",
    "stats.mode(amounts_in_dollars)"
   ]
  },
  {
   "cell_type": "code",
   "execution_count": 78,
   "metadata": {},
   "outputs": [
    {
     "data": {
      "text/plain": [
       "np.float64(50.0)"
      ]
     },
     "execution_count": 78,
     "metadata": {},
     "output_type": "execute_result"
    }
   ],
   "source": [
    "# 2. Median: What is the median purchase amount among the customers?\n",
    "\n",
    "np.median(amounts_in_dollars)"
   ]
  },
  {
   "cell_type": "code",
   "execution_count": 79,
   "metadata": {},
   "outputs": [],
   "source": [
    "from scipy.stats import iqr"
   ]
  },
  {
   "cell_type": "code",
   "execution_count": 80,
   "metadata": {},
   "outputs": [
    {
     "data": {
      "text/plain": [
       "np.float64(15.75)"
      ]
     },
     "execution_count": 80,
     "metadata": {},
     "output_type": "execute_result"
    }
   ],
   "source": [
    "# 3. Interquartile Range: What is the interquartile range of the purchase amounts?\n",
    "\n",
    "iqr(amounts_in_dollars)"
   ]
  },
  {
   "cell_type": "markdown",
   "metadata": {},
   "source": [
    "8) Problem : A company wants to analyze the monthly sales figures of its products to\n",
    "understand the sales distribution across different price ranges.\n",
    "\n",
    "Data:\n",
    "\n",
    "Let's consider the monthly sales figures (in thousands of dollars) for a sample of 50\n",
    "products:\n",
    "\n",
    "Sales: 35, 28, 32, 45, 38, 29, 42, 30, 36, 41,\n",
    "47, 31, 39, 43, 37, 30, 34, 39, 28, 33,\n",
    "36, 40, 42, 29, 31, 45, 38, 33, 41, 35,\n",
    "37,\n",
    "34, 46, 30, 39, 43, 28, 32, 36, 29,\n",
    "31, 37, 40, 42, 33, 39, 28, 35, 38, 43"
   ]
  },
  {
   "cell_type": "code",
   "execution_count": 81,
   "metadata": {},
   "outputs": [
    {
     "data": {
      "text/plain": [
       "np.float64(36.14)"
      ]
     },
     "execution_count": 81,
     "metadata": {},
     "output_type": "execute_result"
    }
   ],
   "source": [
    "# 2. Measure of Central Tendency: What is the average monthly sales figure?\n",
    "\n",
    "monthly_sales = np.array([35, 28, 32, 45, 38, 29, 42, 30, 36, 41, 47, 31, 39, 43, 37, 30, 34, 39, 28, 33,\n",
    "                          36, 40, 42, 29, 31, 45, 38, 33, 41, 35, 37, 34, 46, 30, 39, 43, 28, 32, 36, 29,\n",
    "                          31, 37, 40, 42, 33, 39, 28, 35, 38, 43])\n",
    "np.mean(monthly_sales)"
   ]
  },
  {
   "cell_type": "markdown",
   "metadata": {},
   "source": [
    "9) Problem : A company wants to analyze the sales performance of its products\n",
    "across different regions.\n",
    "Data:\n",
    "Let's consider the sales figures (in thousands of dollars) for a sample of 50 products in\n",
    "three regions:\n",
    "Region 1: 45, 35, 40, 38, 42, 37, 39, 43, 44, 41,\n",
    "Region 2: 32, 28, 30, 34, 33, 35, 31, 29, 36, 37,\n",
    "Region 3: 40, 39, 42, 41, 38, 43, 45, 44, 41, 37"
   ]
  },
  {
   "cell_type": "code",
   "execution_count": 82,
   "metadata": {},
   "outputs": [
    {
     "name": "stdout",
     "output_type": "stream",
     "text": [
      "Average Sales for Region 1 : 40.4\n",
      "Average Sales for Region 2 : 32.5\n",
      "Average Sales for Region 3 : 41.0\n"
     ]
    }
   ],
   "source": [
    "# 1. Measure of Central Tendency: What is the average sales figure for each region?\n",
    "\n",
    "region1_sales = np.array([45, 35, 40, 38, 42, 37, 39, 43, 44, 41])\n",
    "region2_sales = np.array([32, 28, 30, 34, 33, 35, 31, 29, 36, 37])\n",
    "region3_sales = np.array([40, 39, 42, 41, 38, 43, 45, 44, 41, 37])\n",
    "\n",
    "print(\"Average Sales for Region 1 :\",np.mean(region1_sales))\n",
    "print(\"Average Sales for Region 2 :\",np.mean(region2_sales))\n",
    "print(\"Average Sales for Region 3 :\",np.mean(region3_sales))"
   ]
  },
  {
   "cell_type": "code",
   "execution_count": 83,
   "metadata": {},
   "outputs": [
    {
     "name": "stdout",
     "output_type": "stream",
     "text": [
      "Range of Sales for Region 1 : 10\n",
      "Range of Sales for Region 2 : 9\n",
      "Range of Sales for Region 3 : 8\n"
     ]
    }
   ],
   "source": [
    "# 2. Measure of Dispersion: What is the range of sales figures in each region?\n",
    "\n",
    "print(\"Range of Sales for Region 1 :\",np.ptp(region1_sales))\n",
    "print(\"Range of Sales for Region 2 :\",np.ptp(region2_sales))\n",
    "print(\"Range of Sales for Region 3 :\",np.ptp(region3_sales))"
   ]
  },
  {
   "cell_type": "markdown",
   "metadata": {},
   "source": [
    "## Questions on Percentile and Quartiles"
   ]
  },
  {
   "cell_type": "markdown",
   "metadata": {},
   "source": [
    "1) Question : A company wants to analyze the salary distribution of its employees to\n",
    "determine the income levels at different percentiles.\n",
    "\n",
    "Data:\n",
    "\n",
    "Let's consider the monthly salaries (in thousands of dollars) of a sample of 200\n",
    "employees:\n",
    "\n",
    "Salaries: 40, 45, 50, 55, 60, 62, 65, 68, 70, 72,\n",
    "75, 78, 80, 82, 85, 88, 90, 92, 95, 100,\n",
    "105, 110, 115, 120, 125, 130, 135, 140, 145, 150,\n",
    "155, 160, 165, 170, 175, 180, 185, 190, 195, 200,\n",
    "205, 210, 215, 220, 225, 230, 235, 240, 245, 250,\n",
    "255, 260, 265, 270, 275, 280, 285, 290, 295, 300,\n",
    "305, 310, 315, 320, 325, 330, 335, 340, 345, 350,\n",
    "355, 360, 365, 370, 375, 380, 385, 390, 395, 400,\n",
    "405, 410, 415, 420, 425, 430, 435, 440, 445, 450,\n",
    "455, 460, 465, 470, 475, 480, 485, 490, 495, 500"
   ]
  },
  {
   "cell_type": "code",
   "execution_count": 84,
   "metadata": {},
   "outputs": [
    {
     "name": "stdout",
     "output_type": "stream",
     "text": [
      "First Quartile (Q1): 128.75\n",
      "Second Quartile (Q2): 252.5\n",
      "Third Quartile (Q3): 376.25\n"
     ]
    }
   ],
   "source": [
    "# 1. Quartiles: Calculate the first quartile (Q1), median (Q2), and third quartile (Q3) of the salary distribution\n",
    "\n",
    "salaries_in_dollars = np.array([40, 45, 50, 55, 60, 62, 65, 68, 70, 72,75, 78, 80, 82, 85, 88, 90, 92, 95, 100,\n",
    "                                105, 110, 115, 120, 125, 130, 135, 140, 145, 150,155, 160, 165, 170, 175, 180, 185, 190, 195, \n",
    "                                200,205, 210, 215, 220, 225, 230, 235, 240, 245, 250,255, 260, 265, 270, 275, 280, 285, 290, \n",
    "                                295, 300,305, 310, 315, 320, 325, 330, 335, 340, 345, 350,355, 360, 365, 370, 375, 380, 385, \n",
    "                                390, 395, 400,405, 410, 415, 420, 425, 430, 435, 440, 445, 450,455, 460, 465, 470, 475, 480, \n",
    "                                485, 490, 495, 500])\n",
    "\n",
    "q1 = np.percentile(salaries_in_dollars, 25)\n",
    "print(\"First Quartile (Q1):\",q1)\n",
    "median = np.median(salaries_in_dollars)\n",
    "print(\"Second Quartile (Q2):\",median)\n",
    "q3 = np.percentile(salaries_in_dollars, 75)\n",
    "print(\"Third Quartile (Q3):\",q3)"
   ]
  },
  {
   "cell_type": "code",
   "execution_count": 85,
   "metadata": {},
   "outputs": [
    {
     "name": "stdout",
     "output_type": "stream",
     "text": [
      "10th Percentile of the salary distribution is 74.7\n",
      "25th percentile of the salary distribution is 128.75\n",
      "75th percentile of the salary distribution is 376.25\n",
      "90th percentile of the salary distribution is 450.50000000000006\n"
     ]
    }
   ],
   "source": [
    "# 2. Percentiles: Calculate the 10th percentile, 25th percentile, 75th percentile, and 90th\n",
    "# percentile of the salary distribution.\n",
    "\n",
    "tenth_percentile = np.percentile(salaries_in_dollars, 10)\n",
    "print(\"10th Percentile of the salary distribution is\",tenth_percentile)\n",
    "\n",
    "twentyfifth_percentile = np.percentile(salaries_in_dollars, 25)\n",
    "print(\"25th percentile of the salary distribution is\",twentyfifth_percentile)\n",
    "\n",
    "seventyfifth_percentile = np.percentile(salaries_in_dollars, 75)\n",
    "print(\"75th percentile of the salary distribution is\",seventyfifth_percentile)\n",
    "\n",
    "ninetieth_percentile = np.percentile(salaries_in_dollars, 90)\n",
    "print(\"90th percentile of the salary distribution is\",ninetieth_percentile)"
   ]
  },
  {
   "cell_type": "markdown",
   "metadata": {},
   "source": [
    "2) Question : A research study wants to analyze the weight distribution of a sample\n",
    "of individuals to assess their health and body composition.\n",
    "\n",
    "Data:\n",
    "\n",
    "Let's consider the weights (in kilograms) of a sample of 100 individuals:\n",
    "\n",
    "Weights: 55, 60, 62, 65, 68, 70, 72, 75, 78, 80,\n",
    "82, 85, 88, 90, 92, 95, 100, 105, 110, 115,\n",
    "120, 125, 130, 135, 140, 145, 150, 155, 160, 165,\n",
    "170, 175, 180, 185, 190, 195, 200, 205, 210, 215,\n",
    "220, 225, 230, 235, 240, 245, 250, 255, 260, 265,\n",
    "270, 275, 280, 285, 290, 295, 300, 305, 310, 315,\n",
    "320, 325, 330, 335, 340, 345, 350, 355, 360, 365,\n",
    "370, 375,\n",
    "380, 385, 390, 395, 400, 405, 410, 415,\n",
    "420, 425, 430, 435, 440, 445, 450, 455, 460, 465,\n",
    "470, 475, 480, 485, 490, 495, 500, 505, 510, 515\n"
   ]
  },
  {
   "cell_type": "code",
   "execution_count": 86,
   "metadata": {},
   "outputs": [
    {
     "name": "stdout",
     "output_type": "stream",
     "text": [
      "First quartile of the weight distribution is 143.75\n",
      "Second quartile of the weight distribution is 267.5\n",
      "Third quartile of the weight distribution is 391.25\n"
     ]
    }
   ],
   "source": [
    "# 1. Quartiles: Calculate the first quartile (Q1), median (Q2), and third quartile (Q3) of the weight distribution.\n",
    "\n",
    "weights = np.array([55, 60, 62, 65, 68, 70, 72, 75, 78, 80,82, 85, 88, 90, 92, 95, 100, 105, 110, 115,\n",
    "                    120, 125, 130, 135, 140, 145, 150, 155, 160, 165,170, 175, 180, 185, 190, 195, 200, 205, 210, 215,\n",
    "                    220, 225, 230, 235, 240, 245, 250, 255, 260, 265,270, 275, 280, 285, 290, 295, 300, 305, 310, 315,\n",
    "                    320, 325, 330, 335, 340, 345, 350, 355, 360, 365,370, 375,380, 385, 390, 395, 400, 405, 410, 415,\n",
    "                    420, 425, 430, 435, 440, 445, 450, 455, 460, 465,470, 475, 480, 485, 490, 495, 500, 505, 510, 515])\n",
    "q1 = np.percentile(weights, 25)\n",
    "print(\"First quartile of the weight distribution is\",q1)\n",
    "q2 = np.median(weights)\n",
    "print(\"Second quartile of the weight distribution is\",q2)\n",
    "q3 = np.percentile(weights, 75)\n",
    "print(\"Third quartile of the weight distribution is\",q3)"
   ]
  },
  {
   "cell_type": "code",
   "execution_count": 87,
   "metadata": {},
   "outputs": [
    {
     "name": "stdout",
     "output_type": "stream",
     "text": [
      "15th percentile of the weight distribution is 94.55\n",
      "50th percentile of the weight distribution is 267.5\n",
      "85th percentile of the weight distribution is 440.74999999999994\n"
     ]
    }
   ],
   "source": [
    "# 2. Percentiles: Calculate the 15th percentile, 50th percentile, and 85th percentile of the weight distribution.\n",
    "\n",
    "fifteenth_percentile = np.percentile(weights, 15)\n",
    "print(\"15th percentile of the weight distribution is\",fifteenth_percentile)\n",
    "\n",
    "fiftieth_percentile = np.percentile(weights, 50)\n",
    "print(\"50th percentile of the weight distribution is\",fiftieth_percentile)\n",
    "\n",
    "eigthyfifth_percentile = np.percentile(weights, 85)\n",
    "print(\"85th percentile of the weight distribution is\",eigthyfifth_percentile)"
   ]
  },
  {
   "cell_type": "markdown",
   "metadata": {},
   "source": [
    "3) Question : A retail store wants to analyze the distribution of customer purchase\n",
    "amounts to identify their spending patterns.\n",
    "Data:\n",
    "Let's consider the purchase amounts (in dollars) of a sample of 150 customers:\n",
    "Purchase Amounts: 20, 25, 30, 35, 40, 45, 50, 55, 60, 65,\n",
    "70, 75, 80, 85, 90, 95, 100, 105, 110, 115,\n",
    "120, 125, 130, 135, 140, 145, 150, 155, 160, 165,\n",
    "170, 175, 180, 185, 190, 195, 200, 205, 210, 215,\n",
    "220, 225, 230, 235, 240, 245, 250, 255, 260, 265,\n",
    "270, 275, 280, 285, 290, 295, 300, 305, 310, 315,\n",
    "320, 325, 330, 335, 340, 345, 350, 355, 360, 365,\n",
    "370, 375, 380, 385, 390, 395, 400, 405, 410, 415,\n",
    "420, 425, 430, 435, 440, 445, 450, 455, 460, 465,\n",
    "470, 475, 480, 485, 490, 495, 500, 505, 510, 515,\n",
    "520, 525, 530, 535, 540, 545, 550, 555, 560, 565"
   ]
  },
  {
   "cell_type": "code",
   "execution_count": 88,
   "metadata": {},
   "outputs": [
    {
     "name": "stdout",
     "output_type": "stream",
     "text": [
      "First quartile of the purchase amount distribution is 156.25\n",
      "Second quartile of the purchase amount distribution is 292.5\n",
      "Third quartile of the purchase amount distribution is 428.75\n"
     ]
    }
   ],
   "source": [
    "# 1. Quartiles: Calculate the first quartile (Q1), median (Q2), and third quartile (Q3) of the\n",
    "# purchase amount distribution.\n",
    "\n",
    "purchase_amounts = np.array([20, 25, 30, 35, 40, 45, 50, 55, 60, 65,70, 75, 80, 85, 90, 95, 100, 105, 110, 115,\n",
    "                             120, 125, 130, 135, 140, 145, 150, 155, 160, 165,170, 175, 180, 185, 190, 195, 200, 205, 210,215,\n",
    "                             220, 225, 230, 235, 240, 245, 250, 255, 260, 265,270, 275, 280, 285, 290, 295, 300, 305, 310,315,\n",
    "                             320, 325, 330, 335, 340, 345, 350, 355, 360, 365,370, 375, 380, 385, 390, 395, 400, 405, 410,415,\n",
    "                             420, 425, 430, 435, 440, 445, 450, 455, 460, 465,470, 475, 480, 485, 490, 495, 500, 505, 510,515,\n",
    "                             520, 525, 530, 535, 540, 545, 550, 555, 560, 565])\n",
    "q1 = np.percentile(purchase_amounts, 25)\n",
    "print(\"First quartile of the purchase amount distribution is\",q1)\n",
    "\n",
    "q2 = np.median(purchase_amounts)\n",
    "print(\"Second quartile of the purchase amount distribution is\",q2)\n",
    "\n",
    "q3 = np.percentile(purchase_amounts, 75)\n",
    "print(\"Third quartile of the purchase amount distribution is\",q3)"
   ]
  },
  {
   "cell_type": "code",
   "execution_count": 89,
   "metadata": {},
   "outputs": [
    {
     "name": "stdout",
     "output_type": "stream",
     "text": [
      "20th percentile of the weight distribution is 129.0\n",
      "40th percentile of the weight distribution is 238.0\n",
      "80th percentile of the weight distribution is 456.0\n"
     ]
    }
   ],
   "source": [
    "# 2. Percentiles: Calculate the 20th percentile, 40th percentile, and 80th percentile of the\n",
    "# purchase amount distribution.\n",
    "\n",
    "twentieth_percentile = np.percentile(purchase_amounts, 20)\n",
    "print(\"20th percentile of the weight distribution is\",twentieth_percentile)\n",
    "\n",
    "fortieth_percentile = np.percentile(purchase_amounts, 40)\n",
    "print(\"40th percentile of the weight distribution is\",fortieth_percentile)\n",
    "\n",
    "eightieth_percentile = np.percentile(purchase_amounts, 80)\n",
    "print(\"80th percentile of the weight distribution is\",eightieth_percentile)"
   ]
  },
  {
   "cell_type": "markdown",
   "metadata": {},
   "source": [
    "4) Question : A study wants to analyze the distribution of commute times of\n",
    "employees to determine the average time spent traveling to work.\n",
    "\n",
    "Data:\n",
    "\n",
    "Let's consider the commute times (in minutes) of a sample of 250 employees:\n",
    "\n",
    "Commute Times: 15, 20, 25, 30, 35, 40, 45, 50, 55, 60,\n",
    "65, 70, 75, 80, 85, 90, 95, 100, 105, 110,\n",
    "115, 120, 125, 130, 135, 140, 145, 150, 155, 160,\n",
    "165, 170, 175, 180, 185, 190, 195, 200, 205, 210,\n",
    "215, 220, 225, 230, 235, 240, 245, 250, 255, 260,\n",
    "265, 270, 275, 280, 285, 290, 295, 300, 305, 310,\n",
    "315, 320, 325, 330, 335, 340, 345, 350, 355, 360,\n",
    "365, 370, 375, 380, 385, 390, 395, 400, 405, 410,\n",
    "415, 420, 425, 430, 435, 440, 445, 450, 455, 460,\n",
    "465, 470, 475, 480, 485, 490, 495, 500, 505, 510,\n",
    "515, 520, 525, 530, 535, 540, 545, 550, 555, 560,\n",
    "565, 570, 575, 580, 585, 590, 595, 600, 605, 610"
   ]
  },
  {
   "cell_type": "code",
   "execution_count": 90,
   "metadata": {},
   "outputs": [
    {
     "name": "stdout",
     "output_type": "stream",
     "text": [
      "First quartile of the commute time distribution is 163.75\n",
      "Second quartile of the commute time distribution is 312.5\n",
      "Third quartile of the commute time distribution is 461.25\n"
     ]
    }
   ],
   "source": [
    "# 1. Quartiles: Calculate the first quartile (Q1), median (Q2), and third quartile (Q3) of the\n",
    "# commute time distribution.\n",
    "\n",
    "commute_times = np.array([15, 20, 25, 30, 35, 40, 45, 50, 55, 60,65, 70, 75, 80, 85, 90, 95, 100, 105, 110,\n",
    "                          115, 120, 125, 130, 135, 140, 145, 150, 155, 160,165, 170, 175, 180, 185, 190, 195, 200, 205, 210,\n",
    "                          215, 220, 225, 230, 235, 240, 245, 250, 255, 260,265, 270, 275, 280, 285, 290, 295, 300, 305, 310,\n",
    "                          315, 320, 325, 330, 335, 340, 345, 350, 355, 360,365, 370, 375, 380, 385, 390, 395, 400, 405, 410,\n",
    "                          415, 420, 425, 430, 435, 440, 445, 450, 455, 460,465, 470, 475, 480, 485, 490, 495, 500, 505, 510,\n",
    "                          515, 520, 525, 530, 535, 540, 545, 550, 555, 560,565, 570, 575, 580, 585, 590, 595, 600, 605, 610])\n",
    "q1 = np.percentile(commute_times, 25)\n",
    "print(\"First quartile of the commute time distribution is\",q1)\n",
    "\n",
    "q2 = np.median(commute_times)\n",
    "print(\"Second quartile of the commute time distribution is\",q2)\n",
    "\n",
    "q3 = np.percentile(commute_times, 75)\n",
    "print(\"Third quartile of the commute time distribution is\",q3)"
   ]
  },
  {
   "cell_type": "code",
   "execution_count": 91,
   "metadata": {},
   "outputs": [
    {
     "name": "stdout",
     "output_type": "stream",
     "text": [
      "30th percentile of the commute time distribution is 193.49999999999997\n",
      "50th percentile of the commute time distribution is 312.5\n",
      "70th percentile of the commute time distribution is 431.5\n"
     ]
    }
   ],
   "source": [
    "# 2. Percentiles: Calculate the 30th percentile, 50th percentile, and 70th percentile of the\n",
    "# commute time distribution.\n",
    "\n",
    "thirtieth_percentile = np.percentile(commute_times, 30)\n",
    "print(\"30th percentile of the commute time distribution is\",thirtieth_percentile)\n",
    "\n",
    "fiftieth_percentile = np.percentile(commute_times, 50)\n",
    "print(\"50th percentile of the commute time distribution is\",fiftieth_percentile)\n",
    "\n",
    "seventieth_percentile = np.percentile(commute_times, 70)\n",
    "print(\"70th percentile of the commute time distribution is\",seventieth_percentile)"
   ]
  },
  {
   "cell_type": "markdown",
   "metadata": {},
   "source": [
    "## Questions on Correlation and Covariance"
   ]
  },
  {
   "cell_type": "markdown",
   "metadata": {},
   "source": [
    "1) Question : A marketing department wants to understand the relationship between\n",
    "advertising expenditure and sales revenue to assess the effectiveness of their\n",
    "advertising campaigns.\n",
    "Data:\n",
    "\n",
    "Let's consider the monthly advertising expenditure (in thousands of dollars) and\n",
    "corresponding sales revenue (in thousands of dollars) for a sample of 12 months:\n",
    "\n",
    "Advertising Expenditure: 10, 12, 15, 18, 20, 22, 25, 28, 30, 32, 35, 38\n",
    "\n",
    "Sales Revenue: 50, 55, 60, 65, 70, 75, 80, 85, 90, 95, 100, 105"
   ]
  },
  {
   "cell_type": "code",
   "execution_count": 92,
   "metadata": {},
   "outputs": [
    {
     "data": {
      "text/plain": [
       "array([[1.        , 0.99921031],\n",
       "       [0.99921031, 1.        ]])"
      ]
     },
     "execution_count": 92,
     "metadata": {},
     "output_type": "execute_result"
    }
   ],
   "source": [
    "# Calculate the correlation coefficient between advertising expenditure and sales revenue.\n",
    "# Interpret the value of the correlation coefficient and explain the nature of the relationship\n",
    "# between advertising expenditure and sales revenue.\n",
    "\n",
    "advertising_expenditure = np.array([10, 12, 15, 18, 20, 22, 25, 28, 30, 32, 35, 38])\n",
    "sales_revenue = np.array([50, 55, 60, 65, 70, 75, 80, 85, 90, 95, 100, 105])\n",
    "\n",
    "np.corrcoef(advertising_expenditure, sales_revenue)"
   ]
  },
  {
   "cell_type": "markdown",
   "metadata": {},
   "source": [
    "2) Question : An investment analyst wants to assess the relationship between the\n",
    "stock prices of two companies to identify potential investment opportunities.\n",
    "\n",
    "Data:\n",
    "\n",
    "Let's consider the daily closing prices (in dollars) of Company A and Company B for a\n",
    "sample of 20 trading days:\n",
    "\n",
    "Company A: 45, 47, 48, 50, 52, 53, 55, 56, 58, 60, 62, 64, 65, 67, 69, 70, 72, 74, 76, 77\n",
    "\n",
    "Company B: 52, 54, 55, 57, 59, 60, 61, 62, 64, 66, 67, 69, 71, 73, 74, 76, 78, 80, 82, 83"
   ]
  },
  {
   "cell_type": "code",
   "execution_count": 93,
   "metadata": {},
   "outputs": [
    {
     "data": {
      "text/plain": [
       "array([[101.89473684,  97.52631579],\n",
       "       [ 97.52631579,  93.60789474]])"
      ]
     },
     "execution_count": 93,
     "metadata": {},
     "output_type": "execute_result"
    }
   ],
   "source": [
    "# Calculate the covariance between the stock prices of Company A and Company B.\n",
    "# Interpret the value of the covariance and explain the nature of the relationship between\n",
    "# the two stocks.\n",
    "\n",
    "company_A = np.array([45, 47, 48, 50, 52, 53, 55, 56, 58, 60, 62, 64, 65, 67, 69, 70, 72, 74, 76, 77])\n",
    "company_B = np.array([52, 54, 55, 57, 59, 60, 61, 62, 64, 66, 67, 69, 71, 73, 74, 76, 78, 80, 82, 83])\n",
    "np.cov(company_A, company_B)"
   ]
  },
  {
   "cell_type": "markdown",
   "metadata": {},
   "source": [
    "## Questions on Confidence Interval and Hypothesis Testings\n",
    "## Confidence Interval Problems:"
   ]
  },
  {
   "cell_type": "markdown",
   "metadata": {},
   "source": [
    "1. Problem: A study is conducted to estimate the mean height of a population. A random\n",
    "sample of 100 individuals is selected, and their heights are measured. Calculate a 95%\n",
    "confidence interval for the population mean height, given that the sample mean height is\n",
    "170 cm and the sample standard deviation is 8 cm.\n",
    "\n",
    "Data: Sample size (n) = 100, Sample mean (x̄) = 170 cm, Sample standard deviation\n",
    "(s) = 8 cm, Confidence level = 95%"
   ]
  },
  {
   "cell_type": "code",
   "execution_count": 94,
   "metadata": {},
   "outputs": [],
   "source": [
    "sample_size = 100\n",
    "sample_mean = 170\n",
    "sample_std = 8\n",
    "confidence_level = 0.95"
   ]
  },
  {
   "cell_type": "code",
   "execution_count": 95,
   "metadata": {},
   "outputs": [
    {
     "data": {
      "text/plain": [
       "0.050000000000000044"
      ]
     },
     "execution_count": 95,
     "metadata": {},
     "output_type": "execute_result"
    }
   ],
   "source": [
    "significance_level = 1-confidence_level\n",
    "significance_level"
   ]
  },
  {
   "cell_type": "code",
   "execution_count": 96,
   "metadata": {},
   "outputs": [
    {
     "data": {
      "text/plain": [
       "np.float64(1.959963984540054)"
      ]
     },
     "execution_count": 96,
     "metadata": {},
     "output_type": "execute_result"
    }
   ],
   "source": [
    "z_critical = stats.norm.ppf(1-significance_level/2)\n",
    "z_critical"
   ]
  },
  {
   "cell_type": "code",
   "execution_count": 97,
   "metadata": {},
   "outputs": [
    {
     "data": {
      "text/plain": [
       "np.float64(0.8)"
      ]
     },
     "execution_count": 97,
     "metadata": {},
     "output_type": "execute_result"
    }
   ],
   "source": [
    "standard_error = sample_std/np.sqrt(sample_size)\n",
    "standard_error"
   ]
  },
  {
   "cell_type": "code",
   "execution_count": 98,
   "metadata": {},
   "outputs": [
    {
     "data": {
      "text/plain": [
       "np.float64(1.5679711876320432)"
      ]
     },
     "execution_count": 98,
     "metadata": {},
     "output_type": "execute_result"
    }
   ],
   "source": [
    "margin_of_error = z_critical*standard_error\n",
    "margin_of_error"
   ]
  },
  {
   "cell_type": "code",
   "execution_count": 99,
   "metadata": {},
   "outputs": [
    {
     "name": "stdout",
     "output_type": "stream",
     "text": [
      "95% Confidence Interval: (168.43202881236795, 171.56797118763205)\n"
     ]
    }
   ],
   "source": [
    "lower_bound = sample_mean - margin_of_error\n",
    "upper_bound = sample_mean + margin_of_error\n",
    "print(f\"95% Confidence Interval: ({lower_bound}, {upper_bound})\")"
   ]
  },
  {
   "cell_type": "markdown",
   "metadata": {},
   "source": [
    "## Hypothesis Testing Problems:"
   ]
  },
  {
   "cell_type": "markdown",
   "metadata": {},
   "source": [
    "1. Problem: A manufacturing company claims that the average weight of its product is\n",
    "500 grams. To test this claim, a random sample of 25 products is selected, and their\n",
    "weights are measured. The sample mean weight is found to be 510 grams with a\n",
    "sample standard deviation of 20 grams. Perform a hypothesis test to determine if there\n",
    "is evidence to support the company's claim.\n",
    "\n",
    "Data: Sample size (n) = 25, Sample mean (x̄) = 510 grams, Sample standard\n",
    "deviation (s) = 20 grams, Population mean (μ) = 500 grams"
   ]
  },
  {
   "cell_type": "code",
   "execution_count": 100,
   "metadata": {},
   "outputs": [],
   "source": [
    "from statsmodels.stats.weightstats import ttest_ind"
   ]
  },
  {
   "cell_type": "code",
   "execution_count": 101,
   "metadata": {},
   "outputs": [],
   "source": [
    "sample_size = 25\n",
    "sample_mean = 510\n",
    "sample_std = 20\n",
    "population_mean = 500\n",
    "confidence_level = 0.95"
   ]
  },
  {
   "cell_type": "code",
   "execution_count": 102,
   "metadata": {},
   "outputs": [
    {
     "data": {
      "text/plain": [
       "np.float64(2.5)"
      ]
     },
     "execution_count": 102,
     "metadata": {},
     "output_type": "execute_result"
    }
   ],
   "source": [
    "t_statistic =  ((sample_mean - population_mean) / (sample_std / np.sqrt(sample_size)))\n",
    "t_statistic"
   ]
  },
  {
   "cell_type": "code",
   "execution_count": 103,
   "metadata": {},
   "outputs": [
    {
     "data": {
      "text/plain": [
       "24"
      ]
     },
     "execution_count": 103,
     "metadata": {},
     "output_type": "execute_result"
    }
   ],
   "source": [
    "df = sample_size-1\n",
    "df"
   ]
  },
  {
   "cell_type": "code",
   "execution_count": 104,
   "metadata": {},
   "outputs": [
    {
     "data": {
      "text/plain": [
       "0.050000000000000044"
      ]
     },
     "execution_count": 104,
     "metadata": {},
     "output_type": "execute_result"
    }
   ],
   "source": [
    "alpha = 1-confidence_level\n",
    "alpha"
   ]
  },
  {
   "cell_type": "code",
   "execution_count": 105,
   "metadata": {},
   "outputs": [
    {
     "data": {
      "text/plain": [
       "np.float64(0.01965417511657863)"
      ]
     },
     "execution_count": 105,
     "metadata": {},
     "output_type": "execute_result"
    }
   ],
   "source": [
    "p_value = 2 * (1 - stats.t.cdf(abs(t_statistic), df))\n",
    "p_value"
   ]
  },
  {
   "cell_type": "code",
   "execution_count": 106,
   "metadata": {},
   "outputs": [
    {
     "name": "stdout",
     "output_type": "stream",
     "text": [
      "Null Hypothesis Rejected : There is significant evidence that the mean weight is different from 500 grams.\n"
     ]
    }
   ],
   "source": [
    "if p_value < alpha:\n",
    "    print(\"Null Hypothesis Rejected : There is significant evidence that the mean weight is different from 500 grams.\")\n",
    "else:\n",
    "    print(\"Fail to reject Null Hypothesis : There is no significant evidence that the mean weight is differs from 500 grams.\")"
   ]
  },
  {
   "cell_type": "code",
   "execution_count": null,
   "metadata": {},
   "outputs": [],
   "source": []
  }
 ],
 "metadata": {
  "kernelspec": {
   "display_name": "Python 3",
   "language": "python",
   "name": "python3"
  },
  "language_info": {
   "codemirror_mode": {
    "name": "ipython",
    "version": 3
   },
   "file_extension": ".py",
   "mimetype": "text/x-python",
   "name": "python",
   "nbconvert_exporter": "python",
   "pygments_lexer": "ipython3",
   "version": "3.13.0"
  }
 },
 "nbformat": 4,
 "nbformat_minor": 2
}
