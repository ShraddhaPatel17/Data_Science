{
 "cells": [
  {
   "cell_type": "code",
   "execution_count": 2,
   "id": "98282cc6",
   "metadata": {},
   "outputs": [],
   "source": [
    "import numpy as np\n",
    "import pandas as pd\n",
    "import matplotlib.pyplot as plt\n",
    "import seaborn as sns\n",
    "from scipy import stats"
   ]
  },
  {
   "cell_type": "markdown",
   "id": "6066897f",
   "metadata": {},
   "source": [
    "1) Business Problem: A car rental company wants to analyze the rental durations of\n",
    "its customers to understand the typical rental period and optimize its pricing and\n",
    "fleet management strategies.\n",
    "\n",
    "Data:\n",
    "Let's consider the rental durations (in days) for a sample of 50 customers:\n",
    "\n",
    "3, 2, 5, 4, 7, 2, 3, 3, 1, 6,\n",
    "4, 2, 3, 5, 2, 4, 2, 1, 3, 5,\n",
    "6, 3, 2, 1, 4, 2, 4, 5, 3, 2,\n",
    "7, 2, 3, 4, 5, 1, 6, 2, 4, 3,\n",
    "5, 3, 2, 4, 2, 6, 3, 2, 4, 5"
   ]
  },
  {
   "cell_type": "code",
   "execution_count": 3,
   "id": "11ec909c",
   "metadata": {},
   "outputs": [
    {
     "data": {
      "text/plain": [
       "np.float64(3.44)"
      ]
     },
     "execution_count": 3,
     "metadata": {},
     "output_type": "execute_result"
    }
   ],
   "source": [
    "# 1. Mean: What is the average rental duration for customers at the car rental company?\n",
    "rental_durations = np.array([3, 2, 5, 4, 7, 2, 3, 3, 1, 6,4, 2, 3, 5, 2, 4, 2, 1, 3, 5, 6, 3, 2, 1, 4, 2, 4, 5, 3, 2,\n",
    "                             7, 2, 3, 4, 5, 1, 6, 2, 4, 3,5, 3, 2, 4, 2, 6, 3, 2, 4, 5])\n",
    "np.mean(rental_durations)"
   ]
  },
  {
   "cell_type": "code",
   "execution_count": 4,
   "id": "bbe36a4f",
   "metadata": {},
   "outputs": [
    {
     "data": {
      "text/plain": [
       "np.float64(3.0)"
      ]
     },
     "execution_count": 4,
     "metadata": {},
     "output_type": "execute_result"
    }
   ],
   "source": [
    "# 2. Median: What is the typical or central rental duration experienced by customers?\n",
    "np.median(rental_durations)"
   ]
  },
  {
   "cell_type": "code",
   "execution_count": 5,
   "id": "07b12219",
   "metadata": {},
   "outputs": [
    {
     "data": {
      "text/plain": [
       "ModeResult(mode=np.int64(2), count=np.int64(13))"
      ]
     },
     "execution_count": 5,
     "metadata": {},
     "output_type": "execute_result"
    }
   ],
   "source": [
    "# 3. Mode: Are there any recurring or most frequently occurring rental durations for customers?\n",
    "stats.mode(rental_durations)"
   ]
  },
  {
   "cell_type": "markdown",
   "id": "f09e3600",
   "metadata": {},
   "source": [
    "2) Problem: A manufacturing company wants to analyze the production output of a\n",
    "specific machine to understand the variability or spread in its performance.\n",
    "\n",
    "Data:\n",
    "Let's consider the number of units produced per hour by the machine for a sample of 10\n",
    "working days:\n",
    "\n",
    "Day 1: 120 units\n",
    "\n",
    "Day 2: 110 units\n",
    "\n",
    "Day 3: 130 units\n",
    "\n",
    "Day 4: 115 units\n",
    "\n",
    "Day 5: 125 units\n",
    "\n",
    "Day 6: 105 units\n",
    "\n",
    "Day 7: 135 units\n",
    "\n",
    "Day 8: 115 units\n",
    "\n",
    "Day 9: 125 units\n",
    "\n",
    "Day 10: 140 units"
   ]
  },
  {
   "cell_type": "code",
   "execution_count": null,
   "id": "4638dfdd",
   "metadata": {},
   "outputs": [],
   "source": [
    "# 1. Range: What is the range of the production output for the machine?\n",
    "production_output = np.array([120,110,130,115,125,105,135,115,125,140])\n",
    "print(np.max(production_output) - np.min(production_output))\n",
    "np.ptp(production_output)"
   ]
  },
  {
   "cell_type": "code",
   "execution_count": null,
   "id": "b55c2861",
   "metadata": {},
   "outputs": [],
   "source": [
    "# 2. Variance: What is the variance of the production output for the machine?\n",
    "np.var(production_output)"
   ]
  },
  {
   "cell_type": "code",
   "execution_count": null,
   "id": "4ad6649f",
   "metadata": {},
   "outputs": [],
   "source": [
    "# 3. Standard Deviation: What is the standard deviation of the production output for the machine?\n",
    "np.std(production_output)"
   ]
  },
  {
   "cell_type": "markdown",
   "id": "3ecf1510",
   "metadata": {},
   "source": [
    "3) Problem : A transportation company wants to analyze the fuel efficiency of its\n",
    "vehicle fleet to identify any variations across different vehicle models.\n",
    "\n",
    "Data:\n",
    "Let's consider the fuel efficiency (in miles per gallon, mpg) for a sample of 50 vehicles:\n",
    "\n",
    "Model A: 30, 32, 33, 28, 31, 30, 29, 30, 32, 31,\n",
    "\n",
    "Model B: 25, 27, 26, 23, 28, 24, 26, 25, 27, 28,\n",
    "\n",
    "Model C: 22, 23, 20, 25, 21, 24, 23, 22, 25, 24,\n",
    "\n",
    "Model D: 18, 17, 19, 20, 21, 18, 19, 17, 20, 19,\n",
    "\n",
    "Model E: 35, 36, 34, 35, 33, 34, 32, 33, 36, 34"
   ]
  },
  {
   "cell_type": "code",
   "execution_count": null,
   "id": "e1db8f26",
   "metadata": {},
   "outputs": [],
   "source": [
    "# 1. Measure of Central Tendency: What is the average fuel efficiency for each vehicle model?\n",
    "fuel_efficiency_modelA = np.array([30, 32, 33, 28, 31, 30, 29, 30, 32, 31])\n",
    "fuel_efficiency_modelB = np.array([25, 27, 26, 23, 28, 24, 26, 25, 27, 28])\n",
    "fuel_efficiency_modelC = np.array([22, 23, 20, 25, 21, 24, 23, 22, 25, 24])\n",
    "fuel_efficiency_modelD = np.array([18, 17, 19, 20, 21, 18, 19, 17, 20, 19])\n",
    "fuel_efficiency_modelE = np.array([35, 36, 34, 35, 33, 34, 32, 33, 36, 34])\n",
    "\n",
    "print(f\"\"\"Fuel Efficiency for Model A : {np.mean(fuel_efficiency_modelA)}\n",
    "Fuel Efficiency for MOdel B : {np.mean(fuel_efficiency_modelB)}\n",
    "Fuel Efficiency for Model C : {np.mean(fuel_efficiency_modelC)}\n",
    "Fuel Efficiency for Model D : {np.mean(fuel_efficiency_modelD)}\n",
    "Fuel Efficiency for Model E : {np.mean(fuel_efficiency_modelE)}\"\"\")"
   ]
  },
  {
   "cell_type": "code",
   "execution_count": null,
   "id": "75a29981",
   "metadata": {},
   "outputs": [],
   "source": [
    "# 2. Measure of Dispersion: What is the range of fuel efficiency for each vehicle model?\n",
    "print(f\"\"\"Range of Fuel Efficiency for Model A : {np.ptp(fuel_efficiency_modelA)}\n",
    "Range of Fuel Efficiency for Model B : {np.ptp(fuel_efficiency_modelB)}\n",
    "Range of Fuel Efficiency for Model C : {np.ptp(fuel_efficiency_modelC)}\n",
    "Range of Fuel Efficiency for Model D : {np.ptp(fuel_efficiency_modelD)}\n",
    "Range of Fuel Efficiency for Model E : {np.ptp(fuel_efficiency_modelE)}\"\"\")"
   ]
  },
  {
   "cell_type": "code",
   "execution_count": null,
   "id": "ec736e48",
   "metadata": {},
   "outputs": [],
   "source": [
    "# 3. Measure of Dispersion: What is the variance of the fuel efficiency for each vehicle model?\n",
    "print(f\"\"\"Variance of Fuel Efficiency for Model A : {np.var(fuel_efficiency_modelA)}\n",
    "Variance of Fuel Efficiency for Model B : {np.var(fuel_efficiency_modelB)}\n",
    "Variance of Fuel Efficiency for Model C : {np.var(fuel_efficiency_modelC)}\n",
    "Variance of Fuel Efficiency for Model D : {np.var(fuel_efficiency_modelD)}\n",
    "Variance of Fuel Efficiency for Model E : {np.var(fuel_efficiency_modelE)}\"\"\")"
   ]
  },
  {
   "cell_type": "markdown",
   "id": "55be39cc",
   "metadata": {},
   "source": [
    "4) Problem : A manufacturing company wants to analyze the defect rates of its\n",
    "production line to identify the frequency of different types of defects.\n",
    "\n",
    "Data:\n",
    "\n",
    "Let's consider the types of defects and their corresponding frequencies observed in a\n",
    "sample of 200 products:\n",
    "\n",
    "Defect Type: A, B, C, D, E, F, G\n",
    "\n",
    "Frequency: 30, 40, 20, 10, 45, 25, 30"
   ]
  },
  {
   "cell_type": "code",
   "execution_count": 6,
   "id": "60117aad",
   "metadata": {},
   "outputs": [
    {
     "data": {
      "image/png": "[encoded data removed]",
      "text/plain": [
       "<Figure size 640x480 with 1 Axes>"
      ]
     },
     "metadata": {},
     "output_type": "display_data"
    }
   ],
   "source": [
    "# 1. Bar Chart: Create a bar chart to visualize the frequency of different defect types.\n",
    "defect_type = np.array(['A', 'B', 'C', 'D', 'E', 'F', 'G'])\n",
    "frequency = np.array([30, 40, 20, 10, 45, 25, 30])\n",
    "plt.bar(defect_type, frequency)\n",
    "plt.xlabel('Defect Type')\n",
    "plt.ylabel('Frequency')\n",
    "plt.title('Frequency of defective products in different types')\n",
    "plt.show()"
   ]
  },
  {
   "cell_type": "code",
   "execution_count": 7,
   "id": "aca80c73",
   "metadata": {},
   "outputs": [
    {
     "data": {
      "text/plain": [
       "ModeResult(mode=np.int64(30), count=np.int64(2))"
      ]
     },
     "execution_count": 7,
     "metadata": {},
     "output_type": "execute_result"
    }
   ],
   "source": [
    "# 2. Most Common Defect: Which defect type has the highest frequency?\n",
    "stats.mode(frequency)"
   ]
  },
  {
   "cell_type": "code",
   "execution_count": 8,
   "id": "528e354b",
   "metadata": {},
   "outputs": [
    {
     "data": {
      "image/png": "[encoded data removed]",
      "text/plain": [
       "<Figure size 640x480 with 1 Axes>"
      ]
     },
     "metadata": {},
     "output_type": "display_data"
    }
   ],
   "source": [
    "# 3. Histogram: Create a histogram to represent the defect frequencies.\n",
    "data = []\n",
    "for defect, freq in zip(defect_type, frequency):\n",
    "    data.extend([defect] * freq)\n",
    "plt.hist(data, bins=len(defect_type))\n",
    "plt.title('Frequency of defective products in different types')\n",
    "plt.xlabel('Defect Type')\n",
    "plt.ylabel('Frequency')\n",
    "plt.show()"
   ]
  },
  {
   "cell_type": "markdown",
   "id": "a848c2d9",
   "metadata": {},
   "source": [
    "5) Problem : A survey was conducted to gather feedback from customers about their\n",
    "satisfaction levels with a specific service on a scale of 1 to 5.\n",
    "\n",
    "Data:\n",
    "\n",
    "Let's consider the satisfaction ratings from 100 customers:\n",
    "\n",
    "Ratings: 4, 5, 3, 4, 4, 3, 2, 5, 4, 3,\n",
    "5, 4, 2, 3, 4, 5, 3, 4, 5, 3,\n",
    "4, 3, 2, 4, 5, 3, 4, 5, 4, 3,\n",
    "3, 4, 5, 2, 3, 4, 4, 3, 5, 4,\n",
    "3, 4, 5, 4, 2, 3, 4, 5, 3, 4,\n",
    "5, 4, 3, 4, 5, 3, 4, 5, 4, 3,\n",
    "3, 4, 5, 2, 3, 4, 4, 3, 5, 4,\n",
    "3, 4, 5, 4, 2, 3, 4, 5, 3, 4,\n",
    "5, 4, 3, 4, 5, 3, 4, 5, 4, 3,\n",
    "3, 4, 5, 2, 3, 4, 4, 3, 5, 4"
   ]
  },
  {
   "cell_type": "code",
   "execution_count": 9,
   "id": "9c4bb24a",
   "metadata": {},
   "outputs": [
    {
     "data": {
      "image/png": "[encoded data removed]",
      "text/plain": [
       "<Figure size 640x480 with 1 Axes>"
      ]
     },
     "metadata": {},
     "output_type": "display_data"
    }
   ],
   "source": [
    "# 1. Histogram: Create a histogram to visualize the distribution of satisfaction ratings.\n",
    "ratings = np.array([4, 5, 3, 4, 4, 3, 2, 5, 4, 3,5, 4, 2, 3, 4, 5, 3, 4, 5, 3,4, 3, 2, 4, 5, 3, 4, 5, 4, 3,\n",
    "                    3, 4, 5, 2, 3, 4, 4, 3, 5, 4,3, 4, 5, 4, 2, 3, 4, 5, 3, 4,5, 4, 3, 4, 5, 3, 4, 5, 4, 3,\n",
    "                    3, 4, 5, 2, 3, 4, 4, 3, 5, 4,3, 4, 5, 4, 2, 3, 4, 5, 3, 4,5, 4, 3, 4, 5, 3, 4, 5, 4, 3,\n",
    "                    3, 4, 5, 2, 3, 4, 4, 3, 5, 4])\n",
    "sns.histplot(ratings, bins=np.arange(1.5,6.6,1))\n",
    "plt.xticks([2, 3, 4, 5])\n",
    "plt.xlabel('Ratings')\n",
    "plt.ylabel('Frequency of ratings')\n",
    "plt.title('Distribution of satisfaction ratings')\n",
    "plt.show()"
   ]
  },
  {
   "cell_type": "code",
   "execution_count": 10,
   "id": "e7bbdf55",
   "metadata": {},
   "outputs": [
    {
     "name": "stdout",
     "output_type": "stream",
     "text": [
      "ModeResult(mode=np.int64(4), count=np.int64(39))\n"
     ]
    }
   ],
   "source": [
    "# 2. Mode: Which satisfaction rating has the highest frequency?\n",
    "highest_rating = stats.mode(ratings)\n",
    "print(highest_rating)"
   ]
  },
  {
   "cell_type": "code",
   "execution_count": 11,
   "id": "93623826",
   "metadata": {},
   "outputs": [
    {
     "data": {
      "image/png": "[encoded data removed]",
      "text/plain": [
       "<Figure size 640x480 with 1 Axes>"
      ]
     },
     "metadata": {},
     "output_type": "display_data"
    }
   ],
   "source": [
    "# 3. Bar Chart: Create a bar chart to display the frequency of each satisfaction rating.\n",
    "unique_r, freq_of_ratings = np.unique(ratings, return_counts=True)\n",
    "plt.bar(unique_r,freq_of_ratings)\n",
    "plt.xticks([2, 3, 4, 5])\n",
    "plt.xlabel('Ratings')\n",
    "plt.ylabel('Frequency of ratings')\n",
    "plt.title('Distribution of each satisfaction ratings')\n",
    "plt.show()"
   ]
  },
  {
   "cell_type": "markdown",
   "id": "10eba1f1",
   "metadata": {},
   "source": [
    "6) Problem : A study was conducted to analyze the response times of a website for\n",
    "different user locations.\n",
    "\n",
    "Data:\n",
    "\n",
    "Let's consider the response times (in milliseconds) for a sample of 200 user requests:\n",
    "\n",
    "Response Times: 125, 148, 137, 120, 135, 132, 145, 122, 130, 141,\n",
    "118, 125, 132, 136, 128, 123, 132, 138, 126, 129,\n",
    "136, 127, 130, 122, 125, 133, 140, 126, 133, 135,\n",
    "130, 134, 141, 119, 125, 131, 136, 128, 124, 132,\n",
    "136, 127, 130, 122, 125, 133, 140, 126, 133, 135,\n",
    "130, 134, 141, 119, 125, 131, 136, 128, 124, 132,\n",
    "136, 127, 130, 122, 125, 133, 140, 126, 133, 135,\n",
    "130, 134, 141, 119, 125, 131, 136, 128, 124, 132,\n",
    "136, 127, 130, 122, 125, 133, 140, 126, 133, 135,\n",
    "130, 134, 141, 119, 125, 131, 136, 128, 124, 132"
   ]
  },
  {
   "cell_type": "code",
   "execution_count": 12,
   "id": "12781e52",
   "metadata": {},
   "outputs": [
    {
     "data": {
      "image/png": "[encoded data removed]",
      "text/plain": [
       "<Figure size 640x480 with 1 Axes>"
      ]
     },
     "metadata": {},
     "output_type": "display_data"
    }
   ],
   "source": [
    "# 1. Histogram: Create a histogram to visualize the distribution of response times.\n",
    "response_times = np.array([125, 148, 137, 120, 135, 132, 145, 122, 130, 141,\n",
    "                            118, 125, 132, 136, 128, 123, 132, 138, 126, 129,\n",
    "                            136, 127, 130, 122, 125, 133, 140, 126, 133, 135,\n",
    "                            130, 134, 141, 119, 125, 131, 136, 128, 124, 132,\n",
    "                            136, 127, 130, 122, 125, 133, 140, 126, 133, 135,\n",
    "                            130, 134, 141, 119, 125, 131, 136, 128, 124, 132,\n",
    "                            136, 127, 130, 122, 125, 133, 140, 126, 133, 135,\n",
    "                            130, 134, 141, 119, 125, 131, 136, 128, 124, 132,\n",
    "                            136, 127, 130, 122, 125, 133, 140, 126, 133, 135,\n",
    "                            130, 134, 141, 119, 125, 131, 136, 128, 124, 132])\n",
    "plt.hist(response_times,bins=[120,125,130,135,140,145])\n",
    "plt.xlabel('Response Times')\n",
    "plt.ylabel('Frequency of response times')\n",
    "plt.title('Distribution of reponse times')\n",
    "plt.show()"
   ]
  },
  {
   "cell_type": "code",
   "execution_count": 13,
   "id": "f8fe746b",
   "metadata": {},
   "outputs": [
    {
     "data": {
      "text/plain": [
       "np.float64(130.5)"
      ]
     },
     "execution_count": 13,
     "metadata": {},
     "output_type": "execute_result"
    }
   ],
   "source": [
    "# 2. Measure of Central Tendency: What is the median response time?\n",
    "np.median(response_times)"
   ]
  },
  {
   "cell_type": "code",
   "execution_count": 14,
   "id": "20ca14d1",
   "metadata": {},
   "outputs": [
    {
     "name": "stdout",
     "output_type": "stream",
     "text": [
      "[115 120 125 130 135 140 145 150]\n",
      "[ 5 11 25 32 16  9  2] [115 120 125 130 135 140 145 150]\n",
      "['115-119', '120-124', '125-129', '130-134', '135-139', '140-144', '145-149']\n"
     ]
    },
    {
     "data": {
      "image/png": "[encoded data removed]",
      "text/plain": [
       "<Figure size 1000x600 with 1 Axes>"
      ]
     },
     "metadata": {},
     "output_type": "display_data"
    }
   ],
   "source": [
    "# 3. Bar Chart: Create a bar chart to display the frequency of response times within different ranges.\n",
    "# Define bins (intervals)\n",
    "bins = np.arange(115, 151, 5)\n",
    "print(bins)\n",
    "\n",
    "# Get histogram data\n",
    "counts, bin_edges = np.histogram(response_times, bins=bins)\n",
    "print(counts, bin_edges)\n",
    "\n",
    "# Calculate bin labels\n",
    "bin_labels = [f\"{int(bin_edges[i])}-{int(bin_edges[i+1]-1)}\" for i in range(len(bin_edges)-1)]\n",
    "print(bin_labels)\n",
    "\n",
    "# Create bar chart\n",
    "plt.figure(figsize=(10, 6))\n",
    "plt.bar(bin_labels, counts, color='mediumseagreen', edgecolor='black')\n",
    "\n",
    "# Customize plot\n",
    "plt.title('Frequency of Response Times in Ranges')\n",
    "plt.xlabel('Response Time Range (ms)')\n",
    "plt.ylabel('Frequency')\n",
    "plt.xticks(rotation=45)\n",
    "plt.grid(axis='y', linestyle='--', alpha=0.6)\n",
    "\n",
    "# Display chart\n",
    "plt.tight_layout()\n",
    "plt.show()"
   ]
  },
  {
   "cell_type": "markdown",
   "id": "70a3f5c8",
   "metadata": {},
   "source": [
    "7) Question : A researcher wants to examine the relationship between the hours\n",
    "spent studying and the exam scores of a group of students.\n",
    "\n",
    "Data:\n",
    "\n",
    "Let's consider the number of hours spent studying and the corresponding exam scores\n",
    "for a sample of 30 students:\n",
    "\n",
    "Hours Spent Studying: 10, 12, 15, 18, 20, 22, 25, 28, 30, 32, 35, 38, 40, 42, 45, 48, 50,\n",
    "52, 55, 58, 60, 62, 65, 68, 70, 72, 75, 78, 80, 82\n",
    "\n",
    "Exam Scores: 60, 65, 70, 75, 80, 82, 85, 88, 90, 92, 93, 95, 96, 97, 98, 99, 100, 102,\n",
    "105, 106, 107, 108, 110, 112, 114, 115, 116, 118, 120, 122"
   ]
  },
  {
   "cell_type": "code",
   "execution_count": 15,
   "id": "2feae100",
   "metadata": {},
   "outputs": [
    {
     "data": {
      "text/plain": [
       "array([[1.        , 0.97729508],\n",
       "       [0.97729508, 1.        ]])"
      ]
     },
     "execution_count": 15,
     "metadata": {},
     "output_type": "execute_result"
    }
   ],
   "source": [
    "# Calculate the correlation coefficient between the hours spent studying and the exam\n",
    "# scores. Interpret the value of the correlation coefficient and explain the nature of the\n",
    "# relationship between studying hours and exam scores.\n",
    "\n",
    "hours_spent_studying = np.array([10, 12, 15, 18, 20, 22, 25, 28, 30, 32, 35, 38, 40, 42, 45, 48, 50,\n",
    "                                 52, 55, 58, 60, 62, 65, 68, 70, 72, 75, 78, 80, 82])\n",
    "\n",
    "exam_scores = np.array([60, 65, 70, 75, 80, 82, 85, 88, 90, 92, 93, 95, 96, 97, 98, 99, 100, 102,\n",
    "                        105, 106, 107, 108, 110, 112, 114, 115, 116, 118, 120, 122])\n",
    "np.corrcoef(hours_spent_studying, exam_scores)"
   ]
  },
  {
   "cell_type": "markdown",
   "id": "236ebaab",
   "metadata": {},
   "source": [
    "8) Question : A manufacturing company wants to analyze the defect rates in its\n",
    "production process to evaluate product quality.\n",
    "\n",
    "Data:\n",
    "\n",
    "Let's consider the defect rates (in percentage) for a sample of 300 products:\n",
    "\n",
    "Defect Rates: 0.5, 1.0, 0.2, 0.7, 0.3, 0.9, 1.2, 0.6, 0.4, 1.1,\n",
    "0.8, 0.5, 0.3, 0.6, 1.0, 0.4, 0.5, 0.7, 0.9, 1.3,\n",
    "0.8, 0.6, 0.4, 0.7, 0.9, 0.5, 0.2, 1.0, 0.8, 0.3,\n",
    "0.6, 0.4, 0.7, 0.9, 1.2, 0.8, 0.3, 0.6, 0.5, 0.4,\n",
    "0.7, 0.9, 1.1, 0.3, 1.4, 0,9, 0.6, 0.2, 1.5, 1.0\n",
    "0.6, 0.4, 0.7, 1.0, 0.8, 0.3, 0.5, 0.8, 0.6, 0.3, 0.9\n",
    "0.4, 0.7, 0.9, 1.0, 0.8, 0.3, 0.5, 0.6, 0.4, 0.7,\n",
    "0.9, 1.1, 0.8, 0.3, 0.5, 0.6, 0.4, 0.7, 0.9, 1.0,\n",
    "0.8, 0.3, 0.5, 0.6, 0.4, 0.7, 0.9, 1.1, 0.8, 0.3,\n",
    "0.5, 0.6, 0.4, 0.7, 0.9, 1.0, 0.8, 0.3, 0.5, 0.6,\n",
    "0.4, 0.7, 0.9, 1.1, 0.8, 0.3, 0.5, 0.6, 0.4, 0.7,\n",
    "0.9, 1.0, 0.8, 0.3, 0.5, 0.6, 0.4, 0.7, 0.9, 1.1"
   ]
  },
  {
   "cell_type": "code",
   "execution_count": 16,
   "id": "4dec6a5d",
   "metadata": {},
   "outputs": [
    {
     "name": "stdout",
     "output_type": "stream",
     "text": [
      "First quartile of the defect rate distribution is 0.4\n",
      "Second quartile of the defect rate distribution is 0.7\n",
      "Third quartile of the defect rate distribution is 0.9\n"
     ]
    }
   ],
   "source": [
    "# 1. Quartiles: Calculate the first quartile (Q1), median (Q2), and third quartile (Q3) of the\n",
    "# defect rate distribution.\n",
    "\n",
    "defect_rates = np.array([0.5, 1.0, 0.2, 0.7, 0.3, 0.9, 1.2, 0.6, 0.4, 1.1,0.8, 0.5, 0.3, 0.6, 1.0, 0.4, 0.5, 0.7, 0.9, 1.3,\n",
    "                         0.8, 0.6, 0.4, 0.7, 0.9, 0.5, 0.2, 1.0, 0.8, 0.3,0.6, 0.4, 0.7, 0.9, 1.2, 0.8, 0.3, 0.6, 0.5, 0.4,\n",
    "                         0.7, 0.9, 1.1, 0.3, 1.4, 0,9, 0.6, 0.2, 1.5, 1.0,0.6, 0.4, 0.7, 1.0, 0.8, 0.3, 0.5, 0.8, 0.6, 0.3,0.9,\n",
    "                         0.4, 0.7, 0.9, 1.0, 0.8, 0.3, 0.5, 0.6, 0.4, 0.7,0.9, 1.1, 0.8, 0.3, 0.5, 0.6, 0.4, 0.7, 0.9, 1.0,\n",
    "                         0.8, 0.3, 0.5, 0.6, 0.4, 0.7, 0.9, 1.1, 0.8, 0.3,0.5, 0.6, 0.4, 0.7, 0.9, 1.0, 0.8, 0.3, 0.5, 0.6,\n",
    "                         0.4, 0.7, 0.9, 1.1, 0.8, 0.3, 0.5, 0.6, 0.4, 0.7,0.9, 1.0, 0.8, 0.3, 0.5, 0.6, 0.4, 0.7, 0.9, 1.1])\n",
    "q1 = np.percentile(defect_rates, 25)\n",
    "print(\"First quartile of the defect rate distribution is\",q1)\n",
    "\n",
    "q2 = np.median(defect_rates)\n",
    "print(\"Second quartile of the defect rate distribution is\",q2)\n",
    "\n",
    "q3 = np.percentile(defect_rates, 75)\n",
    "print(\"Third quartile of the defect rate distribution is\",q3)"
   ]
  },
  {
   "cell_type": "markdown",
   "id": "b0d5a029",
   "metadata": {},
   "source": [
    "9) A survey was conducted to analyze the satisfaction ratings of customers onascaleof 1 to 5 for a specific product. Data: Let's consider the satisfaction ratings from 200 customers:\n",
    "\n",
    "Ratings:\n",
    "\n",
    "4, 5, 3, 4, 4, 3, 2, 5, 4, 3, 5, 4, 2, 3, 4, 5, 3, 4, 5, 3, 4, 3, 2, 4, 5, 3, 4, 5, 4, 3, 3, 4, 5, 2, 3, 4, 4, 3, 5, 4, 3, 4, 5, 4, 2, 3, 4, 5, 3, 4, 5, 4, 3, 4, 5, 3, 4, 5, 4, 3, 3, 4, 5, 2, 3, 4, 4, 3, 5, 4, 3, 4, 5, 4, 2, 3, 4, 5, 3, 4, 5, 4, 3, 4, 5, 3, 4, 5, 4, 3, 3, 4, 5, 2, 3, 4, 4, 3, 5, 4"
   ]
  },
  {
   "cell_type": "code",
   "execution_count": 17,
   "id": "8b5069c2",
   "metadata": {},
   "outputs": [
    {
     "data": {
      "text/plain": [
       "np.float64(-0.20773281879682218)"
      ]
     },
     "execution_count": 17,
     "metadata": {},
     "output_type": "execute_result"
    }
   ],
   "source": [
    "# a. Skewness: Calculate the skewness of the satisfaction ratings.\n",
    "cust_ratings = np.array([4, 5, 3, 4, 4, 3, 2, 5, 4, 3, 5, 4, 2, 3, 4, 5, 3, 4, 5, 3, 4, 3, 2, 4, 5, 3, \n",
    "                         4, 5, 4, 3, 3, 4, 5, 2, 3, 4, 4, 3, 5, 4, 3, 4, 5, 4, 2, 3, 4, 5, 3, 4, 5, 4, \n",
    "                         3, 4, 5, 3, 4, 5, 4, 3, 3, 4, 5, 2, 3, 4, 4, 3, 5, 4, 3, 4, 5, 4, 2, 3, 4, 5, \n",
    "                         3, 4, 5, 4, 3, 4, 5, 3, 4, 5, 4, 3, 3, 4, 5, 2, 3, 4, 4, 3, 5, 4])\n",
    "skewness = stats.skew(cust_ratings)\n",
    "skewness"
   ]
  },
  {
   "cell_type": "code",
   "execution_count": 18,
   "id": "447e5f7b",
   "metadata": {},
   "outputs": [
    {
     "data": {
      "text/plain": [
       "np.float64(-0.767917404014467)"
      ]
     },
     "execution_count": 18,
     "metadata": {},
     "output_type": "execute_result"
    }
   ],
   "source": [
    "# b. Kurtosis: Calculate the kurtosis of the satisfaction ratings.\n",
    "kurtosis = stats.kurtosis(cust_ratings)\n",
    "kurtosis"
   ]
  },
  {
   "cell_type": "markdown",
   "id": "6ab94421",
   "metadata": {},
   "source": [
    "c. Interpretation: Based on the skewness and kurtosis values, what canbeinferred about the satisfaction ratings distribution?\n",
    "\n",
    "Ans. The satisfaction ratings are slightly skewed to the left, meaning a small tendency toward lower ratings like 3.\n",
    "\n",
    "The distribution is flatter than a normal bell curve, indicating a more even spread of ratings rather than a strong central peak.\n",
    "\n",
    "Overall, the distribution is fairly symmetric and spread out, with no extreme concentration at a single rating point."
   ]
  },
  {
   "cell_type": "code",
   "execution_count": 19,
   "id": "e6cd5efb",
   "metadata": {},
   "outputs": [
    {
     "data": {
      "image/png": "[encoded data removed]",
      "text/plain": [
       "<Figure size 640x480 with 1 Axes>"
      ]
     },
     "metadata": {},
     "output_type": "display_data"
    }
   ],
   "source": [
    "sns.histplot(cust_ratings,bins=5,kde=True)\n",
    "plt.text(1.5, 10, f\"Skewness: {skewness:.3f}\")\n",
    "plt.text(1.5, 8, f\"Kurtosis: {kurtosis:.3f}\")\n",
    "plt.xticks([2,3,4,5])\n",
    "plt.title(\"Customer Satisfaction Ratings Distribution\")\n",
    "plt.xlabel(\"Rating\")\n",
    "plt.ylabel(\"Frequency\")\n",
    "plt.show()"
   ]
  },
  {
   "cell_type": "markdown",
   "id": "74762095",
   "metadata": {},
   "source": [
    "10) The lifetimes of a certain brand of light bulbs are normally distributed witha meanof 1000 hours and a standard deviation of 100 hours. What is the probabilitythat arandomly selected light bulb lasts between 900 and 1100 hours? Data: Meanlifetime(μ) = 1000 hours, Standard deviation (σ) = 100 hours, Lifetime range (lower limit x1, upper limit x2)"
   ]
  },
  {
   "cell_type": "code",
   "execution_count": 20,
   "id": "b0b5c148",
   "metadata": {},
   "outputs": [
    {
     "name": "stdout",
     "output_type": "stream",
     "text": [
      "The probability that a randomly selected light bulb lasts between 900 and 1100 hours : 0.6827\n"
     ]
    }
   ],
   "source": [
    "mean = 1000\n",
    "std = 100\n",
    "lower_limit = 900\n",
    "upper_limit = 1100\n",
    "p1 = stats.norm.cdf(900,1000,100)\n",
    "p2 = stats.norm.cdf(1100,1000,100)\n",
    "probability = p2-p1\n",
    "print(f\"The probability that a randomly selected light bulb lasts between 900 and 1100 hours : {probability:.4f}\")"
   ]
  },
  {
   "cell_type": "markdown",
   "id": "49ffe5ee",
   "metadata": {},
   "source": [
    "11) A study is conducted to estimate the mean height of a population. Arandomsampleof 100 individuals is selected, and their heights are measured. Calculate a 95%confidence interval for the population mean height, given that the sample meanheight is 170 cm and the sample standard deviation is 8 cm. Data: Sample size(n) =100, Sample mean (x̄) = 170 cm, Sample standard deviation (s) = 8 cm, Confidencelevel = 95%"
   ]
  },
  {
   "cell_type": "code",
   "execution_count": 21,
   "id": "2527aa43",
   "metadata": {},
   "outputs": [],
   "source": [
    "sample_size = 100\n",
    "sample_mean = 170\n",
    "sample_std = 8\n",
    "confidence_level = 0.95"
   ]
  },
  {
   "cell_type": "code",
   "execution_count": 22,
   "id": "b03f614a",
   "metadata": {},
   "outputs": [
    {
     "data": {
      "text/plain": [
       "np.float64(1.959963984540054)"
      ]
     },
     "execution_count": 22,
     "metadata": {},
     "output_type": "execute_result"
    }
   ],
   "source": [
    "z_score = stats.norm.ppf(1-(1-confidence_level)/2)\n",
    "z_score"
   ]
  },
  {
   "cell_type": "code",
   "execution_count": 23,
   "id": "30beccc3",
   "metadata": {},
   "outputs": [
    {
     "data": {
      "text/plain": [
       "np.float64(0.8)"
      ]
     },
     "execution_count": 23,
     "metadata": {},
     "output_type": "execute_result"
    }
   ],
   "source": [
    "standard_error = sample_std / np.sqrt(sample_size)\n",
    "standard_error"
   ]
  },
  {
   "cell_type": "code",
   "execution_count": 24,
   "id": "bd040fca",
   "metadata": {},
   "outputs": [
    {
     "name": "stdout",
     "output_type": "stream",
     "text": [
      "95% confidence interval for population mean height is : 168.43cm, 171.57cm\n"
     ]
    }
   ],
   "source": [
    "upper_bound = sample_mean + z_score * standard_error\n",
    "lower_bound = sample_mean - z_score * standard_error\n",
    "print(f\"95% confidence interval for population mean height is : {lower_bound:.2f}cm, {upper_bound:.2f}cm\")"
   ]
  },
  {
   "cell_type": "markdown",
   "id": "8fac0080",
   "metadata": {},
   "source": [
    "12) A researcher wants to test whether a new teaching method improves student\n",
    "performance. A random sample of 50 students is divided into two groups: onegrouptaught using the new method and the other using the traditional method. The averagetest scores of the two groups are compared. State the null and alternative hypothesesfor this study. Data: Sample size (n) = 50, Test scores of the two groups"
   ]
  },
  {
   "cell_type": "code",
   "execution_count": 25,
   "id": "d25f5ec1",
   "metadata": {},
   "outputs": [],
   "source": [
    "sample_size = 50\n",
    "confidence_level = 0.95\n",
    "alpha = 1 - confidence_level\n",
    "group_A = np.random.normal(loc=75, scale=6, size=sample_size)\n",
    "group_B = np.random.normal(loc=70, scale=6, size=sample_size)"
   ]
  },
  {
   "cell_type": "code",
   "execution_count": 26,
   "id": "8c288a82",
   "metadata": {},
   "outputs": [],
   "source": [
    "t_statistics,p_value = stats.ttest_ind(group_A, group_B, equal_var=False)"
   ]
  },
  {
   "cell_type": "code",
   "execution_count": 27,
   "id": "1afa7c1c",
   "metadata": {},
   "outputs": [
    {
     "name": "stdout",
     "output_type": "stream",
     "text": [
      "Mean value for group A : 75.16685583805916\n",
      "Mean value for group B : 69.95378557221314\n",
      "T-statistic : 4.0084\n",
      "p_value : 0.0001\n"
     ]
    }
   ],
   "source": [
    "print(f\"Mean value for group A : {np.mean(group_A)}\")\n",
    "print(f\"Mean value for group B : {np.mean(group_B)}\")\n",
    "print(f\"T-statistic : {t_statistics:.4f}\")\n",
    "print(f\"p_value : {p_value:.4f}\")"
   ]
  },
  {
   "cell_type": "code",
   "execution_count": 28,
   "id": "63b2261c",
   "metadata": {},
   "outputs": [
    {
     "name": "stdout",
     "output_type": "stream",
     "text": [
      "Null hypothesis rejected : The new method improves performance.\n"
     ]
    }
   ],
   "source": [
    "if p_value < alpha:\n",
    "    print(f\"Null hypothesis rejected : The new method improves performance.\")\n",
    "else:\n",
    "    print(f\"Fail to reject null hypothesis : No significant improvement\")"
   ]
  },
  {
   "cell_type": "markdown",
   "id": "ee4c6e35",
   "metadata": {},
   "source": [
    "13) A survey is conducted to estimate the proportion of people in a city who support aparticular policy. A random sample of 500 individuals is surveyed, and 320of themexpress support for the policy. Calculate a 90% confidence interval for the\n",
    "population proportion, given the sample proportion. Data: Sample size (n) =500, Number of successes (x) = 320, Confidence level = 90%"
   ]
  },
  {
   "cell_type": "code",
   "execution_count": 29,
   "id": "d3ed48cf",
   "metadata": {},
   "outputs": [],
   "source": [
    "from statsmodels.stats import proportion"
   ]
  },
  {
   "cell_type": "code",
   "execution_count": 30,
   "id": "5f87a80a",
   "metadata": {},
   "outputs": [
    {
     "data": {
      "text/plain": [
       "(0.6046911565801545, 0.6753088434198455)"
      ]
     },
     "execution_count": 30,
     "metadata": {},
     "output_type": "execute_result"
    }
   ],
   "source": [
    "sample_size = 500\n",
    "no_of_successes = 320\n",
    "confidence_level = 0.90\n",
    "\n",
    "proportion.proportion_confint(320, 500, alpha=1-confidence_level)"
   ]
  },
  {
   "cell_type": "markdown",
   "id": "cdcaa075",
   "metadata": {},
   "source": [
    "14) A company sells smartphones, and the number of defects per batch follows a\n",
    "Poisson distribution with a mean of 2 defects. What is the probability of havingexactly 3 defects in a randomly selected batch? Data: Mean number of defects (λ) =2, Number of defects (x) = 3"
   ]
  },
  {
   "cell_type": "code",
   "execution_count": 31,
   "id": "3f095486",
   "metadata": {},
   "outputs": [
    {
     "name": "stdout",
     "output_type": "stream",
     "text": [
      "Probability of having exactly 3 defects : 0.1804\n"
     ]
    }
   ],
   "source": [
    "mean_lambda = 2\n",
    "no_of_defects = 3\n",
    "poission_dist = stats.poisson.pmf(no_of_defects, mean_lambda)\n",
    "print(f\"Probability of having exactly 3 defects : {poission_dist:.4f}\")"
   ]
  },
  {
   "cell_type": "code",
   "execution_count": null,
   "id": "e6c35b40",
   "metadata": {},
   "outputs": [],
   "source": []
  }
 ],
 "metadata": {
  "kernelspec": {
   "display_name": "Python 3",
   "language": "python",
   "name": "python3"
  },
  "language_info": {
   "codemirror_mode": {
    "name": "ipython",
    "version": 3
   },
   "file_extension": ".py",
   "mimetype": "text/x-python",
   "name": "python",
   "nbconvert_exporter": "python",
   "pygments_lexer": "ipython3",
   "version": "3.13.0"
  }
 },
 "nbformat": 4,
 "nbformat_minor": 5
}
