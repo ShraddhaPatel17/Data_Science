{
 "cells": [
  {
   "cell_type": "markdown",
   "metadata": {},
   "source": [
    "## NUMPY"
   ]
  },
  {
   "cell_type": "markdown",
   "metadata": {},
   "source": [
    "Q.1 Convert a 1D array to a 2D array with 2 rows \n",
    "\n",
    "Ans. To convert a 1D array to a 2D array, numpy.reshape() function is used. This function returns a new array without affecting the data of the 1D array."
   ]
  },
  {
   "cell_type": "code",
   "execution_count": 2,
   "metadata": {},
   "outputs": [],
   "source": [
    "import numpy as np"
   ]
  },
  {
   "cell_type": "code",
   "execution_count": 7,
   "metadata": {},
   "outputs": [
    {
     "name": "stdout",
     "output_type": "stream",
     "text": [
      "Array before reshaping : [1 2 3 4 5 6 7 8]\n",
      "Array after reshaping : \n",
      "[[1 2 3 4]\n",
      " [5 6 7 8]]\n"
     ]
    }
   ],
   "source": [
    "#Example\n",
    "\n",
    "arr1 = np.array([1,2,3,4,5,6,7,8])\n",
    "print(f\"Array before reshaping : {arr1}\")\n",
    "result = np.reshape(arr1, (2,4))\n",
    "print(f\"Array after reshaping : \\n{result}\")"
   ]
  },
  {
   "cell_type": "markdown",
   "metadata": {},
   "source": [
    "Q.2 Get the common items between a and b \n"
   ]
  },
  {
   "cell_type": "code",
   "execution_count": 9,
   "metadata": {},
   "outputs": [
    {
     "name": "stdout",
     "output_type": "stream",
     "text": [
      "Common values from array a and b are : [2 4]\n"
     ]
    }
   ],
   "source": [
    "a = np.array([1,2,3,2,3,4,3,4,5,6])\n",
    "b = np.array([7,2,10,2,7,4,9,4,9,8]) \n",
    "common_val = np.intersect1d(a,b)\n",
    "print(f\"Common values from array a and b are : {common_val}\")"
   ]
  },
  {
   "cell_type": "markdown",
   "metadata": {},
   "source": [
    "Q.3 Get all items between 5 and 10 from a. \n"
   ]
  },
  {
   "cell_type": "code",
   "execution_count": 3,
   "metadata": {},
   "outputs": [
    {
     "name": "stdout",
     "output_type": "stream",
     "text": [
      "Initial array : [ 2  6  1  9 10  3 27]\n",
      "All items are returned within the range of 5 to 10 : (array([1, 3, 4]),)\n"
     ]
    }
   ],
   "source": [
    "a = np.array([2, 6, 1, 9, 10, 3, 27]) \n",
    "print(f\"Initial array : {a}\")\n",
    "result = np.where(np.logical_and(a >= 5, a <= 10))\n",
    "print(f\"All items are returned within the range of 5 to 10 : {result}\")"
   ]
  },
  {
   "cell_type": "markdown",
   "metadata": {},
   "source": [
    "Q.4 Limit the number of items printed in python NumPy array a to a maximum of 6\n",
    "elements. "
   ]
  },
  {
   "cell_type": "code",
   "execution_count": 13,
   "metadata": {},
   "outputs": [
    {
     "name": "stdout",
     "output_type": "stream",
     "text": [
      "Original array : [ 0  1  2  3  4  5  6  7  8  9 10 11 12 13 14]\n",
      "After limiting number of items in an array : [0 1 2 3 4 5 6 6 6 6 6 6 6 6 6]\n"
     ]
    }
   ],
   "source": [
    "a = np.array([ 0, 1, 2, 3, 4, 5, 6, 7, 8, 9, 10, 11, 12, 13, 14]) \n",
    "print(f\"Original array : {a}\")\n",
    "limit_no_of_items = np.clip(a, 0, 6)\n",
    "print(f\"After limiting number of items in an array : {limit_no_of_items}\")"
   ]
  },
  {
   "cell_type": "code",
   "execution_count": null,
   "metadata": {},
   "outputs": [],
   "source": []
  }
 ],
 "metadata": {
  "kernelspec": {
   "display_name": "Python 3",
   "language": "python",
   "name": "python3"
  },
  "language_info": {
   "codemirror_mode": {
    "name": "ipython",
    "version": 3
   },
   "file_extension": ".py",
   "mimetype": "text/x-python",
   "name": "python",
   "nbconvert_exporter": "python",
   "pygments_lexer": "ipython3",
   "version": "3.13.0"
  }
 },
 "nbformat": 4,
 "nbformat_minor": 2
}
