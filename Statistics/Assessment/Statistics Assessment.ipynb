{
 "cells": [
  {
   "cell_type": "markdown",
   "metadata": {},
   "source": [
    "## NUMPY"
   ]
  },
  {
   "cell_type": "markdown",
   "metadata": {},
   "source": [
    "Q.1 Convert a 1D array to a 2D array with 2 rows \n",
    "\n",
    "Ans. To convert a 1D array to a 2D array, numpy.reshape() function is used. This function returns a new array without affecting the data of the 1D array."
   ]
  },
  {
   "cell_type": "code",
   "execution_count": 2,
   "metadata": {},
   "outputs": [],
   "source": [
    "import numpy as np"
   ]
  },
  {
   "cell_type": "code",
   "execution_count": 3,
   "metadata": {},
   "outputs": [
    {
     "name": "stdout",
     "output_type": "stream",
     "text": [
      "Array before reshaping : [1 2 3 4 5 6 7 8]\n",
      "Array after reshaping : \n",
      "[[1 2 3 4]\n",
      " [5 6 7 8]]\n"
     ]
    }
   ],
   "source": [
    "#Example\n",
    "\n",
    "arr1 = np.array([1,2,3,4,5,6,7,8])\n",
    "print(f\"Array before reshaping : {arr1}\")\n",
    "result = np.reshape(arr1, (2,4))\n",
    "print(f\"Array after reshaping : \\n{result}\")"
   ]
  },
  {
   "cell_type": "markdown",
   "metadata": {},
   "source": [
    "Q.2 Get the common items between a and b \n"
   ]
  },
  {
   "cell_type": "code",
   "execution_count": 4,
   "metadata": {},
   "outputs": [
    {
     "name": "stdout",
     "output_type": "stream",
     "text": [
      "Common values from array a and b are : [2 4]\n"
     ]
    }
   ],
   "source": [
    "a = np.array([1,2,3,2,3,4,3,4,5,6])\n",
    "b = np.array([7,2,10,2,7,4,9,4,9,8]) \n",
    "common_val = np.intersect1d(a,b)\n",
    "print(f\"Common values from array a and b are : {common_val}\")"
   ]
  },
  {
   "cell_type": "markdown",
   "metadata": {},
   "source": [
    "Q.3 Get all items between 5 and 10 from a. \n"
   ]
  },
  {
   "cell_type": "code",
   "execution_count": 5,
   "metadata": {},
   "outputs": [
    {
     "name": "stdout",
     "output_type": "stream",
     "text": [
      "Initial array : [ 2  6  1  9 10  3 27]\n",
      "All items are returned within the range of 5 to 10 : (array([1, 3, 4]),)\n"
     ]
    }
   ],
   "source": [
    "a = np.array([2, 6, 1, 9, 10, 3, 27]) \n",
    "print(f\"Initial array : {a}\")\n",
    "result = np.where(np.logical_and(a >= 5, a <= 10))\n",
    "print(f\"All items are returned within the range of 5 to 10 : {result}\")"
   ]
  },
  {
   "cell_type": "markdown",
   "metadata": {},
   "source": [
    "Q.4 Limit the number of items printed in python NumPy array a to a maximum of 6\n",
    "elements. "
   ]
  },
  {
   "cell_type": "code",
   "execution_count": 6,
   "metadata": {},
   "outputs": [
    {
     "name": "stdout",
     "output_type": "stream",
     "text": [
      "Original array : [ 0  1  2  3  4  5  6  7  8  9 10 11 12 13 14]\n",
      "After limiting number of items in an array : [0 1 2 3 4 5 6 6 6 6 6 6 6 6 6]\n"
     ]
    }
   ],
   "source": [
    "a = np.array([ 0, 1, 2, 3, 4, 5, 6, 7, 8, 9, 10, 11, 12, 13, 14]) \n",
    "print(f\"Original array : {a}\")\n",
    "limit_no_of_items = np.clip(a, 0, 6)\n",
    "print(f\"After limiting number of items in an array : {limit_no_of_items}\")"
   ]
  },
  {
   "cell_type": "markdown",
   "metadata": {},
   "source": [
    "## Pandas"
   ]
  },
  {
   "cell_type": "code",
   "execution_count": 7,
   "metadata": {},
   "outputs": [],
   "source": [
    "import pandas as pd"
   ]
  },
  {
   "cell_type": "code",
   "execution_count": 8,
   "metadata": {},
   "outputs": [
    {
     "data": {
      "text/html": [
       "<div>\n",
       "<style scoped>\n",
       "    .dataframe tbody tr th:only-of-type {\n",
       "        vertical-align: middle;\n",
       "    }\n",
       "\n",
       "    .dataframe tbody tr th {\n",
       "        vertical-align: top;\n",
       "    }\n",
       "\n",
       "    .dataframe thead th {\n",
       "        text-align: right;\n",
       "    }\n",
       "</style>\n",
       "<table border=\"1\" class=\"dataframe\">\n",
       "  <thead>\n",
       "    <tr style=\"text-align: right;\">\n",
       "      <th></th>\n",
       "      <th>0</th>\n",
       "      <th>1</th>\n",
       "      <th>2</th>\n",
       "    </tr>\n",
       "  </thead>\n",
       "  <tbody>\n",
       "    <tr>\n",
       "      <th>0</th>\n",
       "      <td>1</td>\n",
       "      <td>1</td>\n",
       "      <td>2</td>\n",
       "    </tr>\n",
       "    <tr>\n",
       "      <th>1</th>\n",
       "      <td>6</td>\n",
       "      <td>4</td>\n",
       "      <td>2</td>\n",
       "    </tr>\n",
       "    <tr>\n",
       "      <th>2</th>\n",
       "      <td>4</td>\n",
       "      <td>2</td>\n",
       "      <td>1</td>\n",
       "    </tr>\n",
       "    <tr>\n",
       "      <th>3</th>\n",
       "      <td>4</td>\n",
       "      <td>2</td>\n",
       "      <td>3</td>\n",
       "    </tr>\n",
       "  </tbody>\n",
       "</table>\n",
       "</div>"
      ],
      "text/plain": [
       "   0  1  2\n",
       "0  1  1  2\n",
       "1  6  4  2\n",
       "2  4  2  1\n",
       "3  4  2  3"
      ]
     },
     "execution_count": 8,
     "metadata": {},
     "output_type": "execute_result"
    }
   ],
   "source": [
    "data=[[1, 1, 2], [6, 4, 2], [4, 2, 1], [4, 2, 3]]\n",
    "df = pd.DataFrame(data)\n",
    "df"
   ]
  },
  {
   "cell_type": "code",
   "execution_count": 9,
   "metadata": {},
   "outputs": [
    {
     "name": "stdout",
     "output_type": "stream",
     "text": [
      "Minimum value from data :\n",
      " 0    1\n",
      "1    1\n",
      "2    1\n",
      "dtype: int64\n",
      "25th percentile of data :\n",
      " 0    3.25\n",
      "1    1.75\n",
      "2    1.75\n",
      "Name: 0.25, dtype: float64\n",
      "Median value from data :\n",
      " 0    4.0\n",
      "1    2.0\n",
      "2    2.0\n",
      "dtype: float64\n",
      "75th percentile of data :\n",
      " 0    4.50\n",
      "1    2.50\n",
      "2    2.25\n",
      "Name: 0.75, dtype: float64\n",
      "Maximum value from data :\n",
      " 0    6\n",
      "1    4\n",
      "2    3\n",
      "dtype: int64\n"
     ]
    }
   ],
   "source": [
    "# 1. Compute the minimum, 25th percentile, median, 75th, and maximum of ser. \n",
    "print(\"Minimum value from data :\\n\",df.min())\n",
    "print(\"25th percentile of data :\\n\",df.quantile(0.25))\n",
    "print(\"Median value from data :\\n\",df.median())\n",
    "print(\"75th percentile of data :\\n\",df.quantile(0.75))\n",
    "print(\"Maximum value from data :\\n\",df.max())"
   ]
  },
  {
   "cell_type": "code",
   "execution_count": 10,
   "metadata": {},
   "outputs": [
    {
     "data": {
      "text/html": [
       "<div>\n",
       "<style scoped>\n",
       "    .dataframe tbody tr th:only-of-type {\n",
       "        vertical-align: middle;\n",
       "    }\n",
       "\n",
       "    .dataframe tbody tr th {\n",
       "        vertical-align: top;\n",
       "    }\n",
       "\n",
       "    .dataframe thead th {\n",
       "        text-align: right;\n",
       "    }\n",
       "</style>\n",
       "<table border=\"1\" class=\"dataframe\">\n",
       "  <thead>\n",
       "    <tr style=\"text-align: right;\">\n",
       "      <th></th>\n",
       "      <th>Marks</th>\n",
       "    </tr>\n",
       "  </thead>\n",
       "  <tbody>\n",
       "    <tr>\n",
       "      <th>COA</th>\n",
       "      <td>67</td>\n",
       "    </tr>\n",
       "    <tr>\n",
       "      <th>ML</th>\n",
       "      <td>56</td>\n",
       "    </tr>\n",
       "    <tr>\n",
       "      <th>DBMS</th>\n",
       "      <td>78</td>\n",
       "    </tr>\n",
       "  </tbody>\n",
       "</table>\n",
       "</div>"
      ],
      "text/plain": [
       "      Marks\n",
       "COA      67\n",
       "ML       56\n",
       "DBMS     78"
      ]
     },
     "execution_count": 10,
     "metadata": {},
     "output_type": "execute_result"
    }
   ],
   "source": [
    "# 2. Creating A Pandas Data Frame and Using Sample Data Sets \n",
    "marks = [67,56,78]\n",
    "sub = ['COA','ML','DBMS']\n",
    "pd.DataFrame(marks,sub,columns=['Marks'])"
   ]
  },
  {
   "cell_type": "code",
   "execution_count": 11,
   "metadata": {},
   "outputs": [
    {
     "data": {
      "text/html": [
       "<div>\n",
       "<style scoped>\n",
       "    .dataframe tbody tr th:only-of-type {\n",
       "        vertical-align: middle;\n",
       "    }\n",
       "\n",
       "    .dataframe tbody tr th {\n",
       "        vertical-align: top;\n",
       "    }\n",
       "\n",
       "    .dataframe thead th {\n",
       "        text-align: right;\n",
       "    }\n",
       "</style>\n",
       "<table border=\"1\" class=\"dataframe\">\n",
       "  <thead>\n",
       "    <tr style=\"text-align: right;\">\n",
       "      <th></th>\n",
       "      <th>0</th>\n",
       "      <th>1</th>\n",
       "      <th>2</th>\n",
       "    </tr>\n",
       "  </thead>\n",
       "  <tbody>\n",
       "    <tr>\n",
       "      <th>0</th>\n",
       "      <td>13</td>\n",
       "      <td>51</td>\n",
       "      <td>10</td>\n",
       "    </tr>\n",
       "    <tr>\n",
       "      <th>1</th>\n",
       "      <td>26</td>\n",
       "      <td>89</td>\n",
       "      <td>66</td>\n",
       "    </tr>\n",
       "    <tr>\n",
       "      <th>2</th>\n",
       "      <td>30</td>\n",
       "      <td>22</td>\n",
       "      <td>65</td>\n",
       "    </tr>\n",
       "    <tr>\n",
       "      <th>3</th>\n",
       "      <td>13</td>\n",
       "      <td>82</td>\n",
       "      <td>48</td>\n",
       "    </tr>\n",
       "    <tr>\n",
       "      <th>4</th>\n",
       "      <td>44</td>\n",
       "      <td>81</td>\n",
       "      <td>63</td>\n",
       "    </tr>\n",
       "  </tbody>\n",
       "</table>\n",
       "</div>"
      ],
      "text/plain": [
       "    0   1   2\n",
       "0  13  51  10\n",
       "1  26  89  66\n",
       "2  30  22  65\n",
       "3  13  82  48\n",
       "4  44  81  63"
      ]
     },
     "execution_count": 11,
     "metadata": {},
     "output_type": "execute_result"
    }
   ],
   "source": [
    "# 3. Using NumPy, create a Pandas Data Frame with five rows and three columns. \n",
    "data = np.random.randint(1,100,15).reshape(5,3)\n",
    "pd.DataFrame(data)"
   ]
  },
  {
   "cell_type": "code",
   "execution_count": 12,
   "metadata": {},
   "outputs": [
    {
     "data": {
      "text/plain": [
       "array([[47, 22, 86],\n",
       "       [64, 96, 53],\n",
       "       [29, 39, 27]], dtype=int32)"
      ]
     },
     "execution_count": 12,
     "metadata": {},
     "output_type": "execute_result"
    }
   ],
   "source": [
    "# 4. For a Pandas Data Frame created from a NumPy array, what is the default behavior for\n",
    "# the labels for the columns? For the rows? \n",
    "data = np.random.randint(1,100,9).reshape(3,3)\n",
    "data"
   ]
  },
  {
   "cell_type": "markdown",
   "metadata": {},
   "source": [
    "For a pandas dataframe created from a numpy array, the default behaviour for the label for the columns is that it starts from 0 till n number of column in an array and the behaviour for labels for the rows is also same."
   ]
  },
  {
   "cell_type": "code",
   "execution_count": 13,
   "metadata": {},
   "outputs": [
    {
     "data": {
      "text/html": [
       "<div>\n",
       "<style scoped>\n",
       "    .dataframe tbody tr th:only-of-type {\n",
       "        vertical-align: middle;\n",
       "    }\n",
       "\n",
       "    .dataframe tbody tr th {\n",
       "        vertical-align: top;\n",
       "    }\n",
       "\n",
       "    .dataframe thead th {\n",
       "        text-align: right;\n",
       "    }\n",
       "</style>\n",
       "<table border=\"1\" class=\"dataframe\">\n",
       "  <thead>\n",
       "    <tr style=\"text-align: right;\">\n",
       "      <th></th>\n",
       "      <th>Unnamed: 0</th>\n",
       "      <th>Movie Name</th>\n",
       "      <th>Year of Release</th>\n",
       "      <th>Run Time in minutes</th>\n",
       "      <th>Movie Rating</th>\n",
       "      <th>Votes</th>\n",
       "      <th>MetaScore</th>\n",
       "      <th>Gross</th>\n",
       "      <th>Genre</th>\n",
       "      <th>Certification</th>\n",
       "      <th>Director</th>\n",
       "      <th>Stars</th>\n",
       "      <th>Description</th>\n",
       "    </tr>\n",
       "  </thead>\n",
       "  <tbody>\n",
       "    <tr>\n",
       "      <th>0</th>\n",
       "      <td>0</td>\n",
       "      <td>The Shawshank Redemption</td>\n",
       "      <td>1994</td>\n",
       "      <td>142</td>\n",
       "      <td>9.3</td>\n",
       "      <td>2804443</td>\n",
       "      <td>82.0</td>\n",
       "      <td>28340000.0</td>\n",
       "      <td>['Drama']</td>\n",
       "      <td>R</td>\n",
       "      <td>['Frank Darabont']</td>\n",
       "      <td>['Tim Robbins', 'Morgan Freeman', 'Bob Gunton'...</td>\n",
       "      <td>['Over', 'the', 'course', 'of', 'several', 'ye...</td>\n",
       "    </tr>\n",
       "    <tr>\n",
       "      <th>1</th>\n",
       "      <td>1</td>\n",
       "      <td>The Godfather</td>\n",
       "      <td>1972</td>\n",
       "      <td>175</td>\n",
       "      <td>9.2</td>\n",
       "      <td>1954174</td>\n",
       "      <td>100.0</td>\n",
       "      <td>134970000.0</td>\n",
       "      <td>['Crime', ' Drama']</td>\n",
       "      <td>R</td>\n",
       "      <td>['Francis Ford Coppola']</td>\n",
       "      <td>['Marlon Brando', 'Al Pacino', 'James Caan', '...</td>\n",
       "      <td>['Don', 'Vito', 'Corleone,', 'head', 'of', 'a'...</td>\n",
       "    </tr>\n",
       "    <tr>\n",
       "      <th>2</th>\n",
       "      <td>2</td>\n",
       "      <td>Ramayana: The Legend of Prince Rama</td>\n",
       "      <td>1993</td>\n",
       "      <td>135</td>\n",
       "      <td>9.2</td>\n",
       "      <td>12995</td>\n",
       "      <td>NaN</td>\n",
       "      <td>NaN</td>\n",
       "      <td>['Animation', ' Action', ' Adventure']</td>\n",
       "      <td>PG</td>\n",
       "      <td>['Ram Mohan', 'Yûgô Sakô', 'Koichi Saski']</td>\n",
       "      <td>['Arun Govil', 'Nikhil Kapoor', 'Edie Mirman',...</td>\n",
       "      <td>['An', 'anime', 'adaptation', 'of', 'the', 'Hi...</td>\n",
       "    </tr>\n",
       "    <tr>\n",
       "      <th>3</th>\n",
       "      <td>3</td>\n",
       "      <td>The Chaos Class</td>\n",
       "      <td>1975</td>\n",
       "      <td>87</td>\n",
       "      <td>9.2</td>\n",
       "      <td>42231</td>\n",
       "      <td>NaN</td>\n",
       "      <td>NaN</td>\n",
       "      <td>['Comedy', ' Drama']</td>\n",
       "      <td>NaN</td>\n",
       "      <td>['Ertem Egilmez']</td>\n",
       "      <td>['Kemal Sunal', 'Münir Özkul', 'Halit Akçatepe...</td>\n",
       "      <td>['Lazy,', 'uneducated', 'students', 'share', '...</td>\n",
       "    </tr>\n",
       "    <tr>\n",
       "      <th>4</th>\n",
       "      <td>4</td>\n",
       "      <td>The Dark Knight</td>\n",
       "      <td>2008</td>\n",
       "      <td>152</td>\n",
       "      <td>9.0</td>\n",
       "      <td>2786129</td>\n",
       "      <td>84.0</td>\n",
       "      <td>534860000.0</td>\n",
       "      <td>['Action', ' Crime', ' Drama']</td>\n",
       "      <td>PG-13</td>\n",
       "      <td>['Christopher Nolan']</td>\n",
       "      <td>['Christian Bale', 'Heath Ledger', 'Aaron Eckh...</td>\n",
       "      <td>['When', 'the', 'menace', 'known', 'as', 'the'...</td>\n",
       "    </tr>\n",
       "    <tr>\n",
       "      <th>...</th>\n",
       "      <td>...</td>\n",
       "      <td>...</td>\n",
       "      <td>...</td>\n",
       "      <td>...</td>\n",
       "      <td>...</td>\n",
       "      <td>...</td>\n",
       "      <td>...</td>\n",
       "      <td>...</td>\n",
       "      <td>...</td>\n",
       "      <td>...</td>\n",
       "      <td>...</td>\n",
       "      <td>...</td>\n",
       "      <td>...</td>\n",
       "    </tr>\n",
       "    <tr>\n",
       "      <th>9995</th>\n",
       "      <td>9995</td>\n",
       "      <td>Golmaal Again</td>\n",
       "      <td>2017</td>\n",
       "      <td>140</td>\n",
       "      <td>4.9</td>\n",
       "      <td>10183</td>\n",
       "      <td>NaN</td>\n",
       "      <td>1010000.0</td>\n",
       "      <td>['Action', ' Comedy', ' Fantasy']</td>\n",
       "      <td>Not Rated</td>\n",
       "      <td>['Rohit Shetty']</td>\n",
       "      <td>['Ajay Devgn', 'Arshad Warsi', 'Tabu', 'Shreya...</td>\n",
       "      <td>['The', 'gang', 'encounters', 'with', 'some', ...</td>\n",
       "    </tr>\n",
       "    <tr>\n",
       "      <th>9996</th>\n",
       "      <td>9996</td>\n",
       "      <td>Not to Forget</td>\n",
       "      <td>2021</td>\n",
       "      <td>84</td>\n",
       "      <td>4.9</td>\n",
       "      <td>11191</td>\n",
       "      <td>NaN</td>\n",
       "      <td>NaN</td>\n",
       "      <td>['Drama']</td>\n",
       "      <td>NaN</td>\n",
       "      <td>['Valerio Zanoli']</td>\n",
       "      <td>['Karen Grassle', 'Louis Gossett Jr.', \"Tatum ...</td>\n",
       "      <td>['After', 'a', 'lifetime', 'of', 'scams,', 'a'...</td>\n",
       "    </tr>\n",
       "    <tr>\n",
       "      <th>9997</th>\n",
       "      <td>9997</td>\n",
       "      <td>Housefull 3</td>\n",
       "      <td>2016</td>\n",
       "      <td>140</td>\n",
       "      <td>4.9</td>\n",
       "      <td>10308</td>\n",
       "      <td>NaN</td>\n",
       "      <td>1160000.0</td>\n",
       "      <td>['Action', ' Comedy', ' Romance']</td>\n",
       "      <td>Not Rated</td>\n",
       "      <td>['Sajid', 'Farhad Samji']</td>\n",
       "      <td>['Akshay Kumar', 'Abhishek Bachchan', 'Riteish...</td>\n",
       "      <td>['A', 'father', \"doesn't\", 'want', 'his', 'thr...</td>\n",
       "    </tr>\n",
       "    <tr>\n",
       "      <th>9998</th>\n",
       "      <td>9998</td>\n",
       "      <td>A.I. Rising</td>\n",
       "      <td>2018</td>\n",
       "      <td>85</td>\n",
       "      <td>4.9</td>\n",
       "      <td>11187</td>\n",
       "      <td>NaN</td>\n",
       "      <td>NaN</td>\n",
       "      <td>['Drama', ' Romance', ' Sci-Fi']</td>\n",
       "      <td>R</td>\n",
       "      <td>['Lazar Bodroza']</td>\n",
       "      <td>['Sebastian Cavazza', 'Stoya', 'Marusa Majer',...</td>\n",
       "      <td>['An', 'intimate', 'relationship', 'between', ...</td>\n",
       "    </tr>\n",
       "    <tr>\n",
       "      <th>9999</th>\n",
       "      <td>9999</td>\n",
       "      <td>The Last Boy</td>\n",
       "      <td>2019</td>\n",
       "      <td>87</td>\n",
       "      <td>4.9</td>\n",
       "      <td>10324</td>\n",
       "      <td>NaN</td>\n",
       "      <td>NaN</td>\n",
       "      <td>['Fantasy', ' Mystery', ' Sci-Fi']</td>\n",
       "      <td>NaN</td>\n",
       "      <td>['Perry Bhandal']</td>\n",
       "      <td>['Luke Goss', 'Flynn Allen', 'Peter Guinness',...</td>\n",
       "      <td>['With', 'the', \"world's\", 'end', 'imminent,',...</td>\n",
       "    </tr>\n",
       "  </tbody>\n",
       "</table>\n",
       "<p>10000 rows × 13 columns</p>\n",
       "</div>"
      ],
      "text/plain": [
       "      Unnamed: 0                           Movie Name  Year of Release  \\\n",
       "0              0             The Shawshank Redemption             1994   \n",
       "1              1                        The Godfather             1972   \n",
       "2              2  Ramayana: The Legend of Prince Rama             1993   \n",
       "3              3                      The Chaos Class             1975   \n",
       "4              4                      The Dark Knight             2008   \n",
       "...          ...                                  ...              ...   \n",
       "9995        9995                        Golmaal Again             2017   \n",
       "9996        9996                        Not to Forget             2021   \n",
       "9997        9997                          Housefull 3             2016   \n",
       "9998        9998                          A.I. Rising             2018   \n",
       "9999        9999                         The Last Boy             2019   \n",
       "\n",
       "      Run Time in minutes  Movie Rating    Votes  MetaScore        Gross  \\\n",
       "0                     142           9.3  2804443       82.0   28340000.0   \n",
       "1                     175           9.2  1954174      100.0  134970000.0   \n",
       "2                     135           9.2    12995        NaN          NaN   \n",
       "3                      87           9.2    42231        NaN          NaN   \n",
       "4                     152           9.0  2786129       84.0  534860000.0   \n",
       "...                   ...           ...      ...        ...          ...   \n",
       "9995                  140           4.9    10183        NaN    1010000.0   \n",
       "9996                   84           4.9    11191        NaN          NaN   \n",
       "9997                  140           4.9    10308        NaN    1160000.0   \n",
       "9998                   85           4.9    11187        NaN          NaN   \n",
       "9999                   87           4.9    10324        NaN          NaN   \n",
       "\n",
       "                                       Genre Certification  \\\n",
       "0                                  ['Drama']             R   \n",
       "1                        ['Crime', ' Drama']             R   \n",
       "2     ['Animation', ' Action', ' Adventure']            PG   \n",
       "3                       ['Comedy', ' Drama']           NaN   \n",
       "4             ['Action', ' Crime', ' Drama']         PG-13   \n",
       "...                                      ...           ...   \n",
       "9995       ['Action', ' Comedy', ' Fantasy']     Not Rated   \n",
       "9996                               ['Drama']           NaN   \n",
       "9997       ['Action', ' Comedy', ' Romance']     Not Rated   \n",
       "9998        ['Drama', ' Romance', ' Sci-Fi']             R   \n",
       "9999      ['Fantasy', ' Mystery', ' Sci-Fi']           NaN   \n",
       "\n",
       "                                        Director  \\\n",
       "0                             ['Frank Darabont']   \n",
       "1                       ['Francis Ford Coppola']   \n",
       "2     ['Ram Mohan', 'Yûgô Sakô', 'Koichi Saski']   \n",
       "3                              ['Ertem Egilmez']   \n",
       "4                          ['Christopher Nolan']   \n",
       "...                                          ...   \n",
       "9995                            ['Rohit Shetty']   \n",
       "9996                          ['Valerio Zanoli']   \n",
       "9997                   ['Sajid', 'Farhad Samji']   \n",
       "9998                           ['Lazar Bodroza']   \n",
       "9999                           ['Perry Bhandal']   \n",
       "\n",
       "                                                  Stars  \\\n",
       "0     ['Tim Robbins', 'Morgan Freeman', 'Bob Gunton'...   \n",
       "1     ['Marlon Brando', 'Al Pacino', 'James Caan', '...   \n",
       "2     ['Arun Govil', 'Nikhil Kapoor', 'Edie Mirman',...   \n",
       "3     ['Kemal Sunal', 'Münir Özkul', 'Halit Akçatepe...   \n",
       "4     ['Christian Bale', 'Heath Ledger', 'Aaron Eckh...   \n",
       "...                                                 ...   \n",
       "9995  ['Ajay Devgn', 'Arshad Warsi', 'Tabu', 'Shreya...   \n",
       "9996  ['Karen Grassle', 'Louis Gossett Jr.', \"Tatum ...   \n",
       "9997  ['Akshay Kumar', 'Abhishek Bachchan', 'Riteish...   \n",
       "9998  ['Sebastian Cavazza', 'Stoya', 'Marusa Majer',...   \n",
       "9999  ['Luke Goss', 'Flynn Allen', 'Peter Guinness',...   \n",
       "\n",
       "                                            Description  \n",
       "0     ['Over', 'the', 'course', 'of', 'several', 'ye...  \n",
       "1     ['Don', 'Vito', 'Corleone,', 'head', 'of', 'a'...  \n",
       "2     ['An', 'anime', 'adaptation', 'of', 'the', 'Hi...  \n",
       "3     ['Lazy,', 'uneducated', 'students', 'share', '...  \n",
       "4     ['When', 'the', 'menace', 'known', 'as', 'the'...  \n",
       "...                                                 ...  \n",
       "9995  ['The', 'gang', 'encounters', 'with', 'some', ...  \n",
       "9996  ['After', 'a', 'lifetime', 'of', 'scams,', 'a'...  \n",
       "9997  ['A', 'father', \"doesn't\", 'want', 'his', 'thr...  \n",
       "9998  ['An', 'intimate', 'relationship', 'between', ...  \n",
       "9999  ['With', 'the', \"world's\", 'end', 'imminent,',...  \n",
       "\n",
       "[10000 rows x 13 columns]"
      ]
     },
     "execution_count": 13,
     "metadata": {},
     "output_type": "execute_result"
    }
   ],
   "source": [
    "# 5. take csv file contains at least 10,000 rows and 12 columns which numerical and text values\n",
    "# according to that continue following steps. \n",
    "movies = pd.read_csv('data about movies (1915-2023).csv')\n",
    "movies"
   ]
  },
  {
   "cell_type": "code",
   "execution_count": 14,
   "metadata": {},
   "outputs": [
    {
     "name": "stdout",
     "output_type": "stream",
     "text": [
      "Number of columns in dataset : 10000\n",
      "Number of rows in dataset : 13\n"
     ]
    }
   ],
   "source": [
    "# 6. Write the code to show the number of rows and columns in data frame. \n",
    "num_of_cols,num_of_rows = movies.shape\n",
    "print(f\"Number of columns in dataset : {num_of_cols}\")\n",
    "print(f\"Number of rows in dataset : {num_of_rows}\")"
   ]
  },
  {
   "cell_type": "code",
   "execution_count": 15,
   "metadata": {},
   "outputs": [
    {
     "data": {
      "text/html": [
       "<div>\n",
       "<style scoped>\n",
       "    .dataframe tbody tr th:only-of-type {\n",
       "        vertical-align: middle;\n",
       "    }\n",
       "\n",
       "    .dataframe tbody tr th {\n",
       "        vertical-align: top;\n",
       "    }\n",
       "\n",
       "    .dataframe thead th {\n",
       "        text-align: right;\n",
       "    }\n",
       "</style>\n",
       "<table border=\"1\" class=\"dataframe\">\n",
       "  <thead>\n",
       "    <tr style=\"text-align: right;\">\n",
       "      <th></th>\n",
       "      <th>Unnamed: 0</th>\n",
       "      <th>Movie Name</th>\n",
       "      <th>Year of Release</th>\n",
       "      <th>Run Time in minutes</th>\n",
       "      <th>Movie Rating</th>\n",
       "      <th>Votes</th>\n",
       "      <th>MetaScore</th>\n",
       "      <th>Gross</th>\n",
       "      <th>Genre</th>\n",
       "      <th>Certification</th>\n",
       "      <th>Director</th>\n",
       "      <th>Stars</th>\n",
       "      <th>Description</th>\n",
       "    </tr>\n",
       "  </thead>\n",
       "  <tbody>\n",
       "    <tr>\n",
       "      <th>0</th>\n",
       "      <td>0</td>\n",
       "      <td>The Shawshank Redemption</td>\n",
       "      <td>1994</td>\n",
       "      <td>142</td>\n",
       "      <td>9.3</td>\n",
       "      <td>2804443</td>\n",
       "      <td>82.0</td>\n",
       "      <td>28340000.0</td>\n",
       "      <td>['Drama']</td>\n",
       "      <td>R</td>\n",
       "      <td>['Frank Darabont']</td>\n",
       "      <td>['Tim Robbins', 'Morgan Freeman', 'Bob Gunton'...</td>\n",
       "      <td>['Over', 'the', 'course', 'of', 'several', 'ye...</td>\n",
       "    </tr>\n",
       "    <tr>\n",
       "      <th>1</th>\n",
       "      <td>1</td>\n",
       "      <td>The Godfather</td>\n",
       "      <td>1972</td>\n",
       "      <td>175</td>\n",
       "      <td>9.2</td>\n",
       "      <td>1954174</td>\n",
       "      <td>100.0</td>\n",
       "      <td>134970000.0</td>\n",
       "      <td>['Crime', ' Drama']</td>\n",
       "      <td>R</td>\n",
       "      <td>['Francis Ford Coppola']</td>\n",
       "      <td>['Marlon Brando', 'Al Pacino', 'James Caan', '...</td>\n",
       "      <td>['Don', 'Vito', 'Corleone,', 'head', 'of', 'a'...</td>\n",
       "    </tr>\n",
       "    <tr>\n",
       "      <th>2</th>\n",
       "      <td>2</td>\n",
       "      <td>Ramayana: The Legend of Prince Rama</td>\n",
       "      <td>1993</td>\n",
       "      <td>135</td>\n",
       "      <td>9.2</td>\n",
       "      <td>12995</td>\n",
       "      <td>NaN</td>\n",
       "      <td>NaN</td>\n",
       "      <td>['Animation', ' Action', ' Adventure']</td>\n",
       "      <td>PG</td>\n",
       "      <td>['Ram Mohan', 'Yûgô Sakô', 'Koichi Saski']</td>\n",
       "      <td>['Arun Govil', 'Nikhil Kapoor', 'Edie Mirman',...</td>\n",
       "      <td>['An', 'anime', 'adaptation', 'of', 'the', 'Hi...</td>\n",
       "    </tr>\n",
       "    <tr>\n",
       "      <th>3</th>\n",
       "      <td>3</td>\n",
       "      <td>The Chaos Class</td>\n",
       "      <td>1975</td>\n",
       "      <td>87</td>\n",
       "      <td>9.2</td>\n",
       "      <td>42231</td>\n",
       "      <td>NaN</td>\n",
       "      <td>NaN</td>\n",
       "      <td>['Comedy', ' Drama']</td>\n",
       "      <td>NaN</td>\n",
       "      <td>['Ertem Egilmez']</td>\n",
       "      <td>['Kemal Sunal', 'Münir Özkul', 'Halit Akçatepe...</td>\n",
       "      <td>['Lazy,', 'uneducated', 'students', 'share', '...</td>\n",
       "    </tr>\n",
       "    <tr>\n",
       "      <th>4</th>\n",
       "      <td>4</td>\n",
       "      <td>The Dark Knight</td>\n",
       "      <td>2008</td>\n",
       "      <td>152</td>\n",
       "      <td>9.0</td>\n",
       "      <td>2786129</td>\n",
       "      <td>84.0</td>\n",
       "      <td>534860000.0</td>\n",
       "      <td>['Action', ' Crime', ' Drama']</td>\n",
       "      <td>PG-13</td>\n",
       "      <td>['Christopher Nolan']</td>\n",
       "      <td>['Christian Bale', 'Heath Ledger', 'Aaron Eckh...</td>\n",
       "      <td>['When', 'the', 'menace', 'known', 'as', 'the'...</td>\n",
       "    </tr>\n",
       "  </tbody>\n",
       "</table>\n",
       "</div>"
      ],
      "text/plain": [
       "   Unnamed: 0                           Movie Name  Year of Release  \\\n",
       "0           0             The Shawshank Redemption             1994   \n",
       "1           1                        The Godfather             1972   \n",
       "2           2  Ramayana: The Legend of Prince Rama             1993   \n",
       "3           3                      The Chaos Class             1975   \n",
       "4           4                      The Dark Knight             2008   \n",
       "\n",
       "   Run Time in minutes  Movie Rating    Votes  MetaScore        Gross  \\\n",
       "0                  142           9.3  2804443       82.0   28340000.0   \n",
       "1                  175           9.2  1954174      100.0  134970000.0   \n",
       "2                  135           9.2    12995        NaN          NaN   \n",
       "3                   87           9.2    42231        NaN          NaN   \n",
       "4                  152           9.0  2786129       84.0  534860000.0   \n",
       "\n",
       "                                    Genre Certification  \\\n",
       "0                               ['Drama']             R   \n",
       "1                     ['Crime', ' Drama']             R   \n",
       "2  ['Animation', ' Action', ' Adventure']            PG   \n",
       "3                    ['Comedy', ' Drama']           NaN   \n",
       "4          ['Action', ' Crime', ' Drama']         PG-13   \n",
       "\n",
       "                                     Director  \\\n",
       "0                          ['Frank Darabont']   \n",
       "1                    ['Francis Ford Coppola']   \n",
       "2  ['Ram Mohan', 'Yûgô Sakô', 'Koichi Saski']   \n",
       "3                           ['Ertem Egilmez']   \n",
       "4                       ['Christopher Nolan']   \n",
       "\n",
       "                                               Stars  \\\n",
       "0  ['Tim Robbins', 'Morgan Freeman', 'Bob Gunton'...   \n",
       "1  ['Marlon Brando', 'Al Pacino', 'James Caan', '...   \n",
       "2  ['Arun Govil', 'Nikhil Kapoor', 'Edie Mirman',...   \n",
       "3  ['Kemal Sunal', 'Münir Özkul', 'Halit Akçatepe...   \n",
       "4  ['Christian Bale', 'Heath Ledger', 'Aaron Eckh...   \n",
       "\n",
       "                                         Description  \n",
       "0  ['Over', 'the', 'course', 'of', 'several', 'ye...  \n",
       "1  ['Don', 'Vito', 'Corleone,', 'head', 'of', 'a'...  \n",
       "2  ['An', 'anime', 'adaptation', 'of', 'the', 'Hi...  \n",
       "3  ['Lazy,', 'uneducated', 'students', 'share', '...  \n",
       "4  ['When', 'the', 'menace', 'known', 'as', 'the'...  "
      ]
     },
     "execution_count": 15,
     "metadata": {},
     "output_type": "execute_result"
    }
   ],
   "source": [
    "# 7. How might you show the first few rows of data frame? \n",
    "movies.head()"
   ]
  },
  {
   "cell_type": "code",
   "execution_count": 16,
   "metadata": {},
   "outputs": [],
   "source": [
    "import seaborn as sns"
   ]
  },
  {
   "cell_type": "code",
   "execution_count": 17,
   "metadata": {},
   "outputs": [
    {
     "data": {
      "text/html": [
       "<div>\n",
       "<style scoped>\n",
       "    .dataframe tbody tr th:only-of-type {\n",
       "        vertical-align: middle;\n",
       "    }\n",
       "\n",
       "    .dataframe tbody tr th {\n",
       "        vertical-align: top;\n",
       "    }\n",
       "\n",
       "    .dataframe thead th {\n",
       "        text-align: right;\n",
       "    }\n",
       "</style>\n",
       "<table border=\"1\" class=\"dataframe\">\n",
       "  <thead>\n",
       "    <tr style=\"text-align: right;\">\n",
       "      <th></th>\n",
       "      <th>carat</th>\n",
       "      <th>cut</th>\n",
       "      <th>color</th>\n",
       "      <th>clarity</th>\n",
       "      <th>depth</th>\n",
       "      <th>table</th>\n",
       "      <th>price</th>\n",
       "      <th>x</th>\n",
       "      <th>y</th>\n",
       "      <th>z</th>\n",
       "    </tr>\n",
       "  </thead>\n",
       "  <tbody>\n",
       "    <tr>\n",
       "      <th>0</th>\n",
       "      <td>0.23</td>\n",
       "      <td>Ideal</td>\n",
       "      <td>E</td>\n",
       "      <td>SI2</td>\n",
       "      <td>61.5</td>\n",
       "      <td>55.0</td>\n",
       "      <td>326</td>\n",
       "      <td>3.95</td>\n",
       "      <td>3.98</td>\n",
       "      <td>2.43</td>\n",
       "    </tr>\n",
       "    <tr>\n",
       "      <th>1</th>\n",
       "      <td>0.21</td>\n",
       "      <td>Premium</td>\n",
       "      <td>E</td>\n",
       "      <td>SI1</td>\n",
       "      <td>59.8</td>\n",
       "      <td>61.0</td>\n",
       "      <td>326</td>\n",
       "      <td>3.89</td>\n",
       "      <td>3.84</td>\n",
       "      <td>2.31</td>\n",
       "    </tr>\n",
       "    <tr>\n",
       "      <th>2</th>\n",
       "      <td>0.23</td>\n",
       "      <td>Good</td>\n",
       "      <td>E</td>\n",
       "      <td>VS1</td>\n",
       "      <td>56.9</td>\n",
       "      <td>65.0</td>\n",
       "      <td>327</td>\n",
       "      <td>4.05</td>\n",
       "      <td>4.07</td>\n",
       "      <td>2.31</td>\n",
       "    </tr>\n",
       "    <tr>\n",
       "      <th>3</th>\n",
       "      <td>0.29</td>\n",
       "      <td>Premium</td>\n",
       "      <td>I</td>\n",
       "      <td>VS2</td>\n",
       "      <td>62.4</td>\n",
       "      <td>58.0</td>\n",
       "      <td>334</td>\n",
       "      <td>4.20</td>\n",
       "      <td>4.23</td>\n",
       "      <td>2.63</td>\n",
       "    </tr>\n",
       "    <tr>\n",
       "      <th>4</th>\n",
       "      <td>0.31</td>\n",
       "      <td>Good</td>\n",
       "      <td>J</td>\n",
       "      <td>SI2</td>\n",
       "      <td>63.3</td>\n",
       "      <td>58.0</td>\n",
       "      <td>335</td>\n",
       "      <td>4.34</td>\n",
       "      <td>4.35</td>\n",
       "      <td>2.75</td>\n",
       "    </tr>\n",
       "    <tr>\n",
       "      <th>...</th>\n",
       "      <td>...</td>\n",
       "      <td>...</td>\n",
       "      <td>...</td>\n",
       "      <td>...</td>\n",
       "      <td>...</td>\n",
       "      <td>...</td>\n",
       "      <td>...</td>\n",
       "      <td>...</td>\n",
       "      <td>...</td>\n",
       "      <td>...</td>\n",
       "    </tr>\n",
       "    <tr>\n",
       "      <th>53935</th>\n",
       "      <td>0.72</td>\n",
       "      <td>Ideal</td>\n",
       "      <td>D</td>\n",
       "      <td>SI1</td>\n",
       "      <td>60.8</td>\n",
       "      <td>57.0</td>\n",
       "      <td>2757</td>\n",
       "      <td>5.75</td>\n",
       "      <td>5.76</td>\n",
       "      <td>3.50</td>\n",
       "    </tr>\n",
       "    <tr>\n",
       "      <th>53936</th>\n",
       "      <td>0.72</td>\n",
       "      <td>Good</td>\n",
       "      <td>D</td>\n",
       "      <td>SI1</td>\n",
       "      <td>63.1</td>\n",
       "      <td>55.0</td>\n",
       "      <td>2757</td>\n",
       "      <td>5.69</td>\n",
       "      <td>5.75</td>\n",
       "      <td>3.61</td>\n",
       "    </tr>\n",
       "    <tr>\n",
       "      <th>53937</th>\n",
       "      <td>0.70</td>\n",
       "      <td>Very Good</td>\n",
       "      <td>D</td>\n",
       "      <td>SI1</td>\n",
       "      <td>62.8</td>\n",
       "      <td>60.0</td>\n",
       "      <td>2757</td>\n",
       "      <td>5.66</td>\n",
       "      <td>5.68</td>\n",
       "      <td>3.56</td>\n",
       "    </tr>\n",
       "    <tr>\n",
       "      <th>53938</th>\n",
       "      <td>0.86</td>\n",
       "      <td>Premium</td>\n",
       "      <td>H</td>\n",
       "      <td>SI2</td>\n",
       "      <td>61.0</td>\n",
       "      <td>58.0</td>\n",
       "      <td>2757</td>\n",
       "      <td>6.15</td>\n",
       "      <td>6.12</td>\n",
       "      <td>3.74</td>\n",
       "    </tr>\n",
       "    <tr>\n",
       "      <th>53939</th>\n",
       "      <td>0.75</td>\n",
       "      <td>Ideal</td>\n",
       "      <td>D</td>\n",
       "      <td>SI2</td>\n",
       "      <td>62.2</td>\n",
       "      <td>55.0</td>\n",
       "      <td>2757</td>\n",
       "      <td>5.83</td>\n",
       "      <td>5.87</td>\n",
       "      <td>3.64</td>\n",
       "    </tr>\n",
       "  </tbody>\n",
       "</table>\n",
       "<p>53940 rows × 10 columns</p>\n",
       "</div>"
      ],
      "text/plain": [
       "       carat        cut color clarity  depth  table  price     x     y     z\n",
       "0       0.23      Ideal     E     SI2   61.5   55.0    326  3.95  3.98  2.43\n",
       "1       0.21    Premium     E     SI1   59.8   61.0    326  3.89  3.84  2.31\n",
       "2       0.23       Good     E     VS1   56.9   65.0    327  4.05  4.07  2.31\n",
       "3       0.29    Premium     I     VS2   62.4   58.0    334  4.20  4.23  2.63\n",
       "4       0.31       Good     J     SI2   63.3   58.0    335  4.34  4.35  2.75\n",
       "...      ...        ...   ...     ...    ...    ...    ...   ...   ...   ...\n",
       "53935   0.72      Ideal     D     SI1   60.8   57.0   2757  5.75  5.76  3.50\n",
       "53936   0.72       Good     D     SI1   63.1   55.0   2757  5.69  5.75  3.61\n",
       "53937   0.70  Very Good     D     SI1   62.8   60.0   2757  5.66  5.68  3.56\n",
       "53938   0.86    Premium     H     SI2   61.0   58.0   2757  6.15  6.12  3.74\n",
       "53939   0.75      Ideal     D     SI2   62.2   55.0   2757  5.83  5.87  3.64\n",
       "\n",
       "[53940 rows x 10 columns]"
      ]
     },
     "execution_count": 17,
     "metadata": {},
     "output_type": "execute_result"
    }
   ],
   "source": [
    "diamonds = sns.load_dataset('diamonds')\n",
    "diamonds"
   ]
  },
  {
   "cell_type": "code",
   "execution_count": 18,
   "metadata": {},
   "outputs": [
    {
     "name": "stdout",
     "output_type": "stream",
     "text": [
      "<class 'pandas.core.series.Series'>\n",
      "RangeIndex: 53940 entries, 0 to 53939\n",
      "Series name: clarity\n",
      "Non-Null Count  Dtype   \n",
      "--------------  -----   \n",
      "53940 non-null  category\n",
      "dtypes: category(1)\n",
      "memory usage: 53.2 KB\n"
     ]
    }
   ],
   "source": [
    "# 8. If you select a single column from the diamonds Data Frame, what will be the type of the\n",
    "# return value? \n",
    "diamonds['clarity'].info()"
   ]
  },
  {
   "cell_type": "code",
   "execution_count": 19,
   "metadata": {},
   "outputs": [],
   "source": [
    "import matplotlib.pyplot as plt"
   ]
  },
  {
   "cell_type": "code",
   "execution_count": 46,
   "metadata": {},
   "outputs": [
    {
     "data": {
      "image/png": "[encoded data removed]",
      "text/plain": [
       "<Figure size 640x480 with 1 Axes>"
      ]
     },
     "metadata": {},
     "output_type": "display_data"
    }
   ],
   "source": [
    "# 9. Create a line plot using the x and y values provided below. Label the y-axis as “Y” and\n",
    "# label the x-axis as “X”.\n",
    "x = [3, 4, 5, 6]\n",
    "y = [1.5, 2, 2.5, 3]\n",
    "plt.plot(x,y)\n",
    "plt.xlabel('X')\n",
    "plt.ylabel('Y')\n",
    "plt.show()"
   ]
  },
  {
   "cell_type": "code",
   "execution_count": 21,
   "metadata": {},
   "outputs": [
    {
     "data": {
      "image/png": "[encoded data removed]",
      "text/plain": [
       "<Figure size 640x480 with 1 Axes>"
      ]
     },
     "metadata": {},
     "output_type": "display_data"
    }
   ],
   "source": [
    "''' 10. Create an array of numbers between 0 and 6 with increments of 0.3 and name its “x”.\n",
    "Then on the same plot, plot x, x², x³, and x⁴. For consistency, use the following style lines\n",
    "respectively, “ro”, “bs”, “g”, and “:”. Lastly, make sure that the x-axis covers 0 to 6, while\n",
    "the y-axis spans from 0 to 125. Do not worry if you are not familiar with the style lines —\n",
    "you will recognize them as soon as you see the plot. '''\n",
    "\n",
    "x = np.arange(0,6,0.3)\n",
    "x2 = x**2\n",
    "x3 = x**3\n",
    "x4 = x**4\n",
    "\n",
    "plt.plot(x,x2,'ro',label='x^2')\n",
    "plt.plot(x,x3,'bs',label='x^3')\n",
    "plt.plot(x,x4,'g',label='x^4')\n",
    "plt.plot(x,x,':',label='x')\n",
    "\n",
    "plt.xlim(0,6)\n",
    "plt.ylim(0,125)\n",
    "\n",
    "plt.xlabel('X')\n",
    "plt.ylabel('Y')\n",
    "plt.title('Plot of x, x^2, x^3 and x^4')\n",
    "\n",
    "plt.legend()\n",
    "plt.grid(True)\n",
    "plt.show()"
   ]
  },
  {
   "cell_type": "code",
   "execution_count": 45,
   "metadata": {},
   "outputs": [
    {
     "data": {
      "image/png": "[encoded data removed]",
      "text/plain": [
       "<Figure size 640x480 with 1 Axes>"
      ]
     },
     "metadata": {},
     "output_type": "display_data"
    }
   ],
   "source": [
    "''' 11. Heights and initials of a group of individuals are provided below. Create a bar plot titled\n",
    "“Height Comparison” to compare the heights among this group. '''\n",
    "height = [179, 155, 191, 152, 188, 177]\n",
    "names = ['QA', 'WB', 'EC', 'RD', 'TE', 'YF']\n",
    "plt.bar(names,height,color='darkgoldenrod')\n",
    "plt.ylabel('Heights')\n",
    "plt.xlabel('Initials of a Group Individuals')\n",
    "plt.title('Height Comparison')\n",
    "plt.show()"
   ]
  },
  {
   "cell_type": "code",
   "execution_count": 49,
   "metadata": {},
   "outputs": [
    {
     "data": {
      "image/png": "[encoded data removed]",
      "text/plain": [
       "<Figure size 640x480 with 1 Axes>"
      ]
     },
     "metadata": {},
     "output_type": "display_data"
    }
   ],
   "source": [
    "''' 12. Plot a histogram of x, where x consists of 100,000 randomly-selected points with a normal\n",
    "distribution (hint: you can use numpy.random.randn() to generate the random points). The\n",
    "histogram should have 10 bins. Look at how the histogram changes when we try 20 and 50\n",
    "bins. '''\n",
    "plt.style.use('default')\n",
    "x = np.random.randn(100000)\n",
    "plt.hist(x,bins=10,color='seagreen')\n",
    "plt.show()"
   ]
  },
  {
   "cell_type": "code",
   "execution_count": 50,
   "metadata": {},
   "outputs": [
    {
     "data": {
      "image/png": "[encoded data removed]",
      "text/plain": [
       "<Figure size 640x480 with 1 Axes>"
      ]
     },
     "metadata": {},
     "output_type": "display_data"
    }
   ],
   "source": [
    "plt.hist(x,bins=20,color='seagreen')\n",
    "plt.show()"
   ]
  },
  {
   "cell_type": "code",
   "execution_count": 51,
   "metadata": {},
   "outputs": [
    {
     "data": {
      "image/png": "[encoded data removed]",
      "text/plain": [
       "<Figure size 640x480 with 1 Axes>"
      ]
     },
     "metadata": {},
     "output_type": "display_data"
    }
   ],
   "source": [
    "plt.hist(x,bins=50,color='seagreen')\n",
    "plt.show()"
   ]
  },
  {
   "cell_type": "markdown",
   "metadata": {},
   "source": [
    "15. What do you know about supervised and unsupervised machine learning?\n",
    "\n",
    "Ans. Supervised Learning:\n",
    "- Supervised Learning is a type of Machine Learning where a model is trained on input labeled data that means each input is paired with the correct output. \n",
    "- The model learns by comparing its predictions with the actual answers providing in the training data. It adjusts itself to minimize errors and to improve accuracy. \n",
    "- The goal of Supervised Learning is to make predictions when given new, unseen data.\n",
    "- There are 2 types of Supervised Learning are: 1) Clasification and 2) Regression.\n",
    "- Classification: Where the output is a categorical variable (e.g., spam vs. non-spam emails, yes vs. no)\n",
    "- Regression: Where the output is a continuous variable (e.g., predicting house prices, stock prices)\n",
    "\n",
    "-> Unsupervised Learning:\n",
    "- Unsupervised Learning is also a type of Machine Learning that deals with unlabeled data that means a model has only input parameter values and discovers the groups or patterns on its own.\n",
    "- Unsupervised Learning are tasked with finding patterns and relationships within the data without any prior knowledge of the data's meaning.\n",
    "- There are 3 types of Unsupervised Learning are: 1) Clustering 2) Association Rule Learning and 3) Dimensionality Reduction.\n",
    "- Clustering: Clustering is the process of grouping data into clusters based on their similarities.\n",
    "- Association Rule Learning: This technique is a rule-based ML technique that finds out some very useful relations between parameters of a large data set.\n",
    "- Dimensionality Reduction: Dimensionality reduction is the process of reducing the number of features in a dataset while preserving as much information as possible."
   ]
  },
  {
   "cell_type": "code",
   "execution_count": null,
   "metadata": {},
   "outputs": [],
   "source": []
  }
 ],
 "metadata": {
  "kernelspec": {
   "display_name": "Python 3",
   "language": "python",
   "name": "python3"
  },
  "language_info": {
   "codemirror_mode": {
    "name": "ipython",
    "version": 3
   },
   "file_extension": ".py",
   "mimetype": "text/x-python",
   "name": "python",
   "nbconvert_exporter": "python",
   "pygments_lexer": "ipython3",
   "version": "3.13.0"
  }
 },
 "nbformat": 4,
 "nbformat_minor": 2
}
