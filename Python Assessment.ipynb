{
 "cells": [
  {
   "cell_type": "markdown",
   "metadata": {},
   "source": [
    "## Python Assessment"
   ]
  },
  {
   "cell_type": "code",
   "execution_count": 1,
   "metadata": {},
   "outputs": [],
   "source": [
    "class atm:\n",
    "\n",
    "    __counter = 1\n",
    "\n",
    "    def __init__(self):\n",
    "        self.pin=''\n",
    "        self.__balance=0\n",
    "        self.menu()\n",
    "        self.cid = atm.__counter\n",
    "        atm.__counter = atm.__counter+1\n",
    "\n",
    "    def get_balance(self):\n",
    "        return self.__balance\n",
    "    \n",
    "    def set_balance(self,new_value):\n",
    "        if type(new_value)==int:\n",
    "            self.__balance += new_value\n",
    "        else:\n",
    "            print(\"Value not valid\")\n",
    "\n",
    "    @staticmethod\n",
    "    def get_count():\n",
    "        return atm.__counter\n",
    "\n",
    "    def menu(self):\n",
    "        user_input = input(\"\"\"\n",
    "        Hello!! How are you??\n",
    "        How can I help you??\n",
    "        1. Press 1 -> To create a pin\n",
    "        2. Press 2 -> To deposit money\n",
    "        3. Press 3 -> To change your pin\n",
    "        4. Press 4 -> To check balance\n",
    "        5. Press 5 -> To withdraw money\n",
    "        6. Press 6 -> Exit\n",
    "        \"\"\")\n",
    "\n",
    "        if user_input == '1':\n",
    "            self.create_pin()\n",
    "        elif user_input == '2':\n",
    "            self.deposit_money()\n",
    "        elif user_input == '3':\n",
    "            self.change_pin()\n",
    "        elif user_input == '4':\n",
    "            self.check_balance()\n",
    "        elif user_input == '5':\n",
    "            self.withdraw_money()\n",
    "        else:\n",
    "            exit()\n",
    "\n",
    "    def create_pin(self):\n",
    "        user_pin = input(\"Enter your pin :\")\n",
    "        self.pin = user_pin\n",
    "        print(\"Your pin is created\")\n",
    "        self.menu()\n",
    "\n",
    "    def deposit_money(self):\n",
    "        user_pin = input(\"Enter your pin:\")\n",
    "        if user_pin == self.pin:\n",
    "            money = int(input(\"Enter the amount you want to deposit:\"))\n",
    "            self.set_balance(money)\n",
    "            print(f\"Deposited amount is {money}\")\n",
    "            self.menu()\n",
    "        else:\n",
    "            print(\"You entered wrong pin\")\n",
    "            self.menu()\n",
    "\n",
    "    def change_pin(self):\n",
    "        old_pin = input(\"Enter your old pin:\")\n",
    "        if old_pin == self.pin:\n",
    "            new_pin = input(\"Enter your new pin:\")\n",
    "            self.pin = new_pin\n",
    "            print(\"Your pin is updated\")\n",
    "            self.menu()\n",
    "        else:\n",
    "            print(\"You entered wrong pin\")\n",
    "            self.menu()\n",
    "\n",
    "    def check_balance(self):\n",
    "        user_pin = input(\"Enter your pin:\")\n",
    "        if user_pin == self.pin:\n",
    "            balance_check = input(\"\"\"\n",
    "            1. Press Y -> To check balance\n",
    "            2. Press N -> To exit\n",
    "            \"\"\")\n",
    "            if balance_check.upper() == 'Y':\n",
    "                print(f\"Your account balance is : {self.balance}\")\n",
    "                self.menu()\n",
    "            elif balance_check.upper() == 'N':\n",
    "                print(\"You press 'N'\")\n",
    "                self.menu()\n",
    "            else:\n",
    "                self.menu()\n",
    "        else:\n",
    "            print(\"You entered wrong pin\")\n",
    "            self.menu()\n",
    "\n",
    "    def withdraw_money(self):\n",
    "        user_pin = input(\"Enter your pin:\")\n",
    "        if user_pin == self.pin:\n",
    "            money = int(input(\"Enter the amount to be withdraw:\"))\n",
    "            if money <= self.balance:\n",
    "                self.balance -= money\n",
    "                print(f\"Your withdrawal amount is:{money}\")\n",
    "                self.menu()\n",
    "            else:\n",
    "                print(\"Insufficient Balance\")\n",
    "                self.menu()\n",
    "        else:\n",
    "            print(\"You entered wrong pin\")\n",
    "            self.menu()\n"
   ]
  },
  {
   "cell_type": "code",
   "execution_count": 2,
   "metadata": {},
   "outputs": [
    {
     "data": {
      "text/plain": [
       "1"
      ]
     },
     "execution_count": 2,
     "metadata": {},
     "output_type": "execute_result"
    }
   ],
   "source": [
    "user=atm()\n",
    "user.cid"
   ]
  },
  {
   "cell_type": "code",
   "execution_count": null,
   "metadata": {},
   "outputs": [
    {
     "ename": "",
     "evalue": "",
     "output_type": "error",
     "traceback": [
      "\u001b[1;31mThe Kernel crashed while executing code in the current cell or a previous cell. \n",
      "\u001b[1;31mPlease review the code in the cell(s) to identify a possible cause of the failure. \n",
      "\u001b[1;31mClick <a href='https://aka.ms/vscodeJupyterKernelCrash'>here</a> for more info. \n",
      "\u001b[1;31mView Jupyter <a href='command:jupyter.viewOutput'>log</a> for further details."
     ]
    }
   ],
   "source": [
    "user1=atm()"
   ]
  },
  {
   "cell_type": "code",
   "execution_count": 2,
   "metadata": {},
   "outputs": [
    {
     "ename": "",
     "evalue": "",
     "output_type": "error",
     "traceback": [
      "\u001b[1;31mThe Kernel crashed while executing code in the current cell or a previous cell. \n",
      "\u001b[1;31mPlease review the code in the cell(s) to identify a possible cause of the failure. \n",
      "\u001b[1;31mClick <a href='https://aka.ms/vscodeJupyterKernelCrash'>here</a> for more info. \n",
      "\u001b[1;31mView Jupyter <a href='command:jupyter.viewOutput'>log</a> for further details."
     ]
    }
   ],
   "source": [
    "user2=atm()"
   ]
  },
  {
   "cell_type": "code",
   "execution_count": null,
   "metadata": {},
   "outputs": [
    {
     "data": {
      "text/plain": [
       "1"
      ]
     },
     "execution_count": 3,
     "metadata": {},
     "output_type": "execute_result"
    }
   ],
   "source": [
    "atm.get_count()"
   ]
  },
  {
   "cell_type": "code",
   "execution_count": null,
   "metadata": {},
   "outputs": [],
   "source": [
    "# __counter = 1\n",
    "\n",
    "# # in init const.\n",
    "# # self.__id = ATM.__counter\n",
    "# #         ATM.__counter = ATM.__counter+1\n",
    "\n",
    "# @staticmethod\n",
    "#     def get_counter():\n",
    "#         return ATM.__counter\n",
    "\n",
    "# def print_user_count(self):\n",
    "#         count = ATM.get_counter()-1  # Subtract 1 since the counter increments even for the current instance.\n",
    "#         print(f\"Total number of ATM users: {count}\")"
   ]
  }
 ],
 "metadata": {
  "kernelspec": {
   "display_name": "Python 3",
   "language": "python",
   "name": "python3"
  },
  "language_info": {
   "codemirror_mode": {
    "name": "ipython",
    "version": 3
   },
   "file_extension": ".py",
   "mimetype": "text/x-python",
   "name": "python",
   "nbconvert_exporter": "python",
   "pygments_lexer": "ipython3",
   "version": "3.13.0"
  }
 },
 "nbformat": 4,
 "nbformat_minor": 2
}
